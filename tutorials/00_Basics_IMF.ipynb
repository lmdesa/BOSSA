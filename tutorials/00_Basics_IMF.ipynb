{
 "cells": [
  {
   "cell_type": "markdown",
   "id": "6494ac37",
   "metadata": {},
   "source": [
    "# Basics of BOSSA"
   ]
  },
  {
   "cell_type": "markdown",
   "id": "22cb78a0",
   "metadata": {},
   "source": [
    "BOSSA is an object-oriented code, with its main tools organized in four modules: `imf`, `zams`, `sfh` and `sampling`. The description below references sections, equations, figures and tables from the first BOSSA paper. Broadly, all classes either implement **distributions**, or are **sampling** from distributions. In this project, one goal is to recompute weights for pre-sampled binaries without sampling again, so you mostly need to worry about the distribution classes.\n",
    "\n",
    "* `imf`: self-explanatory, implements sec 2.1. All classes in this module are **distribution** classes.\n",
    "    * `PowerLawIMF`: a general class for power-law-series IMFs with an arbitrary number of breaks.\n",
    "    * `Star`: stellar IMF (sIMF), the `invariant` argument sets it to be either the Kroupa (2001) (`True`) or Jerabkova et al. (2018) (`False`, eqs 9-12) IMF, the latter based on the fit over metallicity by Marks et al. (2012); eq (9) is a case of a three-part power law series, and eq (7) is effectively a one-part power law series,\n",
    "    * `EmbeddedCluster`: the embedded cluster IMF (eIMF) from Jerabkova et al. (2018), itself ultimately based on the fit over SFR by Gunawardhana et al. (2011) (eqs 7, 8)\n",
    "    * `IGIMF`: the galaxy-wide IMF (gwIMF) from Jerabkova et al. (2018), integrating over the IMFs from `Star` and `EmbeddedCluster` (eq 13).\n",
    "    ----\n",
    "* `zams`: implements the correlated initial orbital parameter distributions from Moe & Di Stefano (2017) (MD17), the uncorrelated distributions, and draws orbital parameters for a list of masses. `ZAMSSystemGenerator` class is a **sampling** class, all others are **distribution** classes.\n",
    "    * `EccentricityDistribution`: either always draws e=0 (`canonical=True`) or samples from the MD17 distribution (`canonical=False`) (sec 2.2.2),\n",
    "    * `MassRatioDistribution`:  either uniform (`canonical=True`) or the correlated distribution from MD17 (`canonical=False`) (sec 2.2.1),\n",
    "    * `CompanionFrequencyDistributionHighQ`: this only implements the original fit from MD17 for the companion frequency as a function of primary mass and period in pairs of stars with q>0.3; this is not supposed to be accessed directly, but is instead used by the next class (sec 2.2.3);\n",
    "    * `CompanionFrequencyDistribution`: implements a log-uniform distribution (`uncorrelated=True`) or the distribution from MD17 for q>0.1 binaries (`uncorrelated=False`); the second case is calculated from `CompanionFrequencyDistributionHighQ` and an instance of `MassRatioDistribution` passed through the `q_distr` argument, as in eq (15) (sec 2.2.3),\n",
    "    * `MultipleFraction`: computes multiplicity fractions (single fraction, binary fraction, triple fraction...) as a function of primary mass, assuming either Only Binaries (`only_binaries=True`, fig 7) or All Multiples (`only_binaries=False`, fig 6); multiplicity fractions are computed following eqs (16-18); if `only_binaries=True`, they are summed into a single binary fraction as in eq (19) (section 2.2.4);\n",
    "    * `ZAMSSystemGenerator`: this class takes a list of masses (sampled from some IMF or however you like), and uses it to generate ZAMS systems of arbitrary order. Once the class is setup, everytime the user calls `ZAMSSystemGenerator().sample_system(ncomp, ncomp_max)`, it generates and returns a system, and remove its primary and companion masses from the original list of masses. This is the \"sampling without repetition\" method motivated by star formation physics discussed in secs 3.2.1 and 3.2.2. From the sampling steps defined in sec 3.2.2, this class implements step iii for all companions simultaneously. It is called by `sampling.SimpleBinaryPopulation`, which implements the other steps.\n",
    "    ----\n",
    "* `sfh`: implements all of the \"environmental condition\" distributions (from Chruślińska et al. 2019, 2020) that define the metallicity-specific cosmic star formation history (cSFH; this is the star formation rate density, Msun/yr/Mpc-3, as a function of metallicity and SFR), from section 2.3. These are the Star Formation-Mass Relation (SFMR, SFR as a function of galaxy stellar mass and redshift); the Mass-(Gas) Metallicity Relation (MZR, gas metallicity as a function of galaxy stellar star mass and redshift); and the Galaxy Stellar Mass Function (density of galaxies over galaxy stellar mass and redshift). All classes in this module are **distribution** classes. They are not used for computing weights, *but* can be used when computing merger rates later. They are not discussed in detail in the BOSSA paper, but in the original papers.\n",
    "    * `BoogardSFMR`, `SpeagleSFMR`, `TomczakSFMR`: different models for the SFMR, which the next class combines for the options actually available in BOSSA;\n",
    "    * `SFMR`: combines the three classes above to provide the Sharp, Moderate and No Flatenning SFMRs defined in section 2.3;\n",
    "    * `MZR`: provides all four options for the MZR described in section 2.3;\n",
    "    * `GSMF`: provides the Fixed Slope and Varying Slope models for the GSMF described in section 2.3;\n",
    "    * `Corrections`:  implements the correcting factors for the SFMR when using the Jerabkova et al. (2018) IMF (Varying). The factors are multiplicative factors computed as a function of the uncorrected SFR and metallicity. They were originally computed for a dense discrete grid by Chruślińska et al. (2020), which is freely available, and is included in BOSSA with permission from Martyna Chruślińska. This class interpolates from that grid for abritrary SFR, metallicity.\n",
    "    * `ChruslinskaSFRD`: computes the SFR density (SFRD) over metallicity and SFR for any combination of the SFMR, MZR and GSMF options. This generates the background colorplot from figures 8 and 9 in the BOSSA paper, inspired by figure 7 of Chruślińska et al. (2020).\n",
    "----\n",
    "* `sampling`: as the name implies, all the classes in this module are **sampling** classes. Because for computing weight you will not be resampling binaries, you don't need to worry about these too much for now.\n",
    "    * `RandomSampling`: this class takes a distribution, creates an interpolator over it, and then samples from the interpolator. It's meant to be used with distributions that are computed numerically (the Jerabkova IMF), to avoid having to do a numerical integral for every single probability.\n",
    "    * `GalaxyStellarMassSampling`: this samples galaxy stellar masses from an instance of `sfh.GSMF` for a fixed redshift through the quantile method. The *n-quantiles* of a distribution over some $x$ are the $n$ $x$ bins that each contain $1/n$ of the total sample/population/probability. This is the method used in \"scatterless sampling\", as described in section 3.1 and illustrated in the bottom-left panel of figure 8.\n",
    "    * `GalaxyGrid`: generates a sample of \"galaxies\", i.e., (z,SFR,Z) sets, the red crosses in figures 8 and 9. Samples from the GSMF, MZR and SFMR either with or without scatter as described in section 3.1.\n",
    "    * `SimpleBinaryPopulation`: generates a population (actually including systems up to any arbitrary order) for fixed z,SFR,Z (called a single stellar population, or SSP, in the paper). This class combines methods from all of the other classes to define its distributions. It generates the mass pool from the IMF and implements steps (i-iv) from section 3.2.2, calling `zams.ZAMSSystemGenerator` to execute step iii.\n",
    "    * `CompositeBinaryPopulation`: generates the complete population corresponding to all galaxies in a grid from `GalaxyGrid`, called a composite stelar population in the paper (CSP). It simply takes in a grid generated with `GalaxyGrid` and calls `SimpleBinaryPopulation`on each galaxy.\n",
    "\n",
    "\n",
    "\n",
    "BOSSA also has two auxiliary classes: `constants`, which holds physical constants, file paths and other immutable data shared by all modules; and `utils`, which holds various utility functions called by different modules (including the metallicity conversion). Many of the functions in the latter are deprecated.\n",
    "\n",
    "Lastly, BOSSA also contains the `postprocessing` class. This is the class that allows it to interact with COMPAS and which the computation of weights will provide a much more efficient alternative to. It contains functions for reformatting COMPAS output, cross-matching a BOSSA-generated initial population with COMPAS for re-sampling and an alternative (and more expensive) method for calculating merger rates from BOSSA+COMPAS output. Hopefully you will not need to touch this, as it is currently completely undocumented.\n",
    "\n",
    "*Note: if you happen to take some time to look through the code and experiment beyond what is described here, remember that methods that start with an underscore are 'private'[1] and not meant to be accessed directly. Calling them might cause unexpected behavior, but if you are curious, don't let that stop you!* \n",
    "\n",
    "*[1]Note of the note: Python doesn't have real private methods like some other languages; tagging methods with a _ is merely a convention to warn users that the method is not meant to be accessed directly*"
   ]
  },
  {
   "cell_type": "markdown",
   "id": "abac2ad9",
   "metadata": {},
   "source": [
    "# Using the distributions"
   ]
  },
  {
   "cell_type": "markdown",
   "id": "da21cf0c",
   "metadata": {},
   "source": [
    "While all the distributions have complete documentation, and the documentation for some contains examples, let us still go through the basics of calling them. BOSSA isn't yet properly packaged and available through pip, so you will have to clone the repository into your machine. You can use the environment.yml to prepare an environment for BOSSA to run in with an environment manager like conda. No further installation is required for the distribution classes."
   ]
  },
  {
   "cell_type": "markdown",
   "id": "66fc41e9",
   "metadata": {},
   "source": [
    "Let's start by importing everything we need, including utilities and the distributions that you will need to compute binary weights."
   ]
  },
  {
   "cell_type": "code",
   "execution_count": 1,
   "id": "d22b2f66",
   "metadata": {},
   "outputs": [],
   "source": [
    "import numpy as np\n",
    "import matplotlib.pyplot as plt\n",
    "from matplotlib import cm\n",
    "\n",
    "import sys\n",
    "sys.path.append('../src')\n",
    "from bossa.imf import Star, EmbeddedCluster, IGIMF\n",
    "from bossa.zams import EccentricityDistribution, MassRatioDistribution, CompanionFrequencyDistribution, MultipleFraction"
   ]
  },
  {
   "cell_type": "markdown",
   "id": "e72e5b74",
   "metadata": {},
   "source": [
    "You can take advantage of the documentation by calling the help function (but all the information is also in https://lmdesa.github.io/BOSSA/). Let's start with an example."
   ]
  },
  {
   "cell_type": "markdown",
   "id": "e7b17a39",
   "metadata": {},
   "source": [
    "For any class, you can get the complete class docstring by calling `help`. This will also tell you what arguments the class expects to be initialized with, what they mean and whether they have default values. The `Star` class, for example, by default creates a varying, Jerabkova IMF, at solar metallicity, with a total embedded cluster mass of $10^8\\,\\mathrm{M}_\\odot$ and a minimum possible cluster mass of $5\\,\\mathrm{M}_\\odot$."
   ]
  },
  {
   "cell_type": "code",
   "execution_count": 2,
   "id": "ae5a0766",
   "metadata": {},
   "outputs": [
    {
     "name": "stdout",
     "output_type": "stream",
     "text": [
      "Help on class Star in module bossa.imf:\n",
      "\n",
      "class Star(PowerLawIMF)\n",
      " |  Star(m_ecl=10000000.0, m_ecl_min=5.0, feh=0.0, invariant=False)\n",
      " |\n",
      " |  Compute the stellar initial mass function.\n",
      " |\n",
      " |  Compute the stellar initial mass function (sIMF) specific to a given\n",
      " |  star-forming region (embedded cluster, or ECL), with a set [Fe/H],\n",
      " |  and a total ECL stellar mass, ``m_tot``. According to the\n",
      " |  ``invariant`` attribute, the sIMF might either follow an invariant\n",
      " |  Kroupa (2001) [2]_ IMF or a metallicity- and star formation rate-\n",
      " |  dependent Jerabkova et al. (2018) [3]_ IMF.\n",
      " |\n",
      " |  Attributes\n",
      " |  ----------\n",
      " |  x\n",
      " |  g1\n",
      " |  g2\n",
      " |  feh : float\n",
      " |      Embedded cluster metallicity in [Fe/H].\n",
      " |  m_ecl_min : float\n",
      " |      Absolute minimum embedded cluster mass.\n",
      " |  _m_max : float\n",
      " |      Maximum stellar mass. Embedded cluster-specific.\n",
      " |  k1 : float\n",
      " |      m<0.5 IMF normalization constant.\n",
      " |  k2 : float\n",
      " |      0.5<=m<1 IMF normalization constant.\n",
      " |  k3 : float\n",
      " |      1<= IMF normalization constant.\n",
      " |  a1 : float\n",
      " |      First interval power-law index.\n",
      " |  a2 : float\n",
      " |      Second interval power-law index.\n",
      " |  a3: float\n",
      " |      Third interval power-law index.\n",
      " |\n",
      " |  Methods\n",
      " |  -------\n",
      " |  get_mmax_k()\n",
      " |      Solves the system of equations made up of methods f1 and f2 to\n",
      " |      determine m_max and k1.\n",
      " |\n",
      " |  Notes\n",
      " |  -----\n",
      " |  If invariant is set to False, the sIMF is as given by Jerabkova et al.\n",
      " |  (2018) [3]_. ``M_TRUNC_MIN`` is set at the hydrogen burning\n",
      " |  threshold of 0.08 Msun. Normalization constants ``k1`` and ``k2``\n",
      " |  are found from ``k3`` by continuity. ``k3`` and ``m_max`` are\n",
      " |  determined from two constraints.\n",
      " |\n",
      " |  ``M_TRUNC_MAX`` sets the mass of the most massive formable star,\n",
      " |  ``m_max``, but is not equal to it. Thus, the first constraint is\n",
      " |  obtained by imposing that the number of stars found with mass equal\n",
      " |  to or higher than ``m_max`` be one, i.e., by equating the integral\n",
      " |  of the IMF between ``m_max`` and ``M_TRUNC_MAX`` to unity. This\n",
      " |  constraint is expressed in method ``f1``.\n",
      " |\n",
      " |  ``m_tot`` does set the total formed stellar mass. Thus, the second\n",
      " |  constraint is obtained by integrating ``m*imf(m)`` between\n",
      " |  ``M_TRUNC_MIN`` and ``m_max``. This constraint is expressed in\n",
      " |  methods ``f1`` and ``f2``.\n",
      " |\n",
      " |  Solving ``f1`` and ``f2`` simultaneously determines ``m_max`` and\n",
      " |  ``k3``, which also determines ``k1`` and ``k2``. This is done by the\n",
      " |  method ``get_mmax_k``.\n",
      " |\n",
      " |  All masses are given and expected in solar masses.\n",
      " |\n",
      " |  References\n",
      " |  ----------\n",
      " |  .. [2] Kroupa, P. (2001). On the variation of the initial mass\n",
      " |      function. MNRAS, 322, 231.\n",
      " |      doi:10.1046/j.1365-8711.2001.04022.x\n",
      " |  .. [3] Jerabkova, T., Zonoozi, A. H., Kroupa, P., Beccari, G.,\n",
      " |      Yan, Z., Vazdekis, A., Zhang, Z.-Y. (2018). Impact of\n",
      " |      metallicity and star formation rate on the time-dependent,\n",
      " |      galaxy-wide stellar initial mass function. A&A, 620, A39.\n",
      " |      doi:10.1051/0004-6361/20183\n",
      " |\n",
      " |  Method resolution order:\n",
      " |      Star\n",
      " |      PowerLawIMF\n",
      " |      builtins.object\n",
      " |\n",
      " |  Methods defined here:\n",
      " |\n",
      " |  __init__(self, m_ecl=10000000.0, m_ecl_min=5.0, feh=0.0, invariant=False)\n",
      " |      Parameters\n",
      " |      ----------\n",
      " |      m_ecl : float\n",
      " |          Embedded cluster stellar mass.\n",
      " |      m_ecl_min : float\n",
      " |          Minimum possible embedded cluster mass.\n",
      " |      feh : float\n",
      " |          Embedded cluster [Fe/H].\n",
      " |      invariant : bool, default : False\n",
      " |          Whether to use an invariant IMF.\n",
      " |\n",
      " |  get_mmax_k(self)\n",
      " |      Use Scipy's fsolve to solve the two constraints with adequate\n",
      " |      initial guesses for k3 and _m_max.\n",
      " |\n",
      " |      After solving for k3 and _m_max, k1 and k2 are immediately\n",
      " |      determined. Automatically sets the IMF to zero for all\n",
      " |      masses if the star-forming region mass is below a minimum of 5\n",
      " |      solar masses.\n",
      " |\n",
      " |  ----------------------------------------------------------------------\n",
      " |  Readonly properties defined here:\n",
      " |\n",
      " |  a1\n",
      " |      IMF exponent for m < 0.5 Msun. Function of [Fe/H].\n",
      " |\n",
      " |  a2\n",
      " |      IMF exponent for 0.5 Msun <= m < 1.0 Msun. Function\n",
      " |      of [Fe/H].\n",
      " |\n",
      " |  a3\n",
      " |      IMF exponent for m >= 1.0 Msun. Dependent on [Fe/H]\n",
      " |      and m_tot through the auxiliary variable x.\n",
      " |\n",
      " |  g1\n",
      " |      Auxiliary variable g1. Related to the IMF integral\n",
      " |      over low masses.\n",
      " |\n",
      " |  g2\n",
      " |      Auxiliary variable g2. Related to the IMF integral\n",
      " |      over intermediary masses.\n",
      " |\n",
      " |  x\n",
      " |      Auxiliary variable. Function of [Fe/H] and m_tot.\n",
      " |\n",
      " |  ----------------------------------------------------------------------\n",
      " |  Data and other attributes defined here:\n",
      " |\n",
      " |  BREAKS = [0.08, 0.5, 1.0, 150.0]\n",
      " |\n",
      " |  M_TRUNC_MAX = 150.0\n",
      " |\n",
      " |  M_TRUNC_MIN = 0.08\n",
      " |\n",
      " |  ----------------------------------------------------------------------\n",
      " |  Methods inherited from PowerLawIMF:\n",
      " |\n",
      " |  imf(self, m)\n",
      " |      Compute dN/dM at a given mass.\n",
      " |\n",
      " |      Compute dN/dM at mass ``m``. As some subclasses migh require a\n",
      " |      ``set_mmax_k()`` method to be run to compute ``m_max`` and\n",
      " |      the normalization constants, warn the user if ``m_mas`` is None.\n",
      " |\n",
      " |      Parameters\n",
      " |      ----------\n",
      " |      m : float\n",
      " |          Mass at which to compute dN/dM.\n",
      " |\n",
      " |      Returns\n",
      " |      -------\n",
      " |      float\n",
      " |          dN/dM at ``m``.\n",
      " |\n",
      " |      Warns\n",
      " |      -----\n",
      " |      UserWarning\n",
      " |          If ``m_max`` is None (``set_mmax_k`` not run).\n",
      " |\n",
      " |  integrate(self, m0, m1, mass=False, normalized=True)\n",
      " |      Integrate for number or mass with or without normalization.\n",
      " |\n",
      " |      Parameters\n",
      " |      ----------\n",
      " |      m0 : float\n",
      " |          Lower integration limit.\n",
      " |      m1 : float\n",
      " |          Upper integration limit.\n",
      " |      mass : bool, default : False\n",
      " |          Whether to integrate for nuber (False) or mass (True).\n",
      " |      normalized : bool, default : True\n",
      " |          Whether to multiply (True) or not (False) by ``norms``.\n",
      " |\n",
      " |      Returns\n",
      " |      -------\n",
      " |      integral : float\n",
      " |          Result of the integration.\n",
      " |\n",
      " |  ----------------------------------------------------------------------\n",
      " |  Data descriptors inherited from PowerLawIMF:\n",
      " |\n",
      " |  __dict__\n",
      " |      dictionary for instance variables\n",
      " |\n",
      " |  __weakref__\n",
      " |      list of weak references to the object\n",
      " |\n",
      " |  breaks\n",
      " |      Power-law breaks.\n",
      " |\n",
      " |  exponents\n",
      " |      Padded broken power-law exponents.\n",
      " |\n",
      " |      Padded broken power-law exponents. The first and last exponents\n",
      " |      are repeated in the padding. The padding is expected when\n",
      " |      computing the norms and locating the appropriate region for\n",
      " |      masses are passed to ``imf(m)`` and ``integrate(m0, m1)``.\n",
      " |\n",
      " |  m_max\n",
      " |      Upper limit of the IMF.\n",
      " |\n",
      " |      Upper limit of the IMF. Will not overwrite itself in a child\n",
      " |      class if also defined there.\n",
      " |\n",
      " |  m_tot\n",
      " |      Total mass represented by the IMF.\n",
      " |\n",
      " |      Total mass represented by the IMF. Will not overwrite itself in\n",
      " |      a child class if also defined there.\n",
      " |\n",
      " |  m_trunc_max\n",
      " |      Upper truncation mass of the IMF.\n",
      " |\n",
      " |      Upper truncation mass of the IMF. Will not overwrite\n",
      " |      itself in a child class if also defined there.\n",
      " |\n",
      " |  m_trunc_min\n",
      " |      Lower truncation mass of the IMF.\n",
      " |\n",
      " |      Lower truncation mass of the IMF. Treated as the lower limit of\n",
      " |      the IMF. Will not overwrite itself in a child class if also\n",
      " |      defined there.\n",
      " |\n",
      " |  norms\n",
      " |      Padded broken power-law normalization constants.\n",
      " |\n",
      " |      Padded broken power-law normalization constants. Zeros are added\n",
      " |      in the padding. The padding is expected when computing the norms\n",
      " |      and when locating the appropriate region for masses passed to\n",
      " |      ``imf(m)`` and ``integrate(m0, m1)``.\n",
      "\n"
     ]
    }
   ],
   "source": [
    "help(Star)"
   ]
  },
  {
   "cell_type": "markdown",
   "id": "43a1dbe7",
   "metadata": {},
   "source": [
    "Calling help on the class should give the docstring for all methods. If you want to get the docstring for a method directly, you can also call"
   ]
  },
  {
   "cell_type": "code",
   "execution_count": 3,
   "id": "6ed70358",
   "metadata": {},
   "outputs": [
    {
     "name": "stdout",
     "output_type": "stream",
     "text": [
      "Help on function get_mmax_k in module bossa.imf:\n",
      "\n",
      "get_mmax_k(self)\n",
      "    Use Scipy's fsolve to solve the two constraints with adequate\n",
      "    initial guesses for k3 and _m_max.\n",
      "\n",
      "    After solving for k3 and _m_max, k1 and k2 are immediately\n",
      "    determined. Automatically sets the IMF to zero for all\n",
      "    masses if the star-forming region mass is below a minimum of 5\n",
      "    solar masses.\n",
      "\n"
     ]
    }
   ],
   "source": [
    "help(Star.get_mmax_k)"
   ]
  },
  {
   "cell_type": "markdown",
   "id": "51bde66d",
   "metadata": {},
   "source": [
    "We can now look into the basic way to use each class."
   ]
  },
  {
   "cell_type": "markdown",
   "id": "ff0aea61",
   "metadata": {},
   "source": [
    "## IMFs"
   ]
  },
  {
   "cell_type": "markdown",
   "id": "c036091a",
   "metadata": {},
   "source": [
    "The IMF classes will all allow you to get the dN/dM, which you can treat as a probability density, from an `imf` method. Often there are \"setup\" methods that need to be called before you can compute probabilities (this is also true for the other ZAMS functions). Generally, the docstring should let you know if setup is required, and not doing the setup should give an error message that tells you what to do (but let me know if instructions are missing)."
   ]
  },
  {
   "cell_type": "markdown",
   "id": "882ff8db",
   "metadata": {},
   "source": [
    "For example, if we try to use the stellar IMF with default settings without setting up, we get an informative error message."
   ]
  },
  {
   "cell_type": "code",
   "execution_count": 4,
   "id": "5decd3a9",
   "metadata": {},
   "outputs": [
    {
     "name": "stderr",
     "output_type": "stream",
     "text": [
      "/home/lucasmdesa/Documents/GitHub/BOSSA/tutorials/../src/bossa/imf.py:327: UserWarning: m_max not yet defined. Please run set_mmax_k().\n",
      "  warnings.warn('m_max not yet defined. '\n"
     ]
    }
   ],
   "source": [
    "star = Star()\n",
    "star.imf(100)"
   ]
  },
  {
   "cell_type": "markdown",
   "id": "d2ba233b",
   "metadata": {},
   "source": [
    "Let's do it properly now."
   ]
  },
  {
   "cell_type": "code",
   "execution_count": 5,
   "id": "78bc50c4",
   "metadata": {},
   "outputs": [],
   "source": [
    "star = Star()\n",
    "star.get_mmax_k()"
   ]
  },
  {
   "cell_type": "markdown",
   "id": "dc812422",
   "metadata": {},
   "source": [
    "What did we just do? We can ask Python for help."
   ]
  },
  {
   "cell_type": "code",
   "execution_count": 6,
   "id": "54ff195b",
   "metadata": {},
   "outputs": [
    {
     "name": "stdout",
     "output_type": "stream",
     "text": [
      "Help on method get_mmax_k in module bossa.imf:\n",
      "\n",
      "get_mmax_k() method of bossa.imf.Star instance\n",
      "    Use Scipy's fsolve to solve the two constraints with adequate\n",
      "    initial guesses for k3 and _m_max.\n",
      "\n",
      "    After solving for k3 and _m_max, k1 and k2 are immediately\n",
      "    determined. Automatically sets the IMF to zero for all\n",
      "    masses if the star-forming region mass is below a minimum of 5\n",
      "    solar masses.\n",
      "\n"
     ]
    }
   ],
   "source": [
    "help(star.get_mmax_k)"
   ]
  },
  {
   "cell_type": "markdown",
   "id": "7a3db6fd",
   "metadata": {},
   "source": [
    "We see that this numerically solves the two integrals that define k3 and m_max in IGIMF theory, equations 4 and 5 in the first BOSSA paper. This is done to set the two parametes regardless of whether the IMF is invariant or not. Once the setup is done, we can get the IMF."
   ]
  },
  {
   "cell_type": "code",
   "execution_count": 7,
   "id": "528db33c",
   "metadata": {},
   "outputs": [
    {
     "name": "stderr",
     "output_type": "stream",
     "text": [
      "<>:28: SyntaxWarning: invalid escape sequence '\\,'\n",
      "<>:28: SyntaxWarning: invalid escape sequence '\\,'\n",
      "/tmp/ipykernel_373575/845901994.py:28: SyntaxWarning: invalid escape sequence '\\,'\n",
      "  ax.set_ylabel('$\\\\mathrm{d}N/\\\\mathrm{d}M\\,(\\mathrm{M}_\\odot^{-1})$')\n"
     ]
    },
    {
     "data": {
      "text/plain": [
       "Text(0, 0.5, '$\\\\mathrm{d}N/\\\\mathrm{d}M\\\\,(\\\\mathrm{M}_\\\\odot^{-1})$')"
      ]
     },
     "execution_count": 7,
     "metadata": {},
     "output_type": "execute_result"
    },
    {
     "data": {
      "image/png": "[encoded data removed]",
      "text/plain": [
       "<Figure size 800x400 with 1 Axes>"
      ]
     },
     "metadata": {},
     "output_type": "display_data"
    }
   ],
   "source": [
    "plot_m = np.logspace(-1, 2, 100)\n",
    "\n",
    "# We can do\n",
    "star = Star()\n",
    "star.get_mmax_k()\n",
    "plot_imf = np.array([star.imf(m) for m in plot_m])\n",
    "# Note that, for technical reasons, many functions in bossa are not yet\n",
    "# vectorized, so list comprehesion as above is required. However, you are always\n",
    "# free to vecotrize them externally, like this:\n",
    "star = Star(invariant=True)\n",
    "star.get_mmax_k()\n",
    "vec_imf = np.vectorize(star.imf)\n",
    "plot_kroupa_imf = vec_imf(plot_m)\n",
    "\n",
    "star = Star(invariant=False)\n",
    "star.get_mmax_k()\n",
    "vec_imf = np.vectorize(star.imf)\n",
    "plot_jerabkova_imf = vec_imf(plot_m)\n",
    "\n",
    "fig, ax = plt.subplots(figsize=(8, 4))\n",
    "ax.plot(plot_m, plot_kroupa_imf, 'r-', label='Kroupa (2001)')\n",
    "ax.plot(plot_m, plot_jerabkova_imf, 'b-', label='Jerabkova et al. (2018)')\n",
    "\n",
    "ax.legend(frameon=False)\n",
    "ax.set_xscale('log')\n",
    "ax.set_yscale('log')\n",
    "ax.set_xlabel('$M/\\\\mathrm{M}_\\\\odot$')\n",
    "ax.set_ylabel('$\\\\mathrm{d}N/\\\\mathrm{d}M\\,(\\mathrm{M}_\\odot^{-1})$')"
   ]
  },
  {
   "cell_type": "markdown",
   "id": "78d2b29e",
   "metadata": {},
   "source": [
    "Note how much flatter the Jerabkova IMF is: all else kept equal, it will produce considerably more black hole progenitors than the Kroupa IMF. But that is a Varying IMF, and this is for only one group of settings. Can you look use the docstring, help functions and the paper to find the physical variables that control the IMF and explore variations?"
   ]
  },
  {
   "cell_type": "markdown",
   "id": "152c9818",
   "metadata": {},
   "source": [
    "Remember that, in IGIMF theory, this is still the stellar IMF of a single embedded cluster (eIMF). To get the mass distribution of ECLs, we call a different class."
   ]
  },
  {
   "cell_type": "code",
   "execution_count": 8,
   "id": "2d72de64",
   "metadata": {},
   "outputs": [],
   "source": [
    "ecl = EmbeddedCluster()\n",
    "ecl.imf(1e5)"
   ]
  },
  {
   "cell_type": "markdown",
   "id": "1b90a568",
   "metadata": {},
   "source": [
    "Oops again!"
   ]
  },
  {
   "cell_type": "code",
   "execution_count": 9,
   "id": "190fdb90",
   "metadata": {},
   "outputs": [
    {
     "data": {
      "text/plain": [
       "7.464961182312918e-07"
      ]
     },
     "execution_count": 9,
     "metadata": {},
     "output_type": "execute_result"
    }
   ],
   "source": [
    "ecl = EmbeddedCluster()\n",
    "ecl.get_mmax_k()\n",
    "ecl.imf(1e6)"
   ]
  },
  {
   "cell_type": "code",
   "execution_count": 10,
   "id": "a62ea8a9",
   "metadata": {},
   "outputs": [
    {
     "name": "stderr",
     "output_type": "stream",
     "text": [
      "<>:15: SyntaxWarning: invalid escape sequence '\\m'\n",
      "<>:16: SyntaxWarning: invalid escape sequence '\\m'\n",
      "<>:15: SyntaxWarning: invalid escape sequence '\\m'\n",
      "<>:16: SyntaxWarning: invalid escape sequence '\\m'\n",
      "/tmp/ipykernel_373575/3714957556.py:15: SyntaxWarning: invalid escape sequence '\\m'\n",
      "  ax.set_xlabel('$M_\\mathrm{ecl}/\\\\mathrm{M}_\\\\odot$')\n",
      "/tmp/ipykernel_373575/3714957556.py:16: SyntaxWarning: invalid escape sequence '\\m'\n",
      "  ax.set_ylabel('$\\\\mathrm{d}N/\\\\mathrm{d}M_\\mathrm{ecl}\\,(\\mathrm{M}_\\odot^{-1})$')\n"
     ]
    },
    {
     "data": {
      "text/plain": [
       "Text(0, 0.5, '$\\\\mathrm{d}N/\\\\mathrm{d}M_\\\\mathrm{ecl}\\\\,(\\\\mathrm{M}_\\\\odot^{-1})$')"
      ]
     },
     "execution_count": 10,
     "metadata": {},
     "output_type": "execute_result"
    },
    {
     "data": {
      "image/png": "[encoded data removed]",
      "text/plain": [
       "<Figure size 800x400 with 1 Axes>"
      ]
     },
     "metadata": {},
     "output_type": "display_data"
    }
   ],
   "source": [
    "plot_m = np.logspace(0, 9, 100)\n",
    "\n",
    "ecl = EmbeddedCluster()\n",
    "ecl.get_mmax_k()\n",
    "ecl.imf(1e5)\n",
    "vec_imf = np.vectorize(ecl.imf)\n",
    "plot_ecl_imf = vec_imf(plot_m)\n",
    "\n",
    "fig, ax = plt.subplots(figsize=(8, 4))\n",
    "ax.plot(plot_m, plot_ecl_imf, 'r-', label='Embedded clusters')\n",
    "\n",
    "ax.legend(frameon=False)\n",
    "ax.set_xscale('log')\n",
    "ax.set_yscale('log')\n",
    "ax.set_xlabel('$M_\\mathrm{ecl}/\\\\mathrm{M}_\\\\odot$')\n",
    "ax.set_ylabel('$\\\\mathrm{d}N/\\\\mathrm{d}M_\\mathrm{ecl}\\,(\\mathrm{M}_\\odot^{-1})$')"
   ]
  },
  {
   "cell_type": "markdown",
   "id": "e396e13a",
   "metadata": {},
   "source": [
    "Can you investigate variations in the cluster IMF too?"
   ]
  },
  {
   "cell_type": "markdown",
   "id": "6be1dffb",
   "metadata": {},
   "source": [
    "Although the IGIMF class is a lot more complicated under the hood, using it is still simple, if slower."
   ]
  },
  {
   "cell_type": "code",
   "execution_count": 11,
   "id": "fddd863b",
   "metadata": {},
   "outputs": [
    {
     "data": {
      "text/plain": [
       "391.70104087223757"
      ]
     },
     "execution_count": 11,
     "metadata": {},
     "output_type": "execute_result"
    }
   ],
   "source": [
    "igimf = IGIMF()\n",
    "igimf.set_clusters()\n",
    "igimf.imf(100)"
   ]
  },
  {
   "cell_type": "markdown",
   "id": "bb739ec7",
   "metadata": {},
   "source": [
    "As before, anytime you meet a new method, if you want to get an idea about what it does without diving fully into the source code, you can call the help function."
   ]
  },
  {
   "cell_type": "code",
   "execution_count": 12,
   "id": "01efec9c",
   "metadata": {},
   "outputs": [
    {
     "name": "stdout",
     "output_type": "stream",
     "text": [
      "Help on method set_clusters in module bossa.imf:\n",
      "\n",
      "set_clusters() method of bossa.imf.IGIMF instance\n",
      "    Instantiate an EmbeddedCluster object and compute the maximum\n",
      "    ECL mass.\n",
      "\n",
      "    Instantiate an EmbeddedCluster object and compute the maximum\n",
      "    ECL mass, which is also saved as an instance attribute.\n",
      "\n",
      "    Warnings\n",
      "    --------\n",
      "    Must be called before the imf method, otherwise the eIMF will\n",
      "    not be available for integration.\n",
      "\n"
     ]
    }
   ],
   "source": [
    "help(igimf.set_clusters)"
   ]
  },
  {
   "cell_type": "code",
   "execution_count": 13,
   "id": "d548cabd",
   "metadata": {},
   "outputs": [
    {
     "name": "stdout",
     "output_type": "stream",
     "text": [
      "Help on method imf in module bossa.imf:\n",
      "\n",
      "imf(m) method of bossa.imf.IGIMF instance\n",
      "    Integrate the product of the sIMF and the eIMF with respect\n",
      "    to ECL mass, for a given stellar mass.\n",
      "\n",
      "    Integrate the product of the sIMF and the eIMF with respect to\n",
      "    ECL mass, for a given stellar mass, using Scipy's quad function.\n",
      "\n",
      "    Parameters\n",
      "    ----------\n",
      "    m : float\n",
      "        Star mass at which to compute the imf.\n",
      "\n",
      "    Returns\n",
      "    -------\n",
      "    imf : float\n",
      "        IMF value at mass m.\n",
      "\n",
      "    Warns\n",
      "    ------\n",
      "    UserWarning\n",
      "        If 'clusters' is not defined (get_clusters() has not been\n",
      "        run).\n",
      "\n"
     ]
    }
   ],
   "source": [
    "help(igimf.imf)"
   ]
  },
  {
   "cell_type": "markdown",
   "id": "db0c72e6",
   "metadata": {},
   "source": [
    "The Kroupa IMF is invariant, an so integrating it over all clusters in a galaxy would yield the Kroupa IMF again. With what we learned, we can now check how different the Jerabkova IMF looks to the Kroupa IMF in different environments."
   ]
  },
  {
   "cell_type": "code",
   "execution_count": 14,
   "id": "7c51644d",
   "metadata": {},
   "outputs": [
    {
     "data": {
      "text/plain": [
       "Text(0, 0.5, '$\\\\mathrm{d}N/\\\\mathrm{d}M\\\\,(\\\\mathrm{M}_\\\\odot^{-1})$')"
      ]
     },
     "execution_count": 14,
     "metadata": {},
     "output_type": "execute_result"
    },
    {
     "data": {
      "image/png": "[encoded data removed]",
      "text/plain": [
       "<Figure size 800x400 with 1 Axes>"
      ]
     },
     "metadata": {},
     "output_type": "display_data"
    }
   ],
   "source": [
    "plot_m = np.logspace(-1, 2, 100)\n",
    "sfr = 1 # Msun/yr\n",
    "feh = 0  # remember that [Fe/H] ~ log10(Z/Zsun), so this is solar metallicity\n",
    "\n",
    "star = Star(invariant=True)\n",
    "star.get_mmax_k()\n",
    "vec_imf = np.vectorize(star.imf)\n",
    "plot_kroupa_imf = vec_imf(plot_m)\n",
    "\n",
    "igimf = IGIMF(sfr=sfr, feh=feh)\n",
    "igimf.set_clusters()\n",
    "vec_imf = np.vectorize(igimf.imf)\n",
    "plot_jerabkova_imf = vec_imf(plot_m)\n",
    "\n",
    "fig, ax = plt.subplots(figsize=(8, 4))\n",
    "ax.plot(plot_m, plot_kroupa_imf, 'r-', label='Kroupa (2001)')\n",
    "ax.plot(plot_m, plot_jerabkova_imf, 'b-', label='Jerabkova et al. (2018)')\n",
    "\n",
    "ax.legend(frameon=False)\n",
    "ax.set_xscale('log')\n",
    "ax.set_yscale('log')\n",
    "ax.set_xlabel('$M/\\\\mathrm{M}_\\\\odot$')\n",
    "ax.set_ylabel('$\\\\mathrm{d}N/\\\\mathrm{d}M\\\\,(\\\\mathrm{M}_\\\\odot^{-1})$')"
   ]
  },
  {
   "cell_type": "markdown",
   "id": "2954944b",
   "metadata": {},
   "source": [
    "Can you explore variations of the IMF with metallicity and the SFR? How would the weight (probability) of some your binaries change if you change the IMF?"
   ]
  }
 ],
 "metadata": {
  "kernelspec": {
   "display_name": "bossa",
   "language": "python",
   "name": "python3"
  },
  "language_info": {
   "codemirror_mode": {
    "name": "ipython",
    "version": 3
   },
   "file_extension": ".py",
   "mimetype": "text/x-python",
   "name": "python",
   "nbconvert_exporter": "python",
   "pygments_lexer": "ipython3",
   "version": "undefined.undefined.undefined"
  }
 },
 "nbformat": 4,
 "nbformat_minor": 5
}
