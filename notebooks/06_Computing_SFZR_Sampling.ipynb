{
 "cells": [
  {
   "cell_type": "markdown",
   "id": "c778d2fd-d384-4536-85d7-009918b0cfea",
   "metadata": {},
   "source": [
    "# Notebook 26: Full SFR computation without dispersion"
   ]
  },
  {
   "cell_type": "markdown",
   "id": "08e72b35-41c3-4417-ab58-8ae9c4d65851",
   "metadata": {},
   "source": [
    "In this Notebook we reconsider the method porposed in Notebook 24, but this time we employ and update version of the code that allows us to fully map the space of valid redshift-metallicity pairs. We then compare them with the redshift-dependent metallicity distribution from Neijssel et al. (2019) in order to verify how limited we are."
   ]
  },
  {
   "cell_type": "markdown",
   "id": "01207cb5-f0a8-4014-b05d-4eaf8d246172",
   "metadata": {},
   "source": [
    "#### Prelude"
   ]
  },
  {
   "cell_type": "code",
   "execution_count": 1,
   "id": "56864ced-a2c9-4997-af02-aa16d15a00a5",
   "metadata": {},
   "outputs": [
    {
     "name": "stderr",
     "output_type": "stream",
     "text": [
      "../src\\constants.py:72: VisibleDeprecationWarning: Creating an ndarray from ragged nested sequences (which is a list-or-tuple of lists-or-tuples-or ndarrays with different lengths or shapes) is deprecated. If you meant to do this, you must specify 'dtype=object' when creating the ndarray.\n",
      "  [9.00, (-2.38, -6.244125144, 10.54)]\n"
     ]
    }
   ],
   "source": [
    "import numpy as np\n",
    "import matplotlib.pyplot as plt\n",
    "from matplotlib import cm\n",
    "from pathlib import Path\n",
    "try:\n",
    "    import cPickle as pickle\n",
    "except ModuleNotFoundError:\n",
    "    import pickle\n",
    "    \n",
    "import sys\n",
    "sys.path.append('../src/')\n",
    "from sfr import SFZR\n",
    "from sampling import OSGIMF, save_osgimf_instance\n",
    "from utils import sample_histogram, ZOH_from_FeH, FeH_to_Z, ZOH_to_FeH\n",
    "from zdf import NeijsselZDF, MetallicityPicker\n",
    "import constants as ct"
   ]
  },
  {
   "cell_type": "markdown",
   "id": "6ad5cb5d-d99f-40fc-a685-a43f48461a07",
   "metadata": {},
   "source": [
    "#### The SFR grid and metallicity distribution"
   ]
  },
  {
   "cell_type": "code",
   "execution_count": 2,
   "id": "907b563f-b046-4437-bfff-3793c50be33a",
   "metadata": {},
   "outputs": [],
   "source": [
    "def zoh_limit(z, params):\n",
    "    dz = params[-1]\n",
    "    za = params[0]\n",
    "    return za + dz*(z-3.5)"
   ]
  },
  {
   "cell_type": "code",
   "execution_count": 3,
   "id": "b0647f60-2ead-4fc3-9223-7ea65cc57fc0",
   "metadata": {},
   "outputs": [],
   "source": [
    "SFZRtest_z = np.linspace(0, 11, 50)\n",
    "SFZRtest_FeH = np.linspace(-4, 1.5, 50) \n",
    "SFZRtest_ZOH = np.array([ZOH_from_FeH(feh) for feh in SFZRtest_FeH])\n",
    "SFZRtest_Z = np.array([FeH_to_Z(feh) for feh in SFZRtest_FeH])"
   ]
  },
  {
   "cell_type": "code",
   "execution_count": 4,
   "id": "6d9b23a0-e170-4bd5-87fc-897d1597aaad",
   "metadata": {
    "tags": []
   },
   "outputs": [
    {
     "name": "stderr",
     "output_type": "stream",
     "text": [
      "../src\\sfr.py:507: RuntimeWarning: invalid value encountered in power\n",
      "  log_sfr = sfmr.b + sfmr.a * np.log10(m_to * (z_exp - 1)**(-1/gamma))\n"
     ]
    }
   ],
   "source": [
    "n = len(SFZRtest_FeH)\n",
    "testSFZRs = np.empty((0,n), np.float64)\n",
    "\n",
    "for z in SFZRtest_z:\n",
    "    sfzr = SFZR(np.array([z]), 'KK04')\n",
    "    sfzr.set_MZR_params()\n",
    "    testSFZR = np.array([np.log10(sfzr.get_sfr([zoh])[0,0]) for zoh in SFZRtest_ZOH])\n",
    "    testSFZRs = np.append(testSFZRs, testSFZR.reshape(1,n), axis=0)"
   ]
  },
  {
   "cell_type": "code",
   "execution_count": 6,
   "id": "0310ee01-738d-4eeb-ae4c-834231767f4e",
   "metadata": {
    "tags": []
   },
   "outputs": [
    {
     "name": "stderr",
     "output_type": "stream",
     "text": [
      "../src\\zdf.py:112: RuntimeWarning: invalid value encountered in log\n",
      "  exp = np.exp(-(np.log(metallicity)-self.mu)**2/(2*self.sigma**2))\n"
     ]
    },
    {
     "name": "stdout",
     "output_type": "stream",
     "text": [
      "Optimization terminated successfully.\n",
      "         Current function value: -34.027717\n",
      "         Iterations: 20\n",
      "         Function evaluations: 40\n",
      "Optimization terminated successfully.\n",
      "         Current function value: -38.323590\n",
      "         Iterations: 21\n",
      "         Function evaluations: 42\n",
      "Optimization terminated successfully.\n",
      "         Current function value: -43.161716\n",
      "         Iterations: 21\n",
      "         Function evaluations: 42\n",
      "Optimization terminated successfully.\n",
      "         Current function value: -48.610657\n",
      "         Iterations: 22\n",
      "         Function evaluations: 44\n",
      "Optimization terminated successfully.\n",
      "         Current function value: -54.747472\n",
      "         Iterations: 23\n",
      "         Function evaluations: 46\n",
      "Optimization terminated successfully.\n",
      "         Current function value: -61.659028\n",
      "         Iterations: 23\n",
      "         Function evaluations: 46\n",
      "Optimization terminated successfully.\n",
      "         Current function value: -69.443145\n",
      "         Iterations: 23\n",
      "         Function evaluations: 46\n",
      "Optimization terminated successfully.\n",
      "         Current function value: -78.209724\n",
      "         Iterations: 22\n",
      "         Function evaluations: 44\n",
      "Optimization terminated successfully.\n",
      "         Current function value: -88.083542\n",
      "         Iterations: 24\n",
      "         Function evaluations: 48\n",
      "Optimization terminated successfully.\n",
      "         Current function value: -99.203600\n",
      "         Iterations: 24\n",
      "         Function evaluations: 48\n",
      "Optimization terminated successfully.\n",
      "         Current function value: -111.727506\n",
      "         Iterations: 26\n",
      "         Function evaluations: 52\n",
      "Optimization terminated successfully.\n",
      "         Current function value: -125.832453\n",
      "         Iterations: 25\n",
      "         Function evaluations: 50\n",
      "Optimization terminated successfully.\n",
      "         Current function value: -141.718139\n",
      "         Iterations: 26\n",
      "         Function evaluations: 52\n",
      "Optimization terminated successfully.\n",
      "         Current function value: -159.609252\n",
      "         Iterations: 26\n",
      "         Function evaluations: 52\n",
      "Optimization terminated successfully.\n",
      "         Current function value: -179.759040\n",
      "         Iterations: 27\n",
      "         Function evaluations: 54\n",
      "Optimization terminated successfully.\n",
      "         Current function value: -202.452570\n",
      "         Iterations: 26\n",
      "         Function evaluations: 52\n",
      "Optimization terminated successfully.\n",
      "         Current function value: -228.011062\n",
      "         Iterations: 27\n",
      "         Function evaluations: 54\n",
      "Optimization terminated successfully.\n",
      "         Current function value: -256.796244\n",
      "         Iterations: 28\n",
      "         Function evaluations: 56\n",
      "Optimization terminated successfully.\n",
      "         Current function value: -289.215355\n",
      "         Iterations: 29\n",
      "         Function evaluations: 58\n",
      "Optimization terminated successfully.\n",
      "         Current function value: -325.727142\n",
      "         Iterations: 28\n",
      "         Function evaluations: 56\n",
      "Optimization terminated successfully.\n",
      "         Current function value: -366.848364\n",
      "         Iterations: 28\n",
      "         Function evaluations: 56\n",
      "Optimization terminated successfully.\n",
      "         Current function value: -413.160964\n",
      "         Iterations: 29\n",
      "         Function evaluations: 58\n",
      "Optimization terminated successfully.\n",
      "         Current function value: -465.320238\n",
      "         Iterations: 30\n",
      "         Function evaluations: 60\n",
      "Optimization terminated successfully.\n",
      "         Current function value: -524.064090\n",
      "         Iterations: 29\n",
      "         Function evaluations: 58\n",
      "Optimization terminated successfully.\n",
      "         Current function value: -590.224541\n",
      "         Iterations: 31\n",
      "         Function evaluations: 62\n",
      "Optimization terminated successfully.\n",
      "         Current function value: -664.737094\n",
      "         Iterations: 31\n",
      "         Function evaluations: 62\n",
      "Optimization terminated successfully.\n",
      "         Current function value: -748.656422\n",
      "         Iterations: 31\n",
      "         Function evaluations: 62\n",
      "Optimization terminated successfully.\n",
      "         Current function value: -843.170122\n",
      "         Iterations: 31\n",
      "         Function evaluations: 62\n",
      "Optimization terminated successfully.\n",
      "         Current function value: -949.615285\n",
      "         Iterations: 31\n",
      "         Function evaluations: 62\n",
      "Optimization terminated successfully.\n",
      "         Current function value: -1069.499375\n",
      "         Iterations: 33\n",
      "         Function evaluations: 66\n",
      "Optimization terminated successfully.\n",
      "         Current function value: -1204.517688\n",
      "         Iterations: 33\n",
      "         Function evaluations: 66\n",
      "Optimization terminated successfully.\n",
      "         Current function value: -1356.581370\n",
      "         Iterations: 34\n",
      "         Function evaluations: 68\n",
      "Optimization terminated successfully.\n",
      "         Current function value: -1527.842190\n",
      "         Iterations: 34\n",
      "         Function evaluations: 68\n",
      "Optimization terminated successfully.\n",
      "         Current function value: -1720.723609\n",
      "         Iterations: 34\n",
      "         Function evaluations: 68\n",
      "Optimization terminated successfully.\n",
      "         Current function value: -1937.955483\n",
      "         Iterations: 35\n",
      "         Function evaluations: 70\n",
      "Optimization terminated successfully.\n",
      "         Current function value: -2182.611530\n",
      "         Iterations: 35\n",
      "         Function evaluations: 70\n",
      "Optimization terminated successfully.\n",
      "         Current function value: -2458.154158\n",
      "         Iterations: 37\n",
      "         Function evaluations: 74\n",
      "Optimization terminated successfully.\n",
      "         Current function value: -2768.482389\n",
      "         Iterations: 36\n",
      "         Function evaluations: 72\n",
      "Optimization terminated successfully.\n",
      "         Current function value: -3117.987838\n",
      "         Iterations: 36\n",
      "         Function evaluations: 72\n",
      "Optimization terminated successfully.\n",
      "         Current function value: -3511.616394\n",
      "         Iterations: 37\n",
      "         Function evaluations: 74\n",
      "Optimization terminated successfully.\n",
      "         Current function value: -3954.937938\n",
      "         Iterations: 36\n",
      "         Function evaluations: 72\n",
      "Optimization terminated successfully.\n",
      "         Current function value: -4454.227175\n",
      "         Iterations: 37\n",
      "         Function evaluations: 74\n",
      "Optimization terminated successfully.\n",
      "         Current function value: -5016.548683\n",
      "         Iterations: 38\n",
      "         Function evaluations: 76\n",
      "Optimization terminated successfully.\n",
      "         Current function value: -5649.859996\n",
      "         Iterations: 39\n",
      "         Function evaluations: 78\n",
      "Optimization terminated successfully.\n",
      "         Current function value: -6363.123314\n",
      "         Iterations: 40\n",
      "         Function evaluations: 80\n",
      "Optimization terminated successfully.\n",
      "         Current function value: -7166.431962\n",
      "         Iterations: 39\n",
      "         Function evaluations: 78\n",
      "Optimization terminated successfully.\n",
      "         Current function value: -8071.153989\n",
      "         Iterations: 39\n",
      "         Function evaluations: 78\n",
      "Optimization terminated successfully.\n",
      "         Current function value: -9090.092365\n",
      "         Iterations: 40\n",
      "         Function evaluations: 80\n",
      "Optimization terminated successfully.\n",
      "         Current function value: -10237.665888\n",
      "         Iterations: 42\n",
      "         Function evaluations: 84\n",
      "Optimization terminated successfully.\n",
      "         Current function value: -11530.114067\n",
      "         Iterations: 41\n",
      "         Function evaluations: 82\n"
     ]
    }
   ],
   "source": [
    "m = 5\n",
    "testZDFs = np.empty((0,m+m%2), np.float64)\n",
    "\n",
    "for z in SFZRtest_z:\n",
    "    zdf = NeijsselZDF(z)\n",
    "    picker = MetallicityPicker(zdf, 5)\n",
    "    metallicities = picker.get_metallicities()\n",
    "    testZDFs = np.append(testZDFs, metallicities.reshape(1,m+m%2), axis=0)"
   ]
  },
  {
   "cell_type": "code",
   "execution_count": 7,
   "id": "83e05375-7f10-46c7-96e2-542ef9d6aa5b",
   "metadata": {},
   "outputs": [],
   "source": [
    "pick_xx = np.repeat(SFZRtest_z.reshape(n,1), repeats=6, axis=1)\n",
    "pick_yy = testZDFs/ct.Z_SUN\n",
    "\n",
    "pick_plot = np.array([pick_xx.flatten(), pick_yy.flatten()]).T"
   ]
  },
  {
   "cell_type": "code",
   "execution_count": 8,
   "id": "37ceaeac-33af-41fb-a4a4-d64587628dbd",
   "metadata": {},
   "outputs": [],
   "source": [
    "zoh_limits = np.array([zoh_limit(z, ct.z35_KK04_MZR_params) for z in SFZRtest_z])\n",
    "Z_limits = np.array([FeH_to_Z(ZOH_to_FeH(zoh)) for zoh in zoh_limits])"
   ]
  },
  {
   "cell_type": "code",
   "execution_count": 9,
   "id": "c23fb8b1-1a31-4d5e-8682-662698b18d7e",
   "metadata": {},
   "outputs": [
    {
     "data": {
      "image/png": "[encoded data removed]",
      "text/plain": [
       "<Figure size 1080x720 with 3 Axes>"
      ]
     },
     "metadata": {
      "needs_background": "light"
     },
     "output_type": "display_data"
    }
   ],
   "source": [
    "xx, yy1 = np.meshgrid(SFZRtest_z, SFZRtest_Z/ct.Z_SUN)\n",
    "xx, yy2 = np.meshgrid(SFZRtest_z, SFZRtest_ZOH)\n",
    "\n",
    "fig, ax = plt.subplots(figsize=(15,10))\n",
    "\n",
    "ax.scatter(xx, yy1, c=testSFZRs.T, cmap='viridis', vmin=-1.707, vmax=2.003, s=270, marker='s')\n",
    "ax.scatter(pick_plot[:,0], pick_plot[:,1], color='r', marker='+', s=50)\n",
    "ax.plot(SFZRtest_z, Z_limits/ct.Z_SUN, 'm-')\n",
    "ax.set_yscale('log')\n",
    "\n",
    "sm = cm.ScalarMappable(cmap=cm.viridis, norm=plt.Normalize(vmin=-4, vmax=4))\n",
    "cb = fig.colorbar(sm, location='top', aspect=50)\n",
    "\n",
    "ax.set_xlim(min(SFZRtest_z), max(SFZRtest_z))\n",
    "ax.set_ylim(min(SFZRtest_Z/ct.Z_SUN), max(SFZRtest_Z/ct.Z_SUN))\n",
    "ax.set_xlabel('Redshift', fontsize=18)\n",
    "ax.set_ylabel(r'$\\log\\left(\\mathrm{Z}/\\mathrm{Z}_\\odot\\right)$', fontsize=18)\n",
    "\n",
    "ax.set_yticks([10**x for x in np.arange(-2.,2.,1.)])\n",
    "ax.set_yticklabels([str(x) for x in np.arange(-2,2,1)])\n",
    "\n",
    "ax.set_xticks(np.arange(0,12,1))\n",
    "\n",
    "ax.tick_params(axis='both', labelsize=14)\n",
    "\n",
    "ax2 = ax.twinx()\n",
    "\n",
    "ax2.set_ylabel(r'$12+\\log\\left(\\mathrm{O}/\\mathrm{H}\\right)$', fontsize=18)\n",
    "ax2.set_ylim(min(SFZRtest_ZOH), max(SFZRtest_ZOH))\n",
    "ax2.tick_params(axis='both', labelsize=14)\n",
    "\n",
    "cb.set_label(label=r'$\\log\\left(SFR[M_\\odot\\mathrm{yr}^{-1}]\\right)$', size=18)\n",
    "cb.ax.tick_params(labelsize=14)"
   ]
  }
 ],
 "metadata": {
  "kernelspec": {
   "display_name": "Python 3 (ipykernel)",
   "language": "python",
   "name": "python3"
  },
  "language_info": {
   "codemirror_mode": {
    "name": "ipython",
    "version": 3
   },
   "file_extension": ".py",
   "mimetype": "text/x-python",
   "name": "python",
   "nbconvert_exporter": "python",
   "pygments_lexer": "ipython3",
   "version": "3.7.11"
  }
 },
 "nbformat": 4,
 "nbformat_minor": 5
}
