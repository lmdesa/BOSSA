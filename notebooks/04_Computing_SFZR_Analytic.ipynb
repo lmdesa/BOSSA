{
 "cells": [
  {
   "cell_type": "markdown",
   "metadata": {},
   "source": [
    "# Notebook 23: Computing the analytical SFR-Metallicity relation"
   ]
  },
  {
   "cell_type": "markdown",
   "metadata": {},
   "source": [
    "As seen in Notebook 21, it is possible to solve the SFMR and MZR simultaneously for the SFR and eliminate the mass, yielding a closed expression for the SFR as a function of metallicity and redshift. Then, all that is required is to perform the interpolation and fitting of the MZR to the desired redshift as shown in Notebook 21, and then those fitted parameters determine the \"SFZR\" at that redshift.\n",
    "\n",
    "This analytical SFZR is, however, of limited utility. First, because it ignores the fact that observed galaxies do not strictly follow either any proposed SFMR or MZR; rather they show a dispersion around a mean, that mean being given by those empirical relations. An analytical SFZR assumes zero dispersion, which goes against observations.  Second, because the MZR is only defined for a certain range of metallicities for each given redshift. An analytical SFZR is misleading in the sense that it suggests the possibility of inputing any ([Fe/H],z) pair and receiving a physical SFR, whereas there is a maximum physical metallicity at each redshift. \n",
    "\n",
    "At any rate, this Notebook still explores this option, which was ultimately forgone in favor of the method shown in Notebook 25, and demonstrates how it could be implemented based on what was already done in Notebooks 21 and 22."
   ]
  },
  {
   "cell_type": "markdown",
   "metadata": {},
   "source": [
    "## Prelude"
   ]
  },
  {
   "cell_type": "code",
   "execution_count": 1,
   "metadata": {},
   "outputs": [],
   "source": [
    "import numpy as np\n",
    "import astropy.constants as ct\n",
    "import astropy.units as u\n",
    "import matplotlib.pyplot as plt\n",
    "from matplotlib import cm\n",
    "from pathlib import Path\n",
    "from scipy.interpolate import interp1d\n",
    "from scipy.optimize import fsolve, curve_fit"
   ]
  },
  {
   "cell_type": "code",
   "execution_count": 2,
   "metadata": {},
   "outputs": [],
   "source": [
    "ZOH_sun = 8.83\n",
    "\n",
    "def FeH_to_OFe(FeH):\n",
    "    if FeH < -1:\n",
    "        return 0.5\n",
    "    else:\n",
    "        return -0.5*FeH\n",
    "    \n",
    "def FeH_from_ZOH(FeH, ZOH):\n",
    "    OFe = FeH_to_OFe(FeH)\n",
    "    return FeH - ZOH + ZOH_sun + OFe    \n",
    "\n",
    "def ZOH_from_FeH(FeH):\n",
    "    OFe = FeH_to_OFe(FeH)\n",
    "    return FeH + ZOH_sun + OFe\n",
    "\n",
    "def ZOH_to_FeH(ZOH):\n",
    "    [FeH] = fsolve(FeH_from_ZOH, (-1), args=(ZOH))\n",
    "    return FeH"
   ]
  },
  {
   "cell_type": "markdown",
   "metadata": {},
   "source": [
    "## Calculating the SFR(Z, z) for a universal IMF"
   ]
  },
  {
   "cell_type": "markdown",
   "metadata": {},
   "source": [
    "### Defining a (Z,z) grid"
   ]
  },
  {
   "cell_type": "code",
   "execution_count": 3,
   "metadata": {},
   "outputs": [],
   "source": [
    "z_axis = np.linspace(0.01, 1.8, 80)\n",
    "Z_axis = [ZOH_from_FeH(feh) for feh in np.linspace(-2.5,0.5,80)] #ZOH"
   ]
  },
  {
   "cell_type": "markdown",
   "metadata": {},
   "source": [
    "## Mass relations"
   ]
  },
  {
   "cell_type": "markdown",
   "metadata": {
    "tags": []
   },
   "source": [
    "### Star formation-mass relation (SFMR)"
   ]
  },
  {
   "cell_type": "code",
   "execution_count": 4,
   "metadata": {},
   "outputs": [],
   "source": [
    "def a():\n",
    "    return 0.83\n",
    "\n",
    "def b(z):\n",
    "    return c(z) * np.log10(1+z) - 8.2\n",
    "\n",
    "def c(z):\n",
    "    if z <= 1.8:\n",
    "        return 2.8\n",
    "    else:\n",
    "        return 1\n",
    "    \n",
    "def SFMR(z, M):\n",
    "    return (a()*np.log10(M)+b(z))"
   ]
  },
  {
   "cell_type": "markdown",
   "metadata": {
    "tags": []
   },
   "source": [
    "### Mass-metallicity relation (MZR)"
   ]
  },
  {
   "cell_type": "markdown",
   "metadata": {},
   "source": [
    "#### Empirically known parameters"
   ]
  },
  {
   "cell_type": "code",
   "execution_count": 5,
   "metadata": {},
   "outputs": [],
   "source": [
    "def MZR_gen(logM, Z_a, logM_TO, gamma):\n",
    "    M = 10**logM\n",
    "    M_TO = 10**logM_TO\n",
    "    return Z_a - np.log10(1+(M/M_TO)**-gamma)\n",
    "\n",
    "def MZR_z00(M):\n",
    "    return MZR_gen(M, 9.12, 9.39, 0.66)\n",
    "\n",
    "def MZR_z07(M):\n",
    "    return MZR_gen(M, 9.15, 9.86, 0.61)\n",
    "\n",
    "def MZR_z22(M):\n",
    "    return MZR_gen(M, 9.07, 10.59, 0.62)\n",
    "\n",
    "def MZR_z35(M):\n",
    "    return MZR_gen(M, 8.70, 10.67, 0.62)"
   ]
  },
  {
   "cell_type": "markdown",
   "metadata": {},
   "source": [
    "#### Interpolating to arbitrary redshifts"
   ]
  },
  {
   "cell_type": "code",
   "execution_count": 6,
   "metadata": {},
   "outputs": [],
   "source": [
    "###############################################################################\n",
    "#Preparing points for interpolation\n",
    "###############################################################################\n",
    "zs = np.array([0, 0.7, 2.2, 3.5])[::-1]\n",
    "Ms = np.linspace(5, 13, 50) #powers of ten\n",
    "ZOHs = np.array([MZR_z00(Ms), MZR_z07(Ms), MZR_z22(Ms), MZR_z35(Ms)])[::-1]\n",
    "\n",
    "interpolX = []\n",
    "interpolY = []\n",
    "\n",
    "for i in range(ZOHs.shape[1]):\n",
    "    interpolX.append(zs)\n",
    "    interpolY.append(ZOHs[:,i])\n",
    "    \n",
    "interpolX = np.array(interpolX)\n",
    "interpolY = np.array(interpolY)\n",
    "\n",
    "###############################################################################\n",
    "#Interpolating\n",
    "###############################################################################\n",
    "interpoledX = []\n",
    "interpoledY = []\n",
    "\n",
    "for i in range(len(interpolX)):\n",
    "    f = interp1d(interpolX[i], interpolY[i], kind='cubic')\n",
    "    interpoledx = z_axis\n",
    "    interpoledy = f(interpoledx)\n",
    "    \n",
    "    interpoledX.append(interpoledx)\n",
    "    interpoledY.append(interpoledy)\n",
    "    \n",
    "interpoledX = np.array(interpoledX)\n",
    "interpoledY = np.array(interpoledY)\n",
    "\n",
    "###############################################################################\n",
    "#Saving interpolation results for the two metallicity measures\n",
    "###############################################################################\n",
    "ipZOHs = []\n",
    "ipzs = []\n",
    "for i in range(len(interpoledX[0])):\n",
    "    z = interpoledX[:,i][0]\n",
    "    zohs = [zoh for zoh in interpoledY[:,i]]\n",
    "    ipzs.append(z)\n",
    "    ipZOHs.append(zohs)\n",
    "    \n",
    "ipFeHs = []\n",
    "for i in range(len(ipZOHs)):\n",
    "    feh = [ZOH_to_FeH(zoh) for zoh in ipZOHs[i]]\n",
    "    ipFeHs.append(feh)"
   ]
  },
  {
   "cell_type": "markdown",
   "metadata": {},
   "source": [
    "#### Finding the MZR parameters for an arbitrary redshift"
   ]
  },
  {
   "cell_type": "markdown",
   "metadata": {},
   "source": [
    "We will need the parameters of the MZR for each redshift in order to calculate the SFR(Z, z). To obtain them, we adjust the MZR over the interpolated points for each redshift on the grid."
   ]
  },
  {
   "cell_type": "code",
   "execution_count": 7,
   "metadata": {
    "tags": []
   },
   "outputs": [],
   "source": [
    "###############################################################################\n",
    "#Fitting interpolated curves\n",
    "###############################################################################\n",
    "fitted_params = []\n",
    "for ZOH in ipZOHs:\n",
    "    params, pcovs = curve_fit(MZR_gen, Ms, ZOH, p0=(9.15, 9.86, 0.61), bounds=(0,np.inf))\n",
    "    fitted_params.append(params)"
   ]
  },
  {
   "cell_type": "markdown",
   "metadata": {
    "tags": []
   },
   "source": [
    "## Star formation-metallicity relation (SFZR)"
   ]
  },
  {
   "cell_type": "markdown",
   "metadata": {},
   "source": [
    "Finally, we can solve the MZR and the SFMR for the SFR, eliminating the mass and obtaining SFR(Z, z)."
   ]
  },
  {
   "cell_type": "code",
   "execution_count": 8,
   "metadata": {},
   "outputs": [],
   "source": [
    "###############################################################################\n",
    "#Defining the SFZR\n",
    "###############################################################################\n",
    "def SFZR(ZOH, z, Z_a, logM_TO, gamma): #returns log SFR\n",
    "    M_TO = 10**logM_TO\n",
    "    Zexp = 10**(Z_a-ZOH)\n",
    "    return b(z) - (a()/gamma) * np.log10(M_TO**-gamma * (Zexp-1))\n",
    "\n",
    "###############################################################################\n",
    "#Calculating a grid of SFRs over redsfhit and metallicity (both measures)\n",
    "###############################################################################\n",
    "SFZRs = []\n",
    "SFZR_ZOHs = Z_axis\n",
    "for z, params in zip(ipzs, fitted_params):\n",
    "    sfzrs = SFZR(SFZR_ZOHs, z, *params)\n",
    "    SFZRs.append(sfzrs)\n",
    "SFZRs = np.array(SFZRs)\n",
    "\n",
    "SFZR_FeHs = np.array([ZOH_to_FeH(zoh) for zoh in SFZR_ZOHs])"
   ]
  },
  {
   "cell_type": "markdown",
   "metadata": {},
   "source": [
    "Each line of ```SFZRs``` contains a list of values assumed by the SFR at the corresponding redshift in ```z_axis```. Each row is associated to a metallicity in ``SFZR_FeHs```."
   ]
  },
  {
   "cell_type": "markdown",
   "metadata": {},
   "source": [
    "# Correcting the SFR for the ambient-dependent IMF"
   ]
  },
  {
   "cell_type": "markdown",
   "metadata": {},
   "source": [
    "### Loading data from Chruslinska et al. (2020)"
   ]
  },
  {
   "cell_type": "code",
   "execution_count": 9,
   "metadata": {},
   "outputs": [],
   "source": [
    "corrections_path = Path('..', 'Data', 'C20_Results', 'IGIMF3_SFR_corrections.dat')\n",
    "correction_data = np.loadtxt(corrections_path, unpack='True').T\n",
    "\n",
    "FeHs = []\n",
    "SFRKs = []\n",
    "SFRCs = []\n",
    "SFRK = []\n",
    "SFRC = []\n",
    "for row in correction_data:\n",
    "    if row[0] not in FeHs:\n",
    "        SFRKs.append(SFRK)\n",
    "        SFRCs.append(SFRC)\n",
    "        SFRK = []\n",
    "        SFRC = []\n",
    "        FeHs.append(row[0])\n",
    "    SFRK.append(row[1])\n",
    "    SFRC.append(row[2])\n",
    "SFRKs.append(SFRK)\n",
    "SFRCs.append(SFRC)\n",
    "SFRKs.pop(0)\n",
    "SFRCs.pop(0)\n",
    "\n",
    "FeHs = np.array(FeHs)\n",
    "SFRKs = np.array(SFRKs[0])\n",
    "SFRCs = np.array(SFRCs)"
   ]
  },
  {
   "cell_type": "markdown",
   "metadata": {
    "tags": []
   },
   "source": [
    "### Interpolating to arbitrary metallicities"
   ]
  },
  {
   "cell_type": "code",
   "execution_count": 10,
   "metadata": {
    "tags": []
   },
   "outputs": [],
   "source": [
    "###############################################################################\n",
    "#Preparing points for interpolation\n",
    "###############################################################################\n",
    "interpolX = []\n",
    "interpolY = []\n",
    "\n",
    "for i in range(SFRCs.shape[1]):\n",
    "    interpolX.append(FeHs)\n",
    "    interpolY.append(SFRCs[:,i])\n",
    "    \n",
    "interpolX = np.array(interpolX)\n",
    "interpolY = np.array(interpolY)\n",
    "\n",
    "###############################################################################\n",
    "#Interpolating\n",
    "###############################################################################\n",
    "interpoledX = []\n",
    "interpoledY = []\n",
    "\n",
    "for i in range(len(interpolX)):\n",
    "    f = interp1d(interpolX[i], interpolY[i], kind='cubic')\n",
    "    interpoledx = SFZR_FeHs\n",
    "    interpoledy = f(interpoledx)\n",
    "    interpoledX.append(interpoledx)\n",
    "    interpoledY.append(interpoledy)\n",
    "interpoledX = np.array(interpoledX)\n",
    "interpoledY = np.array(interpoledY)\n",
    "\n",
    "ipSFRCs = interpoledY.T\n",
    "ipFeHs = np.unique(interpoledX.flatten())"
   ]
  },
  {
   "cell_type": "code",
   "execution_count": 11,
   "metadata": {},
   "outputs": [],
   "source": [
    "interpolX = []\n",
    "interpolY = []\n",
    "\n",
    "for i, FeH in enumerate(ipFeHs):\n",
    "    interpolX.append(SFRKs)\n",
    "    interpolY.append(ipSFRCs[i])\n",
    "interpolX = np.array(interpolX)\n",
    "interpolY = np.array(interpolY)"
   ]
  },
  {
   "cell_type": "code",
   "execution_count": 12,
   "metadata": {},
   "outputs": [],
   "source": [
    "interpoledX = []\n",
    "interpoledY = []\n",
    "\n",
    "for i, FeH in enumerate(ipFeHs):\n",
    "    f = interp1d(interpolX[i], interpolY[i], kind='cubic')\n",
    "    interpoledx = SFZRs[:, i]\n",
    "    interpoledy = f(interpoledx)\n",
    "    interpoledX.append(interpoledx)\n",
    "    interpoledY.append(interpoledy)\n",
    "interpoledX = np.array(interpoledX)\n",
    "interpoledY = np.array(interpoledY)\n",
    "\n",
    "corrections = interpoledY.T"
   ]
  },
  {
   "cell_type": "code",
   "execution_count": 13,
   "metadata": {},
   "outputs": [],
   "source": [
    "correctedSFR = np.add(SFZRs, corrections)"
   ]
  },
  {
   "cell_type": "markdown",
   "metadata": {
    "tags": []
   },
   "source": [
    "#### Visualizing our results"
   ]
  },
  {
   "cell_type": "raw",
   "metadata": {},
   "source": [
    "fig, ax = plt.subplots(figsize=(12,8))\n",
    "color_norm = max(ipzs) - min(ipzs)\n",
    "\n",
    "i=0\n",
    "for i, z in enumerate(ipzs):\n",
    "    ax.plot(SFZR_FeHs, SFZRs[i], '--', c=cm.viridis((z-min(ipzs))/color_norm), alpha=0.3)\n",
    "    ax.plot(SFZR_FeHs, correctedSFR[i], '-', c=cm.viridis((z-min(ipzs))/color_norm), label=r'$z=%.2f$'%z)\n",
    "\n",
    "ax.set_xlim(-2,0)\n",
    "ax.set_ylim(-4.5,3.5)\n",
    "\n",
    "ax.set_ylabel(r'$\\log(SFR[M_\\odot\\mathrm{yr}^{-1}])$', fontsize=16)\n",
    "ax.set_xlabel('[Fe/H]', fontsize=16)\n",
    "\n",
    "ax.tick_params(axis='both', labelsize=14)\n",
    "\n",
    "ax.legend(fontsize=14, frameon=False, loc='upper left')\n",
    "\n",
    "ax.set_title('Universal-IMF based SFR (dashed) and corrected SFR (full)')"
   ]
  },
  {
   "cell_type": "code",
   "execution_count": 14,
   "metadata": {},
   "outputs": [],
   "source": [
    "xx, yy = np.meshgrid(SFZR_FeHs, ipzs)"
   ]
  },
  {
   "cell_type": "code",
   "execution_count": 15,
   "metadata": {},
   "outputs": [],
   "source": [
    "colormap = (correctedSFR-correctedSFR.min())/(correctedSFR.max()-correctedSFR.min())"
   ]
  },
  {
   "cell_type": "code",
   "execution_count": 16,
   "metadata": {},
   "outputs": [
    {
     "data": {
      "image/png": "[encoded data removed]",
      "text/plain": [
       "<Figure size 864x576 with 2 Axes>"
      ]
     },
     "metadata": {
      "needs_background": "light"
     },
     "output_type": "display_data"
    }
   ],
   "source": [
    "fig, ax = plt.subplots(figsize=(12,8))\n",
    "    \n",
    "ax.scatter(xx, yy, c=correctedSFR, cmap='viridis', vmin=correctedSFR.min(), vmax=correctedSFR.max(), s=100, marker='s')\n",
    " \n",
    "ax.set_ylabel(r'$z$', fontsize=16)\n",
    "ax.set_xlabel('[Fe/H]', fontsize=16)\n",
    "\n",
    "ax.set_ylim(0.01,1.8)\n",
    "ax.set_xlim(-2.5, 0.5)\n",
    "\n",
    "ax.tick_params(axis='both', labelsize=14)\n",
    "    \n",
    "ax.set_yticks(np.arange(0,1.9,0.3))\n",
    "    \n",
    "sm = cm.ScalarMappable(cmap=cm.viridis, norm=plt.Normalize(vmin=correctedSFR.min(), vmax=correctedSFR.max()))\n",
    "cb = fig.colorbar(sm)\n",
    "\n",
    "cb.set_label(label=r'$\\log\\left(SFR[M_\\odot\\mathrm{yr}^{-1}]\\right)$', size=16)\n",
    "cb.ax.tick_params(labelsize=14)"
   ]
  },
  {
   "cell_type": "markdown",
   "metadata": {},
   "source": [
    "#### Saving a grid file"
   ]
  },
  {
   "cell_type": "markdown",
   "metadata": {},
   "source": [
    "Lastly, we need to save our results in a grid file that can be read by the IMF calculator in order to build our COMPAS grid. A simple text file with three columns (z, Z, SFR) is enough. The IMF doesn't depend explicitly on the redshift, but because the SFR does, we should keep track of it."
   ]
  },
  {
   "cell_type": "raw",
   "metadata": {},
   "source": [
    "OUTPUT_PATH = Path('SFR_grid.txt')"
   ]
  },
  {
   "cell_type": "raw",
   "metadata": {},
   "source": [
    "array_to_write = []\n",
    "for i in range(correctedSFR.shape[0]):\n",
    "    for j in range(correctedSFR.shape[1]):\n",
    "        array_to_write.append([yy[i,j], xx[i,j], correctedSFR[i,j]])"
   ]
  },
  {
   "cell_type": "raw",
   "metadata": {},
   "source": [
    "np.savetxt(OUTPUT_PATH, array_to_write)"
   ]
  }
 ],
 "metadata": {
  "kernelspec": {
   "display_name": "Python 3 (ipykernel)",
   "language": "python",
   "name": "python3"
  },
  "language_info": {
   "codemirror_mode": {
    "name": "ipython",
    "version": 3
   },
   "file_extension": ".py",
   "mimetype": "text/x-python",
   "name": "python",
   "nbconvert_exporter": "python",
   "pygments_lexer": "ipython3",
   "version": "3.7.11"
  }
 },
 "nbformat": 4,
 "nbformat_minor": 4
}
