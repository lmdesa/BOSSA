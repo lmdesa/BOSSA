{
 "cells": [
  {
   "cell_type": "markdown",
   "id": "6c380664-98c8-4b2c-aea8-831d7f64e9f0",
   "metadata": {},
   "source": [
    "# Notebook 42: Building the (P,q,e) sampling table"
   ]
  },
  {
   "cell_type": "code",
   "execution_count": 1,
   "id": "51cd7da2-9071-4aee-b49c-0d9db8f14039",
   "metadata": {},
   "outputs": [],
   "source": [
    "import numpy as np\n",
    "import matplotlib.pyplot as plt\n",
    "import tables as tb\n",
    "import pandas as pd\n",
    "from time import time"
   ]
  },
  {
   "cell_type": "code",
   "execution_count": 2,
   "id": "35989c6c-55ef-46b9-be26-835534b88d06",
   "metadata": {},
   "outputs": [],
   "source": [
    "import sys\n",
    "sys.path.append('..')\n",
    "from src.zams import EccentricityDistribution, MassRatioDistribution, CompanionFrequencyDistribution, ZAMSSystemGenerator\n",
    "from src.utils import sample_histogram"
   ]
  },
  {
   "cell_type": "code",
   "execution_count": 3,
   "id": "015947fe-1864-49f9-a894-6f4e31d988ba",
   "metadata": {},
   "outputs": [],
   "source": [
    "def salpeter(x):\n",
    "    return -2.3*x"
   ]
  },
  {
   "cell_type": "code",
   "execution_count": 4,
   "id": "5fda4908-93ed-4f59-9811-b7b8ed60e6cf",
   "metadata": {},
   "outputs": [],
   "source": [
    "logm1min = np.log10(0.8)\n",
    "logm1max = np.log10(150)\n",
    "logpmin = 0.2\n",
    "logpmax = 8\n",
    "qmin = 0.1\n",
    "qmax = 1\n",
    "emin = 0\n",
    "emax = 1"
   ]
  },
  {
   "cell_type": "code",
   "execution_count": 5,
   "id": "6a6eaf91-2734-41c9-9107-0bc70142c55c",
   "metadata": {},
   "outputs": [],
   "source": [
    "logm1n = 200\n",
    "logpn = 100\n",
    "qn = 100\n",
    "en = 10"
   ]
  },
  {
   "cell_type": "markdown",
   "id": "7aacd35a-a345-4a88-9c57-5a2e87732341",
   "metadata": {
    "tags": []
   },
   "source": [
    "#### Table creation"
   ]
  },
  {
   "cell_type": "code",
   "execution_count": 6,
   "id": "ea84ffe5-8762-4d23-a329-8b2000885024",
   "metadata": {
    "tags": []
   },
   "outputs": [],
   "source": [
    "map_logm1s = np.empty(logm1n, np.float16)\n",
    "map_logps = np.empty((logm1n, logpn), np.float16)"
   ]
  },
  {
   "cell_type": "code",
   "execution_count": 7,
   "id": "e6622807-e7e2-4c53-a02b-a54e4a827276",
   "metadata": {
    "tags": []
   },
   "outputs": [],
   "source": [
    "#### map_m1s\n",
    "np.random.seed(42)\n",
    "\n",
    "mapm1s_logms = np.linspace(logm1min, logm1max, 10000)\n",
    "\n",
    "mapm1s_salpeter = np.array([salpeter(m) for m in np.linspace(logm1min, logm1max, 10000)])\n",
    "mapm1s_salpeter += mapm1s_salpeter.min()\n",
    "mapm1s_salpeter /= mapm1s_salpeter.sum()\n",
    "\n",
    "mapm1s_salpeter_sample = np.random.choice(mapm1s_logms, 1000, p=mapm1s_salpeter)\n",
    "\n",
    "map_logm1s = np.quantile(mapm1s_salpeter_sample, np.linspace(0, 1, logm1n))"
   ]
  },
  {
   "cell_type": "code",
   "execution_count": 8,
   "id": "6e7adfc6-d907-4c6c-9dea-1a565d630b6e",
   "metadata": {},
   "outputs": [],
   "source": [
    "from concurrent.futures import ProcessPoolExecutor, as_completed"
   ]
  },
  {
   "cell_type": "code",
   "execution_count": 9,
   "id": "a1a53be0-7c2f-489f-b8ee-482c84ec3845",
   "metadata": {},
   "outputs": [],
   "source": [
    "canonical = True\n",
    "extrapolate_logp_canon = True"
   ]
  },
  {
   "cell_type": "code",
   "execution_count": 10,
   "id": "71f3fbc7-7f2f-4964-b4b7-3624b4b6f61d",
   "metadata": {},
   "outputs": [],
   "source": [
    "def get_logps(m1_i_logm1):\n",
    "    m1_i, logm1 = m1_i_logm1\n",
    "    m1 = 10**logm1\n",
    "    q_distr = MassRatioDistribution(canonical=canonical)\n",
    "    freq_distr = CompanionFrequencyDistribution(q_distr, m1, canonical, extrapolate_logp_canon)\n",
    "\n",
    "    maplogps_freqdistr = np.array([freq_distr.companion_frequency_q01(logp) for logp in maplogps_logps])\n",
    "    maplogps_freqdistr /= maplogps_freqdistr.sum()\n",
    "\n",
    "    maplogps_logp_sample = np.random.choice(maplogps_logps, 1000, p=maplogps_freqdistr)\n",
    "\n",
    "    return m1_i, np.quantile(maplogps_logp_sample, np.linspace(0, 1, logpn))"
   ]
  },
  {
   "cell_type": "code",
   "execution_count": 11,
   "id": "c198db0a-0bed-4f4f-94b5-7aeb9ac57b11",
   "metadata": {
    "tags": []
   },
   "outputs": [],
   "source": [
    "np.random.seed(42)\n",
    "\n",
    "maplogps_logps = np.linspace(logpmin, logpmax, 10000)\n",
    "\n",
    "with ProcessPoolExecutor(8) as executor:\n",
    "    for i_result in executor.map(get_logps, list(enumerate(map_logm1s))):\n",
    "        m1_i, result = i_result\n",
    "        map_logps[m1_i] = result"
   ]
  },
  {
   "cell_type": "code",
   "execution_count": 12,
   "id": "9178306a-c1be-48fb-8a0d-7c1ece922de3",
   "metadata": {
    "tags": []
   },
   "outputs": [],
   "source": [
    "if canonical:\n",
    "    map_file = tb.open_file('../Data/canonical_mp_qe_table.h5', mode='w', title='M,P, to q,e table')\n",
    "else:\n",
    "    map_file = tb.open_file('../Data/correlated_mp_qe_table.h5', mode='w', title='M,P, to q,e table')\n"
   ]
  },
  {
   "cell_type": "code",
   "execution_count": 13,
   "id": "9fb31b0d-80cd-4960-8dec-8b615517f521",
   "metadata": {
    "tags": []
   },
   "outputs": [],
   "source": [
    "class QETable(tb.IsDescription):\n",
    "    e = tb.Float32Col()\n",
    "    q = tb.Float32Col()"
   ]
  },
  {
   "cell_type": "code",
   "execution_count": 14,
   "id": "cd40c367-62a9-4aca-9cd0-06253d9272e3",
   "metadata": {
    "tags": []
   },
   "outputs": [],
   "source": [
    "import warnings\n",
    "warnings.filterwarnings('ignore', category=tb.NaturalNameWarning)"
   ]
  },
  {
   "cell_type": "code",
   "execution_count": 15,
   "id": "e9850422-ddc5-4b7a-a6ef-0f3100d4483f",
   "metadata": {
    "tags": []
   },
   "outputs": [
    {
     "name": "stdout",
     "output_type": "stream",
     "text": [
      "Done with m1 = 0.8302901963379324 (0/200)in 39.0901985168457 s.\n",
      "Done with m1 = 0.8726392043337586 (1/200)in 41.0889356136322 s.\n",
      "Done with m1 = 0.888644776510791 (2/200)in 41.14164996147156 s.\n",
      "Done with m1 = 0.9239132366575831 (3/200)in 42.19051933288574 s.\n",
      "Done with m1 = 0.9435258519470321 (4/200)in 42.85571360588074 s.\n",
      "Done with m1 = 0.9781485411863469 (5/200)in 42.138734102249146 s.\n",
      "Done with m1 = 0.9925455168662293 (6/200)in 40.605531454086304 s.\n",
      "Done with m1 = 1.042501083003896 (7/200)in 41.24713325500488 s.\n",
      "Done with m1 = 1.0691912828904755 (8/200)in 39.406152963638306 s.\n",
      "Done with m1 = 1.1049467207337846 (9/200)in 39.77795219421387 s.\n",
      "Done with m1 = 1.1411772552406338 (10/200)in 42.263606548309326 s.\n",
      "Done with m1 = 1.1937556460708512 (11/200)in 39.14513802528381 s.\n",
      "Done with m1 = 1.2398868868944504 (12/200)in 41.4040789604187 s.\n",
      "Done with m1 = 1.3088331328046858 (13/200)in 40.51467561721802 s.\n",
      "Done with m1 = 1.3650152599356045 (14/200)in 39.37463140487671 s.\n",
      "Done with m1 = 1.4102813899163262 (15/200)in 39.1375892162323 s.\n",
      "Done with m1 = 1.4492741718756639 (16/200)in 39.70872688293457 s.\n",
      "Done with m1 = 1.5027319593774136 (17/200)in 39.83033037185669 s.\n",
      "Done with m1 = 1.5277807770808867 (18/200)in 41.73881411552429 s.\n",
      "Done with m1 = 1.5715964713714698 (19/200)in 41.27090573310852 s.\n",
      "Done with m1 = 1.6168176077564622 (20/200)in 41.29201030731201 s.\n",
      "Done with m1 = 1.6680761373751678 (21/200)in 40.749231815338135 s.\n",
      "Done with m1 = 1.7135339964684426 (22/200)in 40.33044672012329 s.\n",
      "Done with m1 = 1.7853262025638055 (23/200)in 41.459415435791016 s.\n",
      "Done with m1 = 1.8491405176201774 (24/200)in 40.499504804611206 s.\n",
      "Done with m1 = 1.8925058610842826 (25/200)in 39.54680156707764 s.\n",
      "Done with m1 = 1.9185685807164312 (26/200)in 38.936784505844116 s.\n",
      "Done with m1 = 1.9492308161403806 (27/200)in 40.0530960559845 s.\n",
      "Done with m1 = 2.0447377169714285 (28/200)in 39.870062589645386 s.\n",
      "Done with m1 = 2.1103341689028197 (29/200)in 41.232120752334595 s.\n",
      "Done with m1 = 2.186438261485028 (30/200)in 40.20107340812683 s.\n",
      "Done with m1 = 2.2218198055624976 (31/200)in 40.11885857582092 s.\n",
      "Done with m1 = 2.2603824672581094 (32/200)in 42.156596183776855 s.\n",
      "Done with m1 = 2.3834407856167066 (33/200)in 42.37293601036072 s.\n",
      "Done with m1 = 2.4302295521343575 (34/200)in 43.04386568069458 s.\n",
      "Done with m1 = 2.477265583323678 (35/200)in 41.59137272834778 s.\n",
      "Done with m1 = 2.5659676590466214 (36/200)in 41.088613986968994 s.\n",
      "Done with m1 = 2.6381141189753587 (37/200)in 40.41660022735596 s.\n",
      "Done with m1 = 2.7366323678924163 (38/200)in 40.598612785339355 s.\n",
      "Done with m1 = 2.7839765108934578 (39/200)in 42.200902462005615 s.\n",
      "Done with m1 = 2.8425955557022506 (40/200)in 44.05940628051758 s.\n",
      "Done with m1 = 2.9201608795333143 (41/200)in 40.70920538902283 s.\n",
      "Done with m1 = 2.9715475498789368 (42/200)in 40.053141832351685 s.\n",
      "Done with m1 = 3.022073295926325 (43/200)in 39.26626253128052 s.\n",
      "Done with m1 = 3.1930175778121077 (44/200)in 39.194857358932495 s.\n",
      "Done with m1 = 3.376729696171541 (45/200)in 39.07168436050415 s.\n",
      "Done with m1 = 3.4743760736376252 (46/200)in 39.30401039123535 s.\n",
      "Done with m1 = 3.596557336764336 (47/200)in 41.98052382469177 s.\n",
      "Done with m1 = 3.8098053185231042 (48/200)in 40.990429162979126 s.\n",
      "Done with m1 = 3.9174910378592656 (49/200)in 40.753963470458984 s.\n",
      "Done with m1 = 4.121647956912764 (50/200)in 40.604920387268066 s.\n",
      "Done with m1 = 4.237702156071774 (51/200)in 39.45257830619812 s.\n",
      "Done with m1 = 4.294875509456556 (52/200)in 39.13310384750366 s.\n",
      "Done with m1 = 4.392280333701493 (53/200)in 39.30297589302063 s.\n",
      "Done with m1 = 4.499497731993345 (54/200)in 39.272648334503174 s.\n",
      "Done with m1 = 4.6667299166131455 (55/200)in 38.99944472312927 s.\n",
      "Done with m1 = 4.878291108741056 (56/200)in 39.01967120170593 s.\n",
      "Done with m1 = 5.033545017768502 (57/200)in 38.853270530700684 s.\n",
      "Done with m1 = 5.14120725246677 (58/200)in 40.86120820045471 s.\n",
      "Done with m1 = 5.307159305174195 (59/200)in 38.93734884262085 s.\n",
      "Done with m1 = 5.3669750313275335 (60/200)in 38.732417583465576 s.\n",
      "Done with m1 = 5.493807388096601 (61/200)in 39.01067233085632 s.\n",
      "Done with m1 = 5.670350417430045 (62/200)in 38.953782081604004 s.\n",
      "Done with m1 = 5.770770214956358 (63/200)in 38.93421268463135 s.\n",
      "Done with m1 = 6.103661706669765 (64/200)in 39.388959646224976 s.\n",
      "Done with m1 = 6.393871897785334 (65/200)in 39.562588930130005 s.\n",
      "Done with m1 = 6.65238905360801 (66/200)in 39.56825590133667 s.\n",
      "Done with m1 = 6.78399757124681 (67/200)in 39.79634737968445 s.\n",
      "Done with m1 = 6.902305731739581 (68/200)in 39.12377595901489 s.\n",
      "Done with m1 = 7.20133567871055 (69/200)in 40.324214696884155 s.\n",
      "Done with m1 = 7.3634561004432095 (70/200)in 38.872896909713745 s.\n",
      "Done with m1 = 7.5336438856370265 (71/200)in 38.84308958053589 s.\n",
      "Done with m1 = 7.769848784479598 (72/200)in 38.9754958152771 s.\n",
      "Done with m1 = 7.9651268475332735 (73/200)in 38.826297760009766 s.\n",
      "Done with m1 = 8.202660969212122 (74/200)in 38.77565026283264 s.\n",
      "Done with m1 = 8.342241969902217 (75/200)in 38.662803173065186 s.\n",
      "Done with m1 = 8.563543237857646 (76/200)in 38.84559726715088 s.\n",
      "Done with m1 = 8.795734098619068 (77/200)in 38.69900393486023 s.\n",
      "Done with m1 = 8.993653868148419 (78/200)in 38.80586504936218 s.\n",
      "Done with m1 = 9.085789736878947 (79/200)in 38.77014994621277 s.\n",
      "Done with m1 = 9.379635640904299 (80/200)in 39.01958990097046 s.\n",
      "Done with m1 = 9.650743766499605 (81/200)in 39.00819110870361 s.\n",
      "Done with m1 = 9.895636278176061 (82/200)in 38.88156461715698 s.\n",
      "Done with m1 = 10.177803127394311 (83/200)in 39.11673378944397 s.\n",
      "Done with m1 = 10.347972563475425 (84/200)in 39.090574502944946 s.\n",
      "Done with m1 = 10.866421281677335 (85/200)in 38.86749768257141 s.\n",
      "Done with m1 = 11.133402800633814 (86/200)in 38.978782653808594 s.\n",
      "Done with m1 = 11.40940446694648 (87/200)in 38.89527606964111 s.\n",
      "Done with m1 = 11.76907748666403 (88/200)in 39.20442724227905 s.\n",
      "Done with m1 = 12.11900014641102 (89/200)in 41.574169635772705 s.\n",
      "Done with m1 = 12.510976809825856 (90/200)in 41.77310562133789 s.\n",
      "Done with m1 = 12.778875954575643 (91/200)in 42.715248584747314 s.\n",
      "Done with m1 = 13.40750905316125 (92/200)in 42.16847205162048 s.\n",
      "Done with m1 = 13.734358438499303 (93/200)in 41.27724528312683 s.\n",
      "Done with m1 = 14.188207321360991 (94/200)in 39.64982199668884 s.\n",
      "Done with m1 = 14.66090929744226 (95/200)in 39.37317109107971 s.\n",
      "Done with m1 = 15.03289775625187 (96/200)in 38.990769386291504 s.\n",
      "Done with m1 = 15.88378024890264 (97/200)in 38.63309621810913 s.\n",
      "Done with m1 = 16.533297867047814 (98/200)in 38.931320667266846 s.\n",
      "Done with m1 = 16.75992879345199 (99/200)in 38.71386241912842 s.\n",
      "Done with m1 = 17.028499739992213 (100/200)in 38.86794447898865 s.\n",
      "Done with m1 = 17.396335919514044 (101/200)in 39.02436852455139 s.\n",
      "Done with m1 = 17.823378513003327 (102/200)in 38.876924991607666 s.\n",
      "Done with m1 = 18.22664162894105 (103/200)in 39.63854956626892 s.\n",
      "Done with m1 = 18.816955600652644 (104/200)in 39.348918437957764 s.\n",
      "Done with m1 = 18.974208974017742 (105/200)in 39.134929180145264 s.\n",
      "Done with m1 = 19.33656322487643 (106/200)in 38.924516677856445 s.\n",
      "Done with m1 = 19.862628669132402 (107/200)in 38.81236481666565 s.\n",
      "Done with m1 = 20.24413230626977 (108/200)in 38.89807844161987 s.\n",
      "Done with m1 = 20.819407468420415 (109/200)in 39.620765924453735 s.\n",
      "Done with m1 = 21.150971348417013 (110/200)in 39.17967200279236 s.\n",
      "Done with m1 = 21.805405271381918 (111/200)in 38.66279411315918 s.\n",
      "Done with m1 = 22.33163339366196 (112/200)in 40.852328062057495 s.\n",
      "Done with m1 = 22.647333899577507 (113/200)in 46.82861089706421 s.\n",
      "Done with m1 = 23.49882789676422 (114/200)in 40.06692123413086 s.\n",
      "Done with m1 = 24.100320070618945 (115/200)in 40.35135221481323 s.\n",
      "Done with m1 = 24.732296242656126 (116/200)in 41.010411977767944 s.\n",
      "Done with m1 = 25.327559883436834 (117/200)in 45.02963638305664 s.\n",
      "Done with m1 = 25.69439798493052 (118/200)in 45.64616274833679 s.\n",
      "Done with m1 = 26.444090719368845 (119/200)in 41.8563768863678 s.\n",
      "Done with m1 = 26.65751034521685 (120/200)in 40.50637769699097 s.\n",
      "Done with m1 = 27.12667937736567 (121/200)in 39.12856912612915 s.\n",
      "Done with m1 = 27.640142378809788 (122/200)in 39.16376519203186 s.\n",
      "Done with m1 = 28.52580479899122 (123/200)in 42.964224338531494 s.\n",
      "Done with m1 = 29.15978542042234 (124/200)in 39.214542865753174 s.\n",
      "Done with m1 = 29.75568499803425 (125/200)in 39.12409472465515 s.\n",
      "Done with m1 = 30.400282833658725 (126/200)in 43.13062500953674 s.\n",
      "Done with m1 = 30.919217299422346 (127/200)in 43.7177677154541 s.\n",
      "Done with m1 = 31.495435616782007 (128/200)in 39.27409768104553 s.\n",
      "Done with m1 = 32.12199412781198 (129/200)in 42.419307231903076 s.\n",
      "Done with m1 = 32.32158694844335 (130/200)in 41.00709366798401 s.\n",
      "Done with m1 = 32.91952387955795 (131/200)in 39.41351079940796 s.\n",
      "Done with m1 = 33.756027705110625 (132/200)in 40.69293522834778 s.\n",
      "Done with m1 = 34.55974922049646 (133/200)in 40.8201105594635 s.\n",
      "Done with m1 = 35.241613133202065 (134/200)in 39.69854974746704 s.\n",
      "Done with m1 = 36.47220249431191 (135/200)in 39.71759343147278 s.\n",
      "Done with m1 = 37.23173341827374 (136/200)in 46.74631595611572 s.\n",
      "Done with m1 = 38.27987461082521 (137/200)in 39.84310221672058 s.\n",
      "Done with m1 = 39.24216151748841 (138/200)in 40.50717115402222 s.\n",
      "Done with m1 = 40.70452345201853 (139/200)in 46.25222444534302 s.\n",
      "Done with m1 = 42.34895284648479 (140/200)in 40.74485111236572 s.\n",
      "Done with m1 = 42.91421187803214 (141/200)in 40.13982915878296 s.\n",
      "Done with m1 = 43.925934180217226 (142/200)in 42.10162854194641 s.\n",
      "Done with m1 = 44.7392531344119 (143/200)in 41.65185570716858 s.\n",
      "Done with m1 = 46.15253832238278 (144/200)in 41.922369956970215 s.\n",
      "Done with m1 = 47.55427325703101 (145/200)in 39.433645248413086 s.\n",
      "Done with m1 = 48.829395500889376 (146/200)in 39.50515532493591 s.\n",
      "Done with m1 = 49.59973194626363 (147/200)in 40.57047915458679 s.\n",
      "Done with m1 = 51.099846732360994 (148/200)in 39.779271602630615 s.\n",
      "Done with m1 = 52.13423182226349 (149/200)in 39.98113989830017 s.\n",
      "Done with m1 = 53.601623543772114 (150/200)in 39.81068825721741 s.\n",
      "Done with m1 = 54.40458636565211 (151/200)in 39.845831632614136 s.\n",
      "Done with m1 = 55.51579611705996 (152/200)in 40.19563579559326 s.\n",
      "Done with m1 = 56.97232108422897 (153/200)in 43.16980028152466 s.\n",
      "Done with m1 = 59.0439708267076 (154/200)in 39.576375246047974 s.\n",
      "Done with m1 = 59.69326697223394 (155/200)in 42.7580029964447 s.\n",
      "Done with m1 = 61.67993097065318 (156/200)in 39.46818494796753 s.\n",
      "Done with m1 = 64.22629234069298 (157/200)in 40.538787603378296 s.\n",
      "Done with m1 = 65.7299096425957 (158/200)in 42.576276540756226 s.\n",
      "Done with m1 = 66.87795224432506 (159/200)in 42.25011706352234 s.\n",
      "Done with m1 = 68.02296190575544 (160/200)in 39.850868225097656 s.\n",
      "Done with m1 = 69.36250079519884 (161/200)in 40.579673528671265 s.\n",
      "Done with m1 = 70.20776593898294 (162/200)in 46.74575757980347 s.\n",
      "Done with m1 = 71.33094018775583 (163/200)in 43.24680161476135 s.\n",
      "Done with m1 = 72.16658716687947 (164/200)in 43.42064094543457 s.\n",
      "Done with m1 = 73.65995675327983 (165/200)in 40.39634156227112 s.\n",
      "Done with m1 = 76.07742331401678 (166/200)in 44.859246492385864 s.\n",
      "Done with m1 = 78.1525101485207 (167/200)in 43.14411926269531 s.\n",
      "Done with m1 = 80.98857031566014 (168/200)in 43.24147367477417 s.\n",
      "Done with m1 = 83.36519077606883 (169/200)in 39.92602252960205 s.\n",
      "Done with m1 = 85.74296496005387 (170/200)in 39.50593423843384 s.\n",
      "Done with m1 = 87.76601077728317 (171/200)in 41.351834535598755 s.\n",
      "Done with m1 = 89.03367907791242 (172/200)in 40.56146168708801 s.\n",
      "Done with m1 = 90.91625175127795 (173/200)in 43.985156774520874 s.\n",
      "Done with m1 = 92.28596236755962 (174/200)in 46.079400300979614 s.\n",
      "Done with m1 = 96.7028662090087 (175/200)in 43.97080183029175 s.\n",
      "Done with m1 = 98.04312334438394 (176/200)in 49.27954697608948 s.\n",
      "Done with m1 = 99.12989039956942 (177/200)in 42.7710325717926 s.\n",
      "Done with m1 = 99.82379453079385 (178/200)in 47.35925579071045 s.\n",
      "Done with m1 = 100.81011001355765 (179/200)in 44.79310703277588 s.\n",
      "Done with m1 = 102.58003888217364 (180/200)in 45.336960315704346 s.\n",
      "Done with m1 = 104.0983610616139 (181/200)in 42.44249773025513 s.\n",
      "Done with m1 = 106.30562028400976 (182/200)in 39.00738573074341 s.\n",
      "Done with m1 = 108.08415157639294 (183/200)in 44.03263592720032 s.\n",
      "Done with m1 = 110.57933654151623 (184/200)in 40.43002486228943 s.\n",
      "Done with m1 = 113.58623499508062 (185/200)in 42.57978582382202 s.\n",
      "Done with m1 = 115.19956946160887 (186/200)in 42.38808822631836 s.\n",
      "Done with m1 = 117.67718549244078 (187/200)in 43.633806467056274 s.\n",
      "Done with m1 = 119.21998716309639 (188/200)in 44.75315713882446 s.\n",
      "Done with m1 = 122.1106028364257 (189/200)in 46.74929928779602 s.\n",
      "Done with m1 = 123.43687202025363 (190/200)in 39.05604600906372 s.\n",
      "Done with m1 = 125.09565111582832 (191/200)in 38.85206580162048 s.\n",
      "Done with m1 = 129.41649680358924 (192/200)in 38.967021226882935 s.\n",
      "Done with m1 = 130.83175205708235 (193/200)in 38.94358420372009 s.\n",
      "Done with m1 = 133.2650580502435 (194/200)in 40.32634162902832 s.\n",
      "Done with m1 = 135.03992628898894 (195/200)in 40.2446551322937 s.\n",
      "Done with m1 = 141.17035653278379 (196/200)in 39.509267807006836 s.\n",
      "Done with m1 = 142.41603162877962 (197/200)in 38.7872052192688 s.\n",
      "Done with m1 = 144.37504114651065 (198/200)in 38.815696477890015 s.\n",
      "Done with m1 = 149.84305309681744 (199/200)in 38.8409628868103 s.\n",
      "Done. Total elapsed time: 8146.604074239731\n"
     ]
    }
   ],
   "source": [
    "total_time = 0\n",
    "\n",
    "mapqs_qs = np.linspace(0.1, 1, 10000)\n",
    "mapes_es = np.linspace(0, 1, 1000)[:-1]\n",
    "\n",
    "map_qdistr = MassRatioDistribution(canonical)\n",
    "map_edistr = EccentricityDistribution(canonical)\n",
    "for m1_i, logm1 in enumerate(map_logm1s):\n",
    "    start_time = time()\n",
    "    m1 = 10**logm1\n",
    "    map_group = map_file.create_group('/', str(m1_i), f'{m1:.8f}')\n",
    "    for logp_i, logp in enumerate(map_logps[m1_i]):\n",
    "        map_qdistr.set_parameters(m1, logp)\n",
    "        map_edistr.set_parameters(m1, logp)\n",
    "        \n",
    "        mapqs_qprobs = np.array([map_qdistr.prob(q) for q in mapqs_qs])\n",
    "        mapqs_qprobs /= mapqs_qprobs.sum()\n",
    "        np.random.seed(42)\n",
    "        mapqs_q_sample = np.random.choice(mapqs_qs, 1000, p=mapqs_qprobs)\n",
    "        \n",
    "        if logp > 2:\n",
    "            mapes_eprobs = np.array([map_edistr.prob(e) for e in mapes_es])\n",
    "            mapes_eprobs /= mapes_eprobs.sum()\n",
    "            np.random.seed(42)\n",
    "            mapes_e_sample = np.random.choice(mapes_es, 100, p=mapes_eprobs)\n",
    "        else:\n",
    "            mapes_e_sample = np.tile(0, 100)\n",
    "        \n",
    "        map_qs = np.quantile(mapqs_q_sample, np.linspace(0, 1, qn))\n",
    "        map_es = np.quantile(mapes_e_sample, np.linspace(0, 1, en))\n",
    "        \n",
    "        map_lines = np.array(np.meshgrid(map_es, map_qs)).T.reshape(-1, 2)\n",
    "        map_table = map_file.create_table(map_group, str(logp_i), QETable, f'{logp:.8}')\n",
    "        map_row = map_table.row\n",
    "        \n",
    "        for line in map_lines:\n",
    "            map_row['e'] = line[0]\n",
    "            map_row['q'] = line[1]\n",
    "            map_row.append()\n",
    "        map_table.flush()\n",
    "    end_time = time()\n",
    "    total_time += end_time - start_time\n",
    "    print(f'Done with m1 = {m1} ({m1_i}/{logm1n})in {end_time-start_time} s.')\n",
    "print(f'Done. Total elapsed time: {total_time}')        "
   ]
  },
  {
   "cell_type": "code",
   "execution_count": 16,
   "id": "a60a5fb8-f73e-4dc8-a096-abdc06008a9a",
   "metadata": {
    "tags": []
   },
   "outputs": [],
   "source": [
    "map_file.close()"
   ]
  },
  {
   "cell_type": "markdown",
   "id": "5ad95522-f435-4010-a592-0c714ac6bffa",
   "metadata": {},
   "source": [
    "## Checking the table"
   ]
  },
  {
   "cell_type": "code",
   "execution_count": 8,
   "id": "c03ef183-a83e-4b53-8d2c-3f8285f9135d",
   "metadata": {
    "tags": []
   },
   "outputs": [],
   "source": [
    "#map_file = tb.open_file('../Data/mp_qe_table.h5', mode='r')\n",
    "map_file = tb.open_file('../Data/canonical_mp_qe_table.h5', mode='r')"
   ]
  },
  {
   "cell_type": "code",
   "execution_count": 9,
   "id": "74de8e29-661a-4f43-ab12-600b8994387f",
   "metadata": {},
   "outputs": [
    {
     "data": {
      "text/plain": [
       "200"
      ]
     },
     "execution_count": 9,
     "metadata": {},
     "output_type": "execute_result"
    }
   ],
   "source": [
    "len(list(map_file.root._v_groups))"
   ]
  },
  {
   "cell_type": "code",
   "execution_count": 10,
   "id": "a868a4ac-28ab-4e13-81ca-ec938fdfd765",
   "metadata": {},
   "outputs": [],
   "source": [
    "m1s = []\n",
    "for group in map_file.root._v_groups:\n",
    "    m1 = map_file.root[group]\n",
    "    m1s.append(m1._v_title)"
   ]
  },
  {
   "cell_type": "code",
   "execution_count": 11,
   "id": "0a672462-f06b-4202-b7ab-daa6d9e01c1b",
   "metadata": {},
   "outputs": [
    {
     "data": {
      "text/plain": [
       "200"
      ]
     },
     "execution_count": 11,
     "metadata": {},
     "output_type": "execute_result"
    }
   ],
   "source": [
    "np.unique(m1s).size"
   ]
  },
  {
   "cell_type": "code",
   "execution_count": 12,
   "id": "68e81e85-1694-40e1-b059-ecc0c855dc7c",
   "metadata": {},
   "outputs": [
    {
     "data": {
      "image/png": "[encoded data removed]",
      "text/plain": [
       "<Figure size 432x288 with 1 Axes>"
      ]
     },
     "metadata": {
      "needs_background": "light"
     },
     "output_type": "display_data"
    }
   ],
   "source": [
    "plt.plot(m1s,'.')\n",
    "plt.xscale('log')\n",
    "plt.yscale('log')"
   ]
  },
  {
   "cell_type": "code",
   "execution_count": 43,
   "id": "9d0ce394-46fb-4475-855c-60aa3efac879",
   "metadata": {},
   "outputs": [],
   "source": [
    "from src.zams import ZAMSSystemGenerator\n",
    "from src.constants import BINARIES_CANONICAL_TABLE_PATH, BINARIES_CORRELATED_TABLE_PATH\n",
    "from src.utils import valley_minimum"
   ]
  },
  {
   "cell_type": "code",
   "execution_count": 59,
   "id": "efe4d044-aa4d-4c70-9fcf-6c8e9af612e5",
   "metadata": {},
   "outputs": [],
   "source": [
    "gen = ZAMSSystemGenerator(BINARIES_CANONICAL_TABLE_PATH, np.linspace(0.8, 150, int(1e5)))"
   ]
  },
  {
   "cell_type": "code",
   "execution_count": 60,
   "id": "1c9cb8b4-98ad-429a-b8fb-323e88a1c229",
   "metadata": {},
   "outputs": [],
   "source": [
    "gen.setup_sampler()"
   ]
  },
  {
   "cell_type": "code",
   "execution_count": 61,
   "id": "95529e4d-7050-46d6-9604-7aeb22a0416f",
   "metadata": {},
   "outputs": [
    {
     "data": {
      "text/plain": [
       "[<matplotlib.lines.Line2D at 0x7fbedb6f27f0>]"
      ]
     },
     "execution_count": 61,
     "metadata": {},
     "output_type": "execute_result"
    },
    {
     "data": {
      "image/png": "[encoded data removed]",
      "text/plain": [
       "<Figure size 432x288 with 1 Axes>"
      ]
     },
     "metadata": {
      "needs_background": "light"
     },
     "output_type": "display_data"
    }
   ],
   "source": [
    "plt.plot(gen.m1_options)"
   ]
  },
  {
   "cell_type": "code",
   "execution_count": 62,
   "id": "f7867316-9016-4632-9b60-716490302666",
   "metadata": {},
   "outputs": [
    {
     "name": "stdout",
     "output_type": "stream",
     "text": [
      "(82, 0.10436344)\n",
      "9.895637\n",
      "(9.895637, /82 (Group) '9.89563628'\n",
      "  children := ['0' (Table), '1' (Table), '10' (Table), '11' (Table), '12' (Table), '13' (Table), '14' (Table), '15' (Table), '16' (Table), '17' (Table), '18' (Table), '19' (Table), '2' (Table), '20' (Table), '21' (Table), '22' (Table), '23' (Table), '24' (Table), '25' (Table), '26' (Table), '27' (Table), '28' (Table), '29' (Table), '3' (Table), '30' (Table), '31' (Table), '32' (Table), '33' (Table), '34' (Table), '35' (Table), '36' (Table), '37' (Table), '38' (Table), '39' (Table), '4' (Table), '40' (Table), '41' (Table), '42' (Table), '43' (Table), '44' (Table), '45' (Table), '46' (Table), '47' (Table), '48' (Table), '49' (Table), '5' (Table), '50' (Table), '51' (Table), '52' (Table), '53' (Table), '54' (Table), '55' (Table), '56' (Table), '57' (Table), '58' (Table), '59' (Table), '6' (Table), '60' (Table), '61' (Table), '62' (Table), '63' (Table), '64' (Table), '65' (Table), '66' (Table), '67' (Table), '68' (Table), '69' (Table), '7' (Table), '70' (Table), '71' (Table), '72' (Table), '73' (Table), '74' (Table), '75' (Table), '76' (Table), '77' (Table), '78' (Table), '79' (Table), '8' (Table), '80' (Table), '81' (Table), '82' (Table), '83' (Table), '84' (Table), '85' (Table), '86' (Table), '87' (Table), '88' (Table), '89' (Table), '9' (Table), '90' (Table), '91' (Table), '92' (Table), '93' (Table), '94' (Table), '95' (Table), '96' (Table), '97' (Table), '98' (Table), '99' (Table)])\n"
     ]
    }
   ],
   "source": [
    "m1 = 10\n",
    "print(valley_minimum(np.abs(gen.m1_options - m1), np.arange(0, len(gen.m1_options), 1)))\n",
    "print(gen.m1_options[valley_minimum(np.abs(gen.m1_options - m1), np.arange(0, len(gen.m1_options), 1))[0]])\n",
    "gen.m1_array = m1\n",
    "print(gen._get_m1())"
   ]
  },
  {
   "cell_type": "code",
   "execution_count": 63,
   "id": "91b35f9d-015c-4882-a5a6-75882f03dd72",
   "metadata": {},
   "outputs": [],
   "source": [
    "test_m1s = np.linspace(0.8, 150, 1000)"
   ]
  },
  {
   "cell_type": "code",
   "execution_count": 64,
   "id": "60b6a852-43e3-49e4-b31a-2504ae93ed80",
   "metadata": {},
   "outputs": [],
   "source": [
    "closest_m1s = []\n",
    "for m1 in test_m1s:\n",
    "    gen.m1_array = m1\n",
    "    closest_m1s.append(gen._get_m1()[0])"
   ]
  },
  {
   "cell_type": "code",
   "execution_count": 65,
   "id": "0297df7b-f6c1-4811-b83e-06ea3e46ff00",
   "metadata": {},
   "outputs": [
    {
     "data": {
      "text/plain": [
       "Text(0, 0.5, 'Closest table m1')"
      ]
     },
     "execution_count": 65,
     "metadata": {},
     "output_type": "execute_result"
    },
    {
     "data": {
      "image/png": "[encoded data removed]",
      "text/plain": [
       "<Figure size 576x576 with 1 Axes>"
      ]
     },
     "metadata": {
      "needs_background": "light"
     },
     "output_type": "display_data"
    }
   ],
   "source": [
    "fig, ax = plt.subplots(figsize=(8,8))\n",
    "\n",
    "ax.plot(test_m1s, test_m1s, 'b-')\n",
    "ax.plot(test_m1s, closest_m1s, 'r-')\n",
    "\n",
    "ax.set_xlabel('Original m1')\n",
    "ax.set_ylabel('Closest table m1')"
   ]
  },
  {
   "cell_type": "code",
   "execution_count": 68,
   "id": "b433e8e0-98a9-4755-8dae-3a10c4f8320b",
   "metadata": {},
   "outputs": [],
   "source": [
    "eccs = []\n",
    "for i in range(200):\n",
    "    gen.open_m1group(i)\n",
    "    for j in range(100):\n",
    "        jstr = str(j)\n",
    "        logp_table = gen.m1group[jstr]\n",
    "        for k in range(1000):\n",
    "            ecc = logp_table[k]['e']\n",
    "            eccs.append(ecc)"
   ]
  },
  {
   "cell_type": "code",
   "execution_count": 73,
   "id": "129d0d83-062c-45df-9300-31066db42d75",
   "metadata": {},
   "outputs": [],
   "source": [
    "eccs = np.array(eccs)"
   ]
  },
  {
   "cell_type": "code",
   "execution_count": 74,
   "id": "a1df1d1b-05f2-4957-8f7c-90d51d491b49",
   "metadata": {},
   "outputs": [
    {
     "data": {
      "text/plain": [
       "(array([0.], dtype=float32), array([20000000]))"
      ]
     },
     "execution_count": 74,
     "metadata": {},
     "output_type": "execute_result"
    }
   ],
   "source": [
    "np.unique(eccs, return_counts=True)"
   ]
  },
  {
   "cell_type": "code",
   "execution_count": 75,
   "id": "7375f7cf-d50d-473a-8c3e-3e00308e3247",
   "metadata": {},
   "outputs": [],
   "source": [
    "qs = []\n",
    "for i in range(200):\n",
    "    gen.open_m1group(i)\n",
    "    for j in range(100):\n",
    "        jstr = str(j)\n",
    "        logp_table = gen.m1group[jstr]\n",
    "        for k in range(1000):\n",
    "            q = logp_table[k]['q']\n",
    "            qs.append(q)"
   ]
  },
  {
   "cell_type": "code",
   "execution_count": 76,
   "id": "632e2adb-4b90-4472-852f-547d82dcfb28",
   "metadata": {},
   "outputs": [],
   "source": [
    "qs = np.array(qs)"
   ]
  },
  {
   "cell_type": "code",
   "execution_count": 77,
   "id": "f7d9c3cc-afc7-4938-a98e-48fef333ab74",
   "metadata": {},
   "outputs": [
    {
     "data": {
      "text/plain": [
       "(array([0.10414042, 0.11180755, 0.11876278, 0.12471975, 0.13328697,\n",
       "        0.14110957, 0.15126422, 0.16306359, 0.17039523, 0.17677768,\n",
       "        0.18420751, 0.19153915, 0.20190655, 0.20641519, 0.21469602,\n",
       "        0.22418788, 0.22940022, 0.23847476, 0.24602734, 0.2549137 ,\n",
       "        0.26011783, 0.2663121 , 0.27632764, 0.28905162, 0.3024548 ,\n",
       "        0.31398413, 0.32098848, 0.3280828 , 0.3415187 , 0.3494313 ,\n",
       "        0.3549382 , 0.36365274, 0.3781769 , 0.38865885, 0.39577776,\n",
       "        0.4054251 , 0.4140496 , 0.42272317, 0.4309631 , 0.43727192,\n",
       "        0.4461419 , 0.45602652, 0.46699944, 0.47635219, 0.48478848,\n",
       "        0.49531135, 0.50733167, 0.51662713, 0.52735454, 0.5438344 ,\n",
       "        0.55218065, 0.5600196 , 0.5677768 , 0.57294   , 0.58334833,\n",
       "        0.5920792 , 0.60001636, 0.61176664, 0.61958104, 0.62782913,\n",
       "        0.6351117 , 0.64412075, 0.65159154, 0.66037965, 0.6677522 ,\n",
       "        0.6727027 , 0.6809181 , 0.6931511 , 0.7013583 , 0.71505606,\n",
       "        0.7264054 , 0.733467  , 0.7458964 , 0.7559038 , 0.7660339 ,\n",
       "        0.775493  , 0.78535306, 0.7950495 , 0.81030196, 0.819532  ,\n",
       "        0.82690454, 0.83306605, 0.83998036, 0.8521398 , 0.8666394 ,\n",
       "        0.8779151 , 0.8859995 , 0.898969  , 0.9054005 , 0.9088127 ,\n",
       "        0.9160216 , 0.92401606, 0.93588084, 0.94381803, 0.95256525,\n",
       "        0.9575485 , 0.9682432 , 0.97557485, 0.98791426, 0.99982   ],\n",
       "       dtype=float32),\n",
       " array([200000, 200000, 200000, 200000, 200000, 200000, 200000, 200000,\n",
       "        200000, 200000, 200000, 200000, 200000, 200000, 200000, 200000,\n",
       "        200000, 200000, 200000, 200000, 200000, 200000, 200000, 200000,\n",
       "        200000, 200000, 200000, 200000, 200000, 200000, 200000, 200000,\n",
       "        200000, 200000, 200000, 200000, 200000, 200000, 200000, 200000,\n",
       "        200000, 200000, 200000, 200000, 200000, 200000, 200000, 200000,\n",
       "        200000, 200000, 200000, 200000, 200000, 200000, 200000, 200000,\n",
       "        200000, 200000, 200000, 200000, 200000, 200000, 200000, 200000,\n",
       "        200000, 200000, 200000, 200000, 200000, 200000, 200000, 200000,\n",
       "        200000, 200000, 200000, 200000, 200000, 200000, 200000, 200000,\n",
       "        200000, 200000, 200000, 200000, 200000, 200000, 200000, 200000,\n",
       "        200000, 200000, 200000, 200000, 200000, 200000, 200000, 200000,\n",
       "        200000, 200000, 200000, 200000]))"
      ]
     },
     "execution_count": 77,
     "metadata": {},
     "output_type": "execute_result"
    }
   ],
   "source": [
    "np.unique(qs, return_counts=True)"
   ]
  },
  {
   "cell_type": "code",
   "execution_count": 78,
   "id": "4345ba3e-0164-473d-b8d2-f8bd6732a0d8",
   "metadata": {},
   "outputs": [],
   "source": [
    "df = pd.DataFrame([[1, 2, 3], [1, 3, 5], [1, 2, 6]], columns=['A', 'B', 'C'])"
   ]
  },
  {
   "cell_type": "code",
   "execution_count": 91,
   "id": "cbb200f1-e4d1-4961-a222-32338599b5d9",
   "metadata": {},
   "outputs": [
    {
     "data": {
      "text/plain": [
       "1"
      ]
     },
     "execution_count": 91,
     "metadata": {},
     "output_type": "execute_result"
    }
   ],
   "source": [
    "df.iloc[[0]].A.nunique()"
   ]
  },
  {
   "cell_type": "code",
   "execution_count": 85,
   "id": "f32d7eca-d24b-4e31-a63e-0d77ddce379e",
   "metadata": {},
   "outputs": [
    {
     "name": "stdout",
     "output_type": "stream",
     "text": [
      "0\n",
      "1\n",
      "2\n",
      "3\n",
      "4\n",
      "5\n",
      "6\n",
      "7\n",
      "8\n",
      "9\n",
      "10\n",
      "11\n",
      "12\n",
      "13\n",
      "14\n",
      "15\n",
      "16\n",
      "17\n",
      "18\n",
      "19\n",
      "20\n",
      "21\n",
      "22\n",
      "23\n",
      "24\n",
      "25\n",
      "26\n",
      "27\n",
      "28\n",
      "29\n",
      "30\n",
      "31\n",
      "32\n",
      "33\n",
      "34\n",
      "35\n",
      "36\n",
      "37\n",
      "38\n",
      "39\n",
      "40\n",
      "41\n",
      "42\n",
      "43\n",
      "44\n",
      "45\n",
      "46\n",
      "47\n",
      "48\n",
      "49\n",
      "50\n",
      "51\n",
      "52\n",
      "53\n",
      "54\n",
      "55\n",
      "57\n",
      "58\n",
      "59\n",
      "60\n",
      "61\n",
      "62\n",
      "63\n",
      "64\n",
      "65\n",
      "66\n",
      "67\n",
      "68\n",
      "69\n",
      "70\n",
      "71\n",
      "72\n",
      "73\n",
      "74\n",
      "75\n",
      "76\n",
      "77\n",
      "78\n",
      "79\n",
      "80\n",
      "81\n",
      "82\n",
      "83\n",
      "84\n",
      "85\n",
      "86\n",
      "87\n",
      "88\n",
      "89\n",
      "90\n",
      "91\n",
      "92\n",
      "93\n",
      "94\n",
      "95\n",
      "96\n",
      "97\n",
      "98\n",
      "99\n"
     ]
    }
   ],
   "source": [
    "for i in range(100):\n",
    "    if i == 56:\n",
    "        if 1:\n",
    "            continue\n",
    "    print(i)"
   ]
  },
  {
   "cell_type": "code",
   "execution_count": 67,
   "id": "90346c16-650b-4355-89a7-0d24ef9e94ec",
   "metadata": {},
   "outputs": [],
   "source": [
    "gen.open_m1group(23)"
   ]
  },
  {
   "cell_type": "code",
   "execution_count": 53,
   "id": "9e7c7b73-8080-4147-b184-238e74eca831",
   "metadata": {},
   "outputs": [],
   "source": [
    "logp_table = gen.m1group['55']"
   ]
  },
  {
   "cell_type": "code",
   "execution_count": 56,
   "id": "0d98cfb2-2783-4e84-bc0b-3abeeec8e1b5",
   "metadata": {},
   "outputs": [
    {
     "data": {
      "text/plain": [
       "numpy.float32"
      ]
     },
     "execution_count": 56,
     "metadata": {},
     "output_type": "execute_result"
    }
   ],
   "source": [
    "type(logp_table[3]['q'])"
   ]
  },
  {
   "cell_type": "code",
   "execution_count": 58,
   "id": "2e10deef-c5bd-40bc-af1b-ebac0ecdc885",
   "metadata": {},
   "outputs": [],
   "source": [
    "gen.close_binaries_table()"
   ]
  },
  {
   "cell_type": "code",
   "execution_count": 57,
   "id": "6a27938c-8ddb-4ed3-bfa2-e3ddfcaf279e",
   "metadata": {},
   "outputs": [
    {
     "ename": "NameError",
     "evalue": "name 'map_file' is not defined",
     "output_type": "error",
     "traceback": [
      "\u001b[0;31m---------------------------------------------------------------------------\u001b[0m",
      "\u001b[0;31mNameError\u001b[0m                                 Traceback (most recent call last)",
      "Input \u001b[0;32mIn [57]\u001b[0m, in \u001b[0;36m<cell line: 1>\u001b[0;34m()\u001b[0m\n\u001b[0;32m----> 1\u001b[0m \u001b[43mmap_file\u001b[49m\u001b[38;5;241m.\u001b[39mclose()\n",
      "\u001b[0;31mNameError\u001b[0m: name 'map_file' is not defined"
     ]
    }
   ],
   "source": [
    "map_file.close()"
   ]
  },
  {
   "cell_type": "code",
   "execution_count": null,
   "id": "972d5b64-1e23-47e6-a81a-f586c4b5e054",
   "metadata": {},
   "outputs": [],
   "source": []
  }
 ],
 "metadata": {
  "kernelspec": {
   "display_name": "Python 3 (ipykernel)",
   "language": "python",
   "name": "python3"
  },
  "language_info": {
   "codemirror_mode": {
    "name": "ipython",
    "version": 3
   },
   "file_extension": ".py",
   "mimetype": "text/x-python",
   "name": "python",
   "nbconvert_exporter": "python",
   "pygments_lexer": "ipython3",
   "version": "3.9.12"
  }
 },
 "nbformat": 4,
 "nbformat_minor": 5
}
