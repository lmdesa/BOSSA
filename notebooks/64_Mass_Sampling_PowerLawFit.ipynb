{
 "cells": [
  {
   "cell_type": "code",
   "execution_count": null,
   "id": "3f3d81f4",
   "metadata": {},
   "outputs": [],
   "source": [
    "This notebook produces figure 13 of de Sá, Bernardo et al. (2024)."
   ]
  },
  {
   "cell_type": "code",
   "execution_count": 1,
   "id": "4353596e-ac71-40e7-af40-c5ddaf036cf7",
   "metadata": {},
   "outputs": [],
   "source": [
    "import numpy as np\n",
    "import matplotlib.pyplot as plt\n",
    "from matplotlib.pyplot import cm\n",
    "import seaborn as sns\n",
    "import pandas as pd\n",
    "from pathlib import Path\n",
    "from scipy.interpolate import UnivariateSpline\n",
    "from scipy.stats import mode, linregress\n",
    "\n",
    "import gc \n",
    "import sys\n",
    "sys.path.append('..')\n",
    "from src.utils import sample_histogram\n",
    "from src.sampling import RandomSampling\n",
    "from src.imf import IGIMF, Star\n",
    "from src.constants import DATA_PATH, COMPACT_OBJ_DIR_PATH"
   ]
  },
  {
   "cell_type": "code",
   "execution_count": 2,
   "id": "33d28027-6943-4a41-9fe5-73abe2fe6c33",
   "metadata": {},
   "outputs": [],
   "source": [
    "plt.style.use('./plotstyle.mplstyle')\n",
    "FIGURE_FOLDER = Path('./figures')"
   ]
  },
  {
   "cell_type": "code",
   "execution_count": 3,
   "id": "ccd1a344-72d0-49cd-8699-bfaf6627b798",
   "metadata": {},
   "outputs": [],
   "source": [
    "cm_cubehelix = sns.cubehelix_palette(as_cmap=True)"
   ]
  },
  {
   "cell_type": "code",
   "execution_count": 4,
   "id": "1182948c-6b4f-4a2a-8d92-0eb38c6eab49",
   "metadata": {},
   "outputs": [],
   "source": [
    "IGIMF_ZAMS_DIR_PATH = Path(DATA_PATH, '2023_igimf_zams_samples')\n",
    "ONLYBIN_SAMPLE_DIR_PATH = Path(IGIMF_ZAMS_DIR_PATH, '12x10_1222_zams_grid')\n",
    "ALLMULT_SAMPLE_DIR_PATH = Path(IGIMF_ZAMS_DIR_PATH, '12x10_1212_zams_grid')\n",
    "ONLYBIN_CANON_SAMPLE_DIR_PATH = Path(IGIMF_ZAMS_DIR_PATH, '12x10_2122_zams_grid')\n",
    "ALLMULT_CANON_SAMPLE_DIR_PATH = Path(IGIMF_ZAMS_DIR_PATH, '12x10_2112_zams_grid')"
   ]
  },
  {
   "cell_type": "code",
   "execution_count": 5,
   "id": "8f803b1b-6622-4b95-96a0-49fe0d4a15e7",
   "metadata": {},
   "outputs": [],
   "source": [
    "onlybin_sample_paths = list(ONLYBIN_SAMPLE_DIR_PATH.glob('*.parquet'))\n",
    "allmult_sample_paths = list(ALLMULT_SAMPLE_DIR_PATH.glob('*.parquet'))\n",
    "onlybin_canon_sample_paths = list(ONLYBIN_CANON_SAMPLE_DIR_PATH.glob('*.parquet'))\n",
    "allmult_canon_sample_paths = list(ALLMULT_CANON_SAMPLE_DIR_PATH.glob('*.parquet'))\n",
    "#sample_paths = list(CO_DIR_PATH.glob('*.parquet'))"
   ]
  },
  {
   "cell_type": "code",
   "execution_count": 6,
   "id": "f0cc9fe3-309f-48d8-99af-e4668e315a61",
   "metadata": {},
   "outputs": [],
   "source": [
    "def normalize_igimf(igimf_x, igimf_y, sample_x, sample_y):\n",
    "    igimf_spline = UnivariateSpline(igimf_x, igimf_y, k=3)\n",
    "    sample_spline = UnivariateSpline(sample_x, sample_y, k=3)\n",
    "    \n",
    "    igimf_area = igimf_spline.integral(0.8, 150)\n",
    "    sample_area = sample_spline.integral(0.8, 150)\n",
    "    \n",
    "    print(sample_area, igimf_area)\n",
    "    \n",
    "    igimf_norm = sample_area/igimf_area\n",
    "    \n",
    "    return igimf_norm"
   ]
  },
  {
   "cell_type": "code",
   "execution_count": 7,
   "id": "94b85264-6532-4202-8579-c35212871443",
   "metadata": {},
   "outputs": [],
   "source": [
    "def kroupa_imf(m):\n",
    "    if m < 0.5:\n",
    "        return 2*m**-1.3\n",
    "    else:\n",
    "        return m**-2.3"
   ]
  },
  {
   "cell_type": "code",
   "execution_count": 8,
   "id": "2b829773-ce55-4a54-b968-4fc2737069df",
   "metadata": {},
   "outputs": [],
   "source": [
    "def gen_mplots(sample_df, sample_descr_dict, bins=np.logspace(np.log10(0.8), np.log10(150), 10)):\n",
    "    m1arr = np.sort(sample_df['Mass_ZAMS1_Found'].to_numpy())\n",
    "    m2arr = np.sort(sample_df['Mass_ZAMS2_Found'].to_numpy())\n",
    "    m3arr = np.sort(sample_df['Mass_ZAMS3_Found'].to_numpy())\n",
    "    m4arr = np.sort(sample_df['Mass_ZAMS4_Found'].to_numpy())\n",
    "    m5arr = np.sort(sample_df['Mass_ZAMS5_Found'].to_numpy())\n",
    "    mall_arr = np.sort(np.concatenate((m1arr, m2arr, m3arr, m4arr, m5arr)))\n",
    "    \n",
    "    m2arr = m2arr[m2arr >= 0.8]\n",
    "    m3arr = m3arr[m3arr >= 0.8]\n",
    "    m4arr = m4arr[m4arr >= 0.8]\n",
    "    m5arr = m5arr[m5arr >= 0.8]\n",
    "    mall_arr = mall_arr[mall_arr >= 0.8]\n",
    "   \n",
    "    m1h, m1b = np.histogram(m1arr, density=True, bins=bins)\n",
    "    m2h, m2b = np.histogram(m2arr, density=True, bins=bins)\n",
    "    m3h, m3b = np.histogram(m3arr, density=True, bins=bins)\n",
    "    m4h, m4b = np.histogram(m4arr, density=True, bins=bins)\n",
    "    m5h, m5b = np.histogram(m5arr, density=True, bins=bins)\n",
    "    mall_h, mall_b = np.histogram(mall_arr, density=True, bins=bins)\n",
    "    \n",
    "    m1c = np.array([(m1b0+m1b1)/2 for m1b0, m1b1 in zip(m1b[:-1], m1b[0:])])\n",
    "    m2c = np.array([(m2b0+m2b1)/2 for m2b0, m2b1 in zip(m2b[:-1], m2b[0:])])\n",
    "    m3c = np.array([(m3b0+m3b1)/2 for m3b0, m3b1 in zip(m3b[:-1], m3b[0:])])\n",
    "    m4c = np.array([(m4b0+m4b1)/2 for m4b0, m4b1 in zip(m4b[:-1], m4b[0:])])\n",
    "    m5c = np.array([(m5b0+m5b1)/2 for m5b0, m5b1 in zip(m5b[:-1], m5b[0:])])\n",
    "    mall_c = np.array([(mall_b0+mall_b1)/2 for mall_b0, mall_b1 in zip(mall_b[:-1], mall_b[0:])])\n",
    "    \n",
    "    mplots = [['$m_1$', m1b, m1c, m1h],\n",
    "             ['$m_2$', m2b, m2c, m2h],\n",
    "             ['$m_3$', m3b, m3c, m3h],\n",
    "             ['$m_4$', m4b, m4c, m4h],\n",
    "             ['$m_5$', m5b, m5c, m5h],\n",
    "             ['all $m_i$', mall_b, mall_c, mall_h]]\n",
    "    \n",
    "    return mplots"
   ]
  },
  {
   "cell_type": "markdown",
   "id": "03bf77fc-fcc3-4dc4-a890-a43f38118053",
   "metadata": {},
   "source": [
    "## Redshift plot"
   ]
  },
  {
   "cell_type": "markdown",
   "id": "3525e540-de5c-4d54-8e08-476f1e525623",
   "metadata": {
    "tags": []
   },
   "source": [
    "#### IMF Grid"
   ]
  },
  {
   "cell_type": "code",
   "execution_count": 9,
   "id": "edb1aa98-4750-4dcc-bb6c-4d700c849885",
   "metadata": {},
   "outputs": [],
   "source": [
    "onlybin_sample_paths_dict = {}\n",
    "for path in onlybin_sample_paths:\n",
    "    z = float(path.name.split('_')[0].split('=')[1])\n",
    "    if z not in onlybin_sample_paths_dict:\n",
    "        onlybin_sample_paths_dict[z] = []\n",
    "    onlybin_sample_paths_dict[z].append(path)"
   ]
  },
  {
   "cell_type": "code",
   "execution_count": 10,
   "id": "ed82092b-e5e2-4da6-94be-5d3437d04ed9",
   "metadata": {},
   "outputs": [],
   "source": [
    "allmult_sample_paths_dict = {}\n",
    "for path in allmult_sample_paths:\n",
    "    z = float(path.name.split('_')[0].split('=')[1])\n",
    "    if z not in allmult_sample_paths_dict:\n",
    "        allmult_sample_paths_dict[z] = []\n",
    "    allmult_sample_paths_dict[z].append(path)"
   ]
  },
  {
   "cell_type": "code",
   "execution_count": 11,
   "id": "3f7e2780-4d90-487c-9a10-85becdd5a70f",
   "metadata": {},
   "outputs": [],
   "source": [
    "onlybin_canon_sample_paths_dict = {}\n",
    "for path in onlybin_canon_sample_paths:\n",
    "    z = float(path.name.split('_')[0].split('=')[1])\n",
    "    if z not in onlybin_canon_sample_paths_dict:\n",
    "        onlybin_canon_sample_paths_dict[z] = []\n",
    "    onlybin_canon_sample_paths_dict[z].append(path)"
   ]
  },
  {
   "cell_type": "code",
   "execution_count": 12,
   "id": "54ec167e-9059-4287-847d-8543e6a08493",
   "metadata": {},
   "outputs": [],
   "source": [
    "allmult_canon_sample_paths_dict = {}\n",
    "for path in allmult_canon_sample_paths:\n",
    "    z = float(path.name.split('_')[0].split('=')[1])\n",
    "    if z not in allmult_canon_sample_paths_dict:\n",
    "        allmult_canon_sample_paths_dict[z] = []\n",
    "    allmult_canon_sample_paths_dict[z].append(path)"
   ]
  },
  {
   "cell_type": "code",
   "execution_count": 13,
   "id": "f333e9a8-15e1-41da-bd4f-0a58402dae63",
   "metadata": {},
   "outputs": [],
   "source": [
    "for z in onlybin_sample_paths_dict:\n",
    "    unsorted_paths = onlybin_sample_paths_dict[z]\n",
    "    unsorted_sfrs = [float(path.name.split('_')[2].split('=')[1]) for path in unsorted_paths]\n",
    "    sorted_indexes = np.argsort(unsorted_sfrs)\n",
    "    sorted_paths = np.array(unsorted_paths)[sorted_indexes]\n",
    "    onlybin_sample_paths_dict[z] = sorted_paths"
   ]
  },
  {
   "cell_type": "code",
   "execution_count": 14,
   "id": "39134bf5-79c0-47bb-9a75-281efc66e931",
   "metadata": {},
   "outputs": [],
   "source": [
    "for z in allmult_sample_paths_dict:\n",
    "    unsorted_paths = allmult_sample_paths_dict[z]\n",
    "    unsorted_sfrs = [float(path.name.split('_')[2].split('=')[1]) for path in unsorted_paths]\n",
    "    sorted_indexes = np.argsort(unsorted_sfrs)\n",
    "    sorted_paths = np.array(unsorted_paths)[sorted_indexes]\n",
    "    allmult_sample_paths_dict[z] = sorted_paths"
   ]
  },
  {
   "cell_type": "code",
   "execution_count": 15,
   "id": "e15dea6b-d97d-4644-b2a2-b788e7b13a25",
   "metadata": {},
   "outputs": [],
   "source": [
    "for z in onlybin_canon_sample_paths_dict:\n",
    "    unsorted_paths = onlybin_canon_sample_paths_dict[z]\n",
    "    unsorted_sfrs = [float(path.name.split('_')[2].split('=')[1]) for path in unsorted_paths]\n",
    "    sorted_indexes = np.argsort(unsorted_sfrs)\n",
    "    sorted_paths = np.array(unsorted_paths)[sorted_indexes]\n",
    "    onlybin_canon_sample_paths_dict[z] = sorted_paths"
   ]
  },
  {
   "cell_type": "code",
   "execution_count": 16,
   "id": "43f7f858-5614-43e8-9cd2-438c5135f403",
   "metadata": {},
   "outputs": [],
   "source": [
    "for z in allmult_canon_sample_paths_dict:\n",
    "    unsorted_paths = allmult_canon_sample_paths_dict[z]\n",
    "    unsorted_sfrs = [float(path.name.split('_')[2].split('=')[1]) for path in unsorted_paths]\n",
    "    sorted_indexes = np.argsort(unsorted_sfrs)\n",
    "    sorted_paths = np.array(unsorted_paths)[sorted_indexes]\n",
    "    allmult_canon_sample_paths_dict[z] = sorted_paths"
   ]
  },
  {
   "cell_type": "code",
   "execution_count": 17,
   "id": "097c9708-b8b4-404e-afd5-51800f9d8347",
   "metadata": {},
   "outputs": [],
   "source": [
    "from matplotlib.lines import Line2D"
   ]
  },
  {
   "cell_type": "code",
   "execution_count": 18,
   "id": "4334ff1d-ebb2-4469-bf2b-3fce5627822a",
   "metadata": {},
   "outputs": [],
   "source": [
    "plot_zs = sorted(list(allmult_canon_sample_paths_dict.keys()))\n",
    "onlybin_plot_fehs = []\n",
    "allmult_plot_fehs = []\n",
    "\n",
    "for z in plot_zs:\n",
    "        onlybin_sample_paths_ = onlybin_sample_paths_dict[z]   \n",
    "        allmult_sample_paths_ = allmult_sample_paths_dict[z]   \n",
    "        for path in onlybin_sample_paths_[:-1]:\n",
    "                sample_descr = path.name.split('_')[:-3]\n",
    "\n",
    "                sample_descr_dict = {}\n",
    "                for attr in sample_descr:\n",
    "                    key, value = attr.split('=')\n",
    "                    sample_descr_dict[key] = value\n",
    "                onlybin_plot_fehs.append(sample_descr_dict['feh'])\n",
    "        for path in allmult_sample_paths_[:-1]:\n",
    "                sample_descr = path.name.split('_')[:-3]\n",
    "\n",
    "                sample_descr_dict = {}\n",
    "                for attr in sample_descr:\n",
    "                    key, value = attr.split('=')\n",
    "                    sample_descr_dict[key] = value\n",
    "                allmult_plot_fehs.append(sample_descr_dict['feh'])\n",
    "onlybin_plot_fehs = np.array(onlybin_plot_fehs, np.float32)\n",
    "allmult_plot_fehs = np.array(allmult_plot_fehs, np.float32)"
   ]
  },
  {
   "cell_type": "code",
   "execution_count": 19,
   "id": "4061bd61-502c-42a8-bc71-8e1eed0d6ad7",
   "metadata": {
    "collapsed": true,
    "jupyter": {
     "outputs_hidden": true
    },
    "tags": []
   },
   "outputs": [
    {
     "name": "stderr",
     "output_type": "stream",
     "text": [
      "/home/lucasmdesa/anaconda3/envs/bco/lib/python3.9/site-packages/numpy/lib/histograms.py:906: RuntimeWarning: invalid value encountered in true_divide\n",
      "  return n/db/n.sum(), bin_edges\n"
     ]
    },
    {
     "name": "stdout",
     "output_type": "stream",
     "text": [
      "[-2.0882229264867016, -2.120798120062546, -1.963046601905063]\n",
      "[-2.2185130219219205, -2.067584975086875, -2.7723795443095613]\n",
      "[nan, nan, nan]\n",
      "[nan, nan, nan]\n",
      "[nan, nan, nan]\n",
      "[-2.104148307754852, -2.1092156443185415, -2.0849224102945985]\n"
     ]
    },
    {
     "name": "stderr",
     "output_type": "stream",
     "text": [
      "/home/lucasmdesa/anaconda3/envs/bco/lib/python3.9/site-packages/numpy/lib/histograms.py:906: RuntimeWarning: invalid value encountered in true_divide\n",
      "  return n/db/n.sum(), bin_edges\n"
     ]
    },
    {
     "name": "stdout",
     "output_type": "stream",
     "text": [
      "[-1.7176604167478118, -2.013629056289484, -1.2581646643030386]\n",
      "[-1.7727252485367684, -1.7173560138131967, -2.270491044372655]\n",
      "[nan, nan, nan]\n",
      "[nan, nan, nan]\n",
      "[nan, nan, nan]\n",
      "[-1.7181948317324054, -1.936702770860196, -1.4743626442914044]\n"
     ]
    },
    {
     "name": "stderr",
     "output_type": "stream",
     "text": [
      "/home/lucasmdesa/anaconda3/envs/bco/lib/python3.9/site-packages/numpy/lib/histograms.py:906: RuntimeWarning: invalid value encountered in true_divide\n",
      "  return n/db/n.sum(), bin_edges\n"
     ]
    },
    {
     "name": "stdout",
     "output_type": "stream",
     "text": [
      "[-1.6678456704781321, -1.9906075377247316, -1.1747808177975556]\n",
      "[-1.7153737937055284, -1.6650345505334576, -2.216745806643304]\n",
      "[nan, nan, nan]\n",
      "[nan, nan, nan]\n",
      "[nan, nan, nan]\n",
      "[-1.6662904107067904, -1.9031721855617838, -1.407245975050239]\n"
     ]
    },
    {
     "name": "stderr",
     "output_type": "stream",
     "text": [
      "/home/lucasmdesa/anaconda3/envs/bco/lib/python3.9/site-packages/numpy/lib/histograms.py:906: RuntimeWarning: invalid value encountered in true_divide\n",
      "  return n/db/n.sum(), bin_edges\n"
     ]
    },
    {
     "name": "stdout",
     "output_type": "stream",
     "text": [
      "[-1.6450130089932158, -1.9781823980766517, -1.1347746738647093]\n",
      "[-1.688741275495616, -1.6391679545747933, -2.1914459015906234]\n",
      "[nan, nan, nan]\n",
      "[nan, nan, nan]\n",
      "[nan, nan, nan]\n",
      "[-1.6425108635456156, -1.8859913614245363, -1.3765764740685345]\n"
     ]
    },
    {
     "name": "stderr",
     "output_type": "stream",
     "text": [
      "/home/lucasmdesa/anaconda3/envs/bco/lib/python3.9/site-packages/numpy/lib/histograms.py:906: RuntimeWarning: invalid value encountered in true_divide\n",
      "  return n/db/n.sum(), bin_edges\n"
     ]
    },
    {
     "name": "stdout",
     "output_type": "stream",
     "text": [
      "[-1.6268943817968684, -1.9628215732567813, -1.1024465799948977]\n",
      "[-1.6676234948688118, -1.6187613480209289, -2.1646535644789275]\n",
      "[nan, nan, nan]\n",
      "[nan, nan, nan]\n",
      "[nan, nan, nan]\n",
      "[-1.6238197787048179, -1.8685193733903782, -1.3511045917883422]\n"
     ]
    },
    {
     "name": "stderr",
     "output_type": "stream",
     "text": [
      "/home/lucasmdesa/anaconda3/envs/bco/lib/python3.9/site-packages/numpy/lib/histograms.py:906: RuntimeWarning: invalid value encountered in true_divide\n",
      "  return n/db/n.sum(), bin_edges\n"
     ]
    },
    {
     "name": "stdout",
     "output_type": "stream",
     "text": [
      "[-1.6689425183749675, -1.9659830627650972, -1.2360727979983237]\n",
      "[-1.7329292186265137, -1.6490655296886008, -2.265863791650068]\n",
      "[nan, nan, nan]\n",
      "[nan, nan, nan]\n",
      "[nan, nan, nan]\n",
      "[-1.6713050932703684, -1.8814631441523655, -1.4585984238369905]\n"
     ]
    },
    {
     "name": "stderr",
     "output_type": "stream",
     "text": [
      "/home/lucasmdesa/anaconda3/envs/bco/lib/python3.9/site-packages/numpy/lib/histograms.py:906: RuntimeWarning: invalid value encountered in true_divide\n",
      "  return n/db/n.sum(), bin_edges\n"
     ]
    },
    {
     "name": "stdout",
     "output_type": "stream",
     "text": [
      "[-1.6648655223030695, -1.9623626586463125, -1.2427319876870302]\n",
      "[-1.7304236804823347, -1.6440851266167948, -2.26866726997749]\n",
      "[nan, nan, nan]\n",
      "[nan, nan, nan]\n",
      "[nan, nan, nan]\n",
      "[-1.6676491136815952, -1.8770095089635814, -1.464230725936697]\n"
     ]
    },
    {
     "name": "stderr",
     "output_type": "stream",
     "text": [
      "/home/lucasmdesa/anaconda3/envs/bco/lib/python3.9/site-packages/numpy/lib/histograms.py:906: RuntimeWarning: invalid value encountered in true_divide\n",
      "  return n/db/n.sum(), bin_edges\n"
     ]
    },
    {
     "name": "stdout",
     "output_type": "stream",
     "text": [
      "[-1.5767374125649414, -1.9517420855355159, -1.0329727459342861]\n",
      "[-1.60912690135677, -1.5645836913279956, -2.1070699515634415]\n",
      "[nan, nan, nan]\n",
      "[nan, nan, nan]\n",
      "[nan, nan, nan]\n",
      "[-1.5714967864944862, -1.8405198562904563, -1.2940020702918615]\n"
     ]
    },
    {
     "name": "stderr",
     "output_type": "stream",
     "text": [
      "/home/lucasmdesa/anaconda3/envs/bco/lib/python3.9/site-packages/numpy/lib/histograms.py:906: RuntimeWarning: invalid value encountered in true_divide\n",
      "  return n/db/n.sum(), bin_edges\n"
     ]
    },
    {
     "name": "stdout",
     "output_type": "stream",
     "text": [
      "[-1.608266416826607, -1.932073933587123, -1.1215314828512069]\n",
      "[-1.659729526831367, -1.586691673884232, -2.1778065052085527]\n",
      "[nan, nan, nan]\n",
      "[nan, nan, nan]\n",
      "[nan, nan, nan]\n",
      "[-1.6077452398840202, -1.836353457381465, -1.365873143320368]\n"
     ]
    },
    {
     "name": "stderr",
     "output_type": "stream",
     "text": [
      "/home/lucasmdesa/anaconda3/envs/bco/lib/python3.9/site-packages/numpy/lib/histograms.py:906: RuntimeWarning: invalid value encountered in true_divide\n",
      "  return n/db/n.sum(), bin_edges\n"
     ]
    },
    {
     "name": "stdout",
     "output_type": "stream",
     "text": [
      "[-1.5942140693069544, -1.9204166101948004, -1.1054278245406053]\n",
      "[-1.6455133277272347, -1.569526724475816, -2.16924252840343]\n",
      "[nan, nan, nan]\n",
      "[nan, nan, nan]\n",
      "[nan, nan, nan]\n",
      "[-1.5935769213837212, -1.8220633919223748, -1.3542585779983478]\n"
     ]
    },
    {
     "name": "stderr",
     "output_type": "stream",
     "text": [
      "/home/lucasmdesa/anaconda3/envs/bco/lib/python3.9/site-packages/numpy/lib/histograms.py:906: RuntimeWarning: invalid value encountered in true_divide\n",
      "  return n/db/n.sum(), bin_edges\n"
     ]
    },
    {
     "name": "stdout",
     "output_type": "stream",
     "text": [
      "[-2.0236339425865126, -2.11107124879703, -1.8548337565926505]\n",
      "[-2.137119787423057, -2.0279353552634887, -2.6572881687460015]\n",
      "[nan, nan, nan]\n",
      "[nan, nan, nan]\n",
      "[nan, nan, nan]\n",
      "[-2.037635886093293, -2.0918052142077093, -1.9861739679564403]\n"
     ]
    },
    {
     "name": "stderr",
     "output_type": "stream",
     "text": [
      "/home/lucasmdesa/anaconda3/envs/bco/lib/python3.9/site-packages/numpy/lib/histograms.py:906: RuntimeWarning: invalid value encountered in true_divide\n",
      "  return n/db/n.sum(), bin_edges\n"
     ]
    },
    {
     "name": "stdout",
     "output_type": "stream",
     "text": [
      "[-1.6529810944835497, -1.9769333954987236, -1.1385703182968303]\n",
      "[-1.699660553393879, -1.6541287832281024, -2.1979062817315227]\n",
      "[nan, nan, nan]\n",
      "[nan, nan, nan]\n",
      "[nan, nan, nan]\n",
      "[-1.651023385566977, -1.8888278364374096, -1.38032089019185]\n"
     ]
    },
    {
     "name": "stderr",
     "output_type": "stream",
     "text": [
      "/home/lucasmdesa/anaconda3/envs/bco/lib/python3.9/site-packages/numpy/lib/histograms.py:906: RuntimeWarning: invalid value encountered in true_divide\n",
      "  return n/db/n.sum(), bin_edges\n"
     ]
    },
    {
     "name": "stdout",
     "output_type": "stream",
     "text": [
      "[-1.582214689629199, -1.9420162826980287, -1.0176590557791416]\n",
      "[-1.6172373411806027, -1.5711060249192161, -2.112930524981759]\n",
      "[nan, nan, nan]\n",
      "[nan, nan, nan]\n",
      "[nan, nan, nan]\n",
      "[-1.5771587082264158, -1.8359086590711609, -1.2846854069673856]\n"
     ]
    },
    {
     "name": "stderr",
     "output_type": "stream",
     "text": [
      "/home/lucasmdesa/anaconda3/envs/bco/lib/python3.9/site-packages/numpy/lib/histograms.py:906: RuntimeWarning: invalid value encountered in true_divide\n",
      "  return n/db/n.sum(), bin_edges\n"
     ]
    },
    {
     "name": "stdout",
     "output_type": "stream",
     "text": [
      "[-1.6259368101010214, -1.936222776469092, -1.16743416520543]\n",
      "[-1.6873097815751634, -1.6031783150912846, -2.218411642801894]\n",
      "[nan, nan, nan]\n",
      "[nan, nan, nan]\n",
      "[nan, nan, nan]\n",
      "[-1.6276001794655786, -1.8439834599957103, -1.4040596111909636]\n"
     ]
    },
    {
     "name": "stderr",
     "output_type": "stream",
     "text": [
      "/home/lucasmdesa/anaconda3/envs/bco/lib/python3.9/site-packages/numpy/lib/histograms.py:906: RuntimeWarning: invalid value encountered in true_divide\n",
      "  return n/db/n.sum(), bin_edges\n"
     ]
    },
    {
     "name": "stdout",
     "output_type": "stream",
     "text": [
      "[-1.5731334384964935, -1.9202392432369926, -1.0560862955192105]\n",
      "[-1.621141931273523, -1.5514702564784733, -2.1469173232469854]\n",
      "[nan, nan, nan]\n",
      "[nan, nan, nan]\n",
      "[nan, nan, nan]\n",
      "[-1.5712031717093922, -1.8143101269443187, -1.3165221042304744]\n"
     ]
    },
    {
     "name": "stderr",
     "output_type": "stream",
     "text": [
      "/home/lucasmdesa/anaconda3/envs/bco/lib/python3.9/site-packages/numpy/lib/histograms.py:906: RuntimeWarning: invalid value encountered in true_divide\n",
      "  return n/db/n.sum(), bin_edges\n"
     ]
    },
    {
     "name": "stdout",
     "output_type": "stream",
     "text": [
      "[-1.5505677683775334, -1.9023345185206202, -1.0118560051392438]\n",
      "[-1.5957328422687789, -1.5268011200742644, -2.118544093833505]\n",
      "[nan, nan, nan]\n",
      "[nan, nan, nan]\n",
      "[nan, nan, nan]\n",
      "[-1.5480023605064217, -1.7932370938733093, -1.2843198426409683]\n"
     ]
    },
    {
     "name": "stderr",
     "output_type": "stream",
     "text": [
      "/home/lucasmdesa/anaconda3/envs/bco/lib/python3.9/site-packages/numpy/lib/histograms.py:906: RuntimeWarning: invalid value encountered in true_divide\n",
      "  return n/db/n.sum(), bin_edges\n"
     ]
    },
    {
     "name": "stdout",
     "output_type": "stream",
     "text": [
      "[-1.528309211255342, -1.8896759530142269, -0.9830371721932942]\n",
      "[-1.571025014315768, -1.4999841566610184, -2.092732021140016]\n",
      "[nan, nan, nan]\n",
      "[nan, nan, nan]\n",
      "[nan, nan, nan]\n",
      "[-1.5251012117361544, -1.7743631414705716, -1.2602432807711603]\n"
     ]
    },
    {
     "name": "stderr",
     "output_type": "stream",
     "text": [
      "/home/lucasmdesa/anaconda3/envs/bco/lib/python3.9/site-packages/numpy/lib/histograms.py:906: RuntimeWarning: invalid value encountered in true_divide\n",
      "  return n/db/n.sum(), bin_edges\n"
     ]
    },
    {
     "name": "stdout",
     "output_type": "stream",
     "text": [
      "[-1.5019884677141415, -1.8892460308018688, -0.9379591404019842]\n",
      "[-1.53873959701823, -1.473987820681684, -2.0592749466452167]\n",
      "[nan, nan, nan]\n",
      "[nan, nan, nan]\n",
      "[nan, nan, nan]\n",
      "[-1.4971046040910976, -1.762841576654492, -1.2247488678386345]\n"
     ]
    },
    {
     "name": "stderr",
     "output_type": "stream",
     "text": [
      "/home/lucasmdesa/anaconda3/envs/bco/lib/python3.9/site-packages/numpy/lib/histograms.py:906: RuntimeWarning: invalid value encountered in true_divide\n",
      "  return n/db/n.sum(), bin_edges\n"
     ]
    },
    {
     "name": "stdout",
     "output_type": "stream",
     "text": [
      "[-1.4841077234798872, -1.8767597477689442, -0.9149679983830481]\n",
      "[-1.5209932889057998, -1.4528842052583306, -2.0465707653761838]\n",
      "[nan, nan, nan]\n",
      "[nan, nan, nan]\n",
      "[nan, nan, nan]\n",
      "[-1.4790241033367724, -1.7461815403935803, -1.2074489382378453]\n"
     ]
    },
    {
     "name": "stderr",
     "output_type": "stream",
     "text": [
      "/home/lucasmdesa/anaconda3/envs/bco/lib/python3.9/site-packages/numpy/lib/histograms.py:906: RuntimeWarning: invalid value encountered in true_divide\n",
      "  return n/db/n.sum(), bin_edges\n"
     ]
    },
    {
     "name": "stdout",
     "output_type": "stream",
     "text": [
      "[-1.4507820636490327, -1.8467788890638763, -0.8544595345823445]\n",
      "[-1.484488236938626, -1.4116580497007403, -2.009638467635488]\n",
      "[nan, nan, nan]\n",
      "[nan, nan, nan]\n",
      "[nan, nan, nan]\n",
      "[-1.4445148199223992, -1.710258149905705, -1.1626845309645084]\n"
     ]
    },
    {
     "name": "stderr",
     "output_type": "stream",
     "text": [
      "/home/lucasmdesa/anaconda3/envs/bco/lib/python3.9/site-packages/numpy/lib/histograms.py:906: RuntimeWarning: invalid value encountered in true_divide\n",
      "  return n/db/n.sum(), bin_edges\n"
     ]
    },
    {
     "name": "stdout",
     "output_type": "stream",
     "text": [
      "[-1.9799074169991406, -2.0941340168166844, -1.7700243249184975]\n",
      "[-2.0877346047926797, -1.9951798369434484, -2.606956942590686]\n",
      "[nan, nan, nan]\n",
      "[nan, nan, nan]\n",
      "[nan, nan, nan]\n",
      "[-1.9924593594224789, -2.0709200071190024, -1.9104479821584242]\n"
     ]
    },
    {
     "name": "stderr",
     "output_type": "stream",
     "text": [
      "/home/lucasmdesa/anaconda3/envs/bco/lib/python3.9/site-packages/numpy/lib/histograms.py:906: RuntimeWarning: invalid value encountered in true_divide\n",
      "  return n/db/n.sum(), bin_edges\n"
     ]
    },
    {
     "name": "stdout",
     "output_type": "stream",
     "text": [
      "[-1.642547319487972, -1.9653468010779922, -1.1650404894333932]\n",
      "[-1.6989560994002495, -1.638048779074754, -2.216024019249416]\n",
      "[nan, nan, nan]\n",
      "[nan, nan, nan]\n",
      "[nan, nan, nan]\n",
      "[-1.6428819063478823, -1.8742892375515485, -1.4013244369733893]\n"
     ]
    },
    {
     "name": "stderr",
     "output_type": "stream",
     "text": [
      "/home/lucasmdesa/anaconda3/envs/bco/lib/python3.9/site-packages/numpy/lib/histograms.py:906: RuntimeWarning: invalid value encountered in true_divide\n",
      "  return n/db/n.sum(), bin_edges\n"
     ]
    },
    {
     "name": "stdout",
     "output_type": "stream",
     "text": [
      "[-1.5804749978945463, -1.9358249430294465, -1.0667483257852823]\n",
      "[-1.6277351189900557, -1.5666694888295898, -2.1478374476351543]\n",
      "[nan, nan, nan]\n",
      "[nan, nan, nan]\n",
      "[nan, nan, nan]\n",
      "[-1.578368353951885, -1.8285722071309782, -1.3231049033772262]\n"
     ]
    },
    {
     "name": "stderr",
     "output_type": "stream",
     "text": [
      "/home/lucasmdesa/anaconda3/envs/bco/lib/python3.9/site-packages/numpy/lib/histograms.py:906: RuntimeWarning: invalid value encountered in true_divide\n",
      "  return n/db/n.sum(), bin_edges\n"
     ]
    },
    {
     "name": "stdout",
     "output_type": "stream",
     "text": [
      "[-1.5421330445123835, -1.9104717537413332, -1.0003148323676394]\n",
      "[-1.5833700878343846, -1.523623233767457, -2.100714679948637]\n",
      "[nan, nan, nan]\n",
      "[nan, nan, nan]\n",
      "[nan, nan, nan]\n",
      "[-1.5386513685967913, -1.7955929672197002, -1.2734032665899935]\n"
     ]
    },
    {
     "name": "stderr",
     "output_type": "stream",
     "text": [
      "/home/lucasmdesa/anaconda3/envs/bco/lib/python3.9/site-packages/numpy/lib/histograms.py:906: RuntimeWarning: invalid value encountered in true_divide\n",
      "  return n/db/n.sum(), bin_edges\n"
     ]
    },
    {
     "name": "stdout",
     "output_type": "stream",
     "text": [
      "[-1.507179342412962, -1.8829634629533316, -0.9329310290626374]\n",
      "[-1.5440344513973783, -1.481881468315568, -2.057694439300741]\n",
      "[nan, nan, nan]\n",
      "[nan, nan, nan]\n",
      "[nan, nan, nan]\n",
      "[-1.5022416158708523, -1.7616395074163345, -1.2214442878263074]\n"
     ]
    },
    {
     "name": "stderr",
     "output_type": "stream",
     "text": [
      "/home/lucasmdesa/anaconda3/envs/bco/lib/python3.9/site-packages/numpy/lib/histograms.py:906: RuntimeWarning: invalid value encountered in true_divide\n",
      "  return n/db/n.sum(), bin_edges\n"
     ]
    },
    {
     "name": "stdout",
     "output_type": "stream",
     "text": [
      "[-1.486785296210724, -1.8690703975541048, -0.9047383007510809]\n",
      "[-1.5233546727705745, -1.4575535558920105, -2.041759142652937]\n",
      "[nan, nan, nan]\n",
      "[nan, nan, nan]\n",
      "[nan, nan, nan]\n",
      "[-1.4815799554676086, -1.7428802157820094, -1.2007170097702702]\n"
     ]
    },
    {
     "name": "stderr",
     "output_type": "stream",
     "text": [
      "/home/lucasmdesa/anaconda3/envs/bco/lib/python3.9/site-packages/numpy/lib/histograms.py:906: RuntimeWarning: invalid value encountered in true_divide\n",
      "  return n/db/n.sum(), bin_edges\n"
     ]
    },
    {
     "name": "stdout",
     "output_type": "stream",
     "text": [
      "[-1.463125648895317, -1.856880445233881, -0.8669821662979218]\n",
      "[-1.4959369548849546, -1.428690703695627, -2.014738284897208]\n",
      "[nan, nan, nan]\n",
      "[nan, nan, nan]\n",
      "[nan, nan, nan]\n",
      "[-1.4567523818769645, -1.7228553080999955, -1.171783411944907]\n"
     ]
    },
    {
     "name": "stderr",
     "output_type": "stream",
     "text": [
      "/home/lucasmdesa/anaconda3/envs/bco/lib/python3.9/site-packages/numpy/lib/histograms.py:906: RuntimeWarning: invalid value encountered in true_divide\n",
      "  return n/db/n.sum(), bin_edges\n"
     ]
    },
    {
     "name": "stdout",
     "output_type": "stream",
     "text": [
      "[-1.4386477928992198, -1.8380248984384573, -0.8272649445515395]\n",
      "[-1.4705180712548724, -1.4025152639267795, -1.9935327566788896]\n",
      "[nan, nan, nan]\n",
      "[nan, nan, nan]\n",
      "[nan, nan, nan]\n",
      "[-1.4315727255810167, -1.6999510908252808, -1.1425335155727467]\n"
     ]
    },
    {
     "name": "stderr",
     "output_type": "stream",
     "text": [
      "/home/lucasmdesa/anaconda3/envs/bco/lib/python3.9/site-packages/numpy/lib/histograms.py:906: RuntimeWarning: invalid value encountered in true_divide\n",
      "  return n/db/n.sum(), bin_edges\n"
     ]
    },
    {
     "name": "stdout",
     "output_type": "stream",
     "text": [
      "[-1.4117836902621463, -1.8252708631179824, -0.7878918652886314]\n",
      "[-1.4410071439826182, -1.3725019927803772, -1.965583259506254]\n",
      "[nan, nan, nan]\n",
      "[nan, nan, nan]\n",
      "[nan, nan, nan]\n",
      "[-1.4038012954266823, -1.6785100749822626, -1.113071699790005]\n"
     ]
    },
    {
     "name": "stderr",
     "output_type": "stream",
     "text": [
      "/home/lucasmdesa/anaconda3/envs/bco/lib/python3.9/site-packages/numpy/lib/histograms.py:906: RuntimeWarning: invalid value encountered in true_divide\n",
      "  return n/db/n.sum(), bin_edges\n"
     ]
    },
    {
     "name": "stdout",
     "output_type": "stream",
     "text": [
      "[-1.3720130968049038, -1.8096838185362696, -0.7294315942102586]\n",
      "[-1.3949839556593937, -1.3311816576371247, -1.9156520670850699]\n",
      "[nan, nan, nan]\n",
      "[nan, nan, nan]\n",
      "[nan, nan, nan]\n",
      "[-1.362286606033868, -1.6490531159431825, -1.0688186234839854]\n"
     ]
    },
    {
     "name": "stderr",
     "output_type": "stream",
     "text": [
      "/home/lucasmdesa/anaconda3/envs/bco/lib/python3.9/site-packages/numpy/lib/histograms.py:906: RuntimeWarning: invalid value encountered in true_divide\n",
      "  return n/db/n.sum(), bin_edges\n"
     ]
    },
    {
     "name": "stdout",
     "output_type": "stream",
     "text": [
      "[-1.9553100794941516, -2.0523654689131585, -1.715250438646145]\n",
      "[-2.060405582457951, -1.964101952296967, -2.562150883381047]\n",
      "[nan, nan, nan]\n",
      "[nan, nan, nan]\n",
      "[nan, nan, nan]\n",
      "[-1.9675218070825162, -2.031786561993555, -1.8617523949815198]\n"
     ]
    },
    {
     "name": "stderr",
     "output_type": "stream",
     "text": [
      "/home/lucasmdesa/anaconda3/envs/bco/lib/python3.9/site-packages/numpy/lib/histograms.py:906: RuntimeWarning: invalid value encountered in true_divide\n",
      "  return n/db/n.sum(), bin_edges\n"
     ]
    },
    {
     "name": "stdout",
     "output_type": "stream",
     "text": [
      "[-1.6285873932456107, -1.9337341935424222, -1.1488022455381681]\n",
      "[-1.6885395005379271, -1.6175221804590934, -2.2089920986332285]\n",
      "[nan, nan, nan]\n",
      "[nan, nan, nan]\n",
      "[nan, nan, nan]\n",
      "[-1.6296177392094482, -1.8457725523447892, -1.3892608151321513]\n"
     ]
    },
    {
     "name": "stderr",
     "output_type": "stream",
     "text": [
      "/home/lucasmdesa/anaconda3/envs/bco/lib/python3.9/site-packages/numpy/lib/histograms.py:906: RuntimeWarning: invalid value encountered in true_divide\n",
      "  return n/db/n.sum(), bin_edges\n"
     ]
    },
    {
     "name": "stdout",
     "output_type": "stream",
     "text": [
      "[-1.5460335485194034, -1.8954931522742697, -0.9920334385318308]\n",
      "[-1.5881463317903972, -1.5291166778181349, -2.0978567045437546]\n",
      "[nan, nan, nan]\n",
      "[nan, nan, nan]\n",
      "[nan, nan, nan]\n",
      "[-1.542673116774411, -1.7880380378987626, -1.267872928872737]\n"
     ]
    },
    {
     "name": "stderr",
     "output_type": "stream",
     "text": [
      "/home/lucasmdesa/anaconda3/envs/bco/lib/python3.9/site-packages/numpy/lib/histograms.py:906: RuntimeWarning: invalid value encountered in true_divide\n",
      "  return n/db/n.sum(), bin_edges\n"
     ]
    },
    {
     "name": "stdout",
     "output_type": "stream",
     "text": [
      "[-1.5032562266567597, -1.8772644555644709, -0.9245501919524267]\n",
      "[-1.5411628020485366, -1.4779241410942126, -2.0568537187020057]\n",
      "[nan, nan, nan]\n",
      "[nan, nan, nan]\n",
      "[nan, nan, nan]\n",
      "[-1.4983637002440224, -1.7560215295947623, -1.2156945440240823]\n"
     ]
    },
    {
     "name": "stderr",
     "output_type": "stream",
     "text": [
      "/home/lucasmdesa/anaconda3/envs/bco/lib/python3.9/site-packages/numpy/lib/histograms.py:906: RuntimeWarning: invalid value encountered in true_divide\n",
      "  return n/db/n.sum(), bin_edges\n"
     ]
    },
    {
     "name": "stdout",
     "output_type": "stream",
     "text": [
      "[-1.4741821818052734, -1.8581479842161022, -0.8813437895646842]\n",
      "[-1.5087696830093211, -1.4426165840726872, -2.0250025823399183]\n",
      "[nan, nan, nan]\n",
      "[nan, nan, nan]\n",
      "[nan, nan, nan]\n",
      "[-1.4682529376868039, -1.7295571204042561, -1.1821435165927936]\n"
     ]
    },
    {
     "name": "stderr",
     "output_type": "stream",
     "text": [
      "/home/lucasmdesa/anaconda3/envs/bco/lib/python3.9/site-packages/numpy/lib/histograms.py:906: RuntimeWarning: invalid value encountered in true_divide\n",
      "  return n/db/n.sum(), bin_edges\n"
     ]
    },
    {
     "name": "stdout",
     "output_type": "stream",
     "text": [
      "[-1.4471933478153156, -1.844400045588384, -0.8360323894255094]\n",
      "[-1.47807528116331, -1.4128925742050906, -1.9947537620088631]\n",
      "[nan, nan, nan]\n",
      "[nan, nan, nan]\n",
      "[nan, nan, nan]\n",
      "[-1.4399743728473535, -1.708039003518446, -1.147731579387794]\n"
     ]
    },
    {
     "name": "stderr",
     "output_type": "stream",
     "text": [
      "/home/lucasmdesa/anaconda3/envs/bco/lib/python3.9/site-packages/numpy/lib/histograms.py:906: RuntimeWarning: invalid value encountered in true_divide\n",
      "  return n/db/n.sum(), bin_edges\n"
     ]
    },
    {
     "name": "stdout",
     "output_type": "stream",
     "text": [
      "[-1.4214929112081802, -1.8409482999409204, -0.8017276544363973]\n",
      "[-1.4492037114339877, -1.3871106068315227, -1.9692414000174823]\n",
      "[nan, nan, nan]\n",
      "[nan, nan, nan]\n",
      "[nan, nan, nan]\n",
      "[-1.4132783246206833, -1.6936138932223077, -1.1221495435151103]\n"
     ]
    },
    {
     "name": "stderr",
     "output_type": "stream",
     "text": [
      "/home/lucasmdesa/anaconda3/envs/bco/lib/python3.9/site-packages/numpy/lib/histograms.py:906: RuntimeWarning: invalid value encountered in true_divide\n",
      "  return n/db/n.sum(), bin_edges\n"
     ]
    },
    {
     "name": "stdout",
     "output_type": "stream",
     "text": [
      "[-1.3952439572347854, -1.8273061313347898, -0.7593204149185038]\n",
      "[-1.4198803347086737, -1.3586905425248308, -1.9419987653980926]\n",
      "[nan, nan, nan]\n",
      "[nan, nan, nan]\n",
      "[nan, nan, nan]\n",
      "[-1.3859292961872485, -1.6723790751575944, -1.0913751939401857]\n"
     ]
    },
    {
     "name": "stderr",
     "output_type": "stream",
     "text": [
      "/home/lucasmdesa/anaconda3/envs/bco/lib/python3.9/site-packages/numpy/lib/histograms.py:906: RuntimeWarning: invalid value encountered in true_divide\n",
      "  return n/db/n.sum(), bin_edges\n"
     ]
    },
    {
     "name": "stdout",
     "output_type": "stream",
     "text": [
      "[-1.3668109523611975, -1.8129499134080198, -0.7129314117781358]\n",
      "[-1.3867536547622037, -1.3267317134033993, -1.9039531255780415]\n",
      "[nan, nan, nan]\n",
      "[nan, nan, nan]\n",
      "[nan, nan, nan]\n",
      "[-1.3561467622046688, -1.6483860187716481, -1.0566254425779233]\n"
     ]
    },
    {
     "name": "stderr",
     "output_type": "stream",
     "text": [
      "/home/lucasmdesa/anaconda3/envs/bco/lib/python3.9/site-packages/numpy/lib/histograms.py:906: RuntimeWarning: invalid value encountered in true_divide\n",
      "  return n/db/n.sum(), bin_edges\n"
     ]
    },
    {
     "name": "stdout",
     "output_type": "stream",
     "text": [
      "[-1.3243759111794662, -1.780390697401426, -0.6458049911094064]\n",
      "[-1.3408247183985256, -1.2740425509449322, -1.85562626301171]\n",
      "[nan, nan, nan]\n",
      "[nan, nan, nan]\n",
      "[nan, nan, nan]\n",
      "[-1.3123936228992086, -1.604754031082888, -1.0070861363240333]\n"
     ]
    },
    {
     "name": "stderr",
     "output_type": "stream",
     "text": [
      "/home/lucasmdesa/anaconda3/envs/bco/lib/python3.9/site-packages/numpy/lib/histograms.py:906: RuntimeWarning: invalid value encountered in true_divide\n",
      "  return n/db/n.sum(), bin_edges\n"
     ]
    },
    {
     "name": "stdout",
     "output_type": "stream",
     "text": [
      "[-1.9359204315030172, -2.058367647612497, -1.6910815443217166]\n",
      "[-2.0419788271957393, -1.9520317488150714, -2.5532959153890507]\n",
      "[nan, nan, nan]\n",
      "[nan, nan, nan]\n",
      "[nan, nan, nan]\n",
      "[-1.9480000526569359, -2.032928534051981, -1.840300819447644]\n"
     ]
    },
    {
     "name": "stderr",
     "output_type": "stream",
     "text": [
      "/home/lucasmdesa/anaconda3/envs/bco/lib/python3.9/site-packages/numpy/lib/histograms.py:906: RuntimeWarning: invalid value encountered in true_divide\n",
      "  return n/db/n.sum(), bin_edges\n"
     ]
    },
    {
     "name": "stdout",
     "output_type": "stream",
     "text": [
      "[-1.5840196675939857, -1.9162337980693067, -1.0464929008860446]\n",
      "[-1.6318883922041563, -1.5742222718310248, -2.1415064690196015]\n",
      "[nan, nan, nan]\n",
      "[nan, nan, nan]\n",
      "[nan, nan, nan]\n",
      "[-1.581799356927601, -1.817832674020705, -1.3089972031783428]\n"
     ]
    },
    {
     "name": "stderr",
     "output_type": "stream",
     "text": [
      "/home/lucasmdesa/anaconda3/envs/bco/lib/python3.9/site-packages/numpy/lib/histograms.py:906: RuntimeWarning: invalid value encountered in true_divide\n",
      "  return n/db/n.sum(), bin_edges\n"
     ]
    },
    {
     "name": "stdout",
     "output_type": "stream",
     "text": [
      "[-1.5141758549408901, -1.8954631136932663, -0.9372159627809254]\n",
      "[-1.5494387004186492, -1.4996804436463933, -2.054759236910506]\n",
      "[nan, nan, nan]\n",
      "[nan, nan, nan]\n",
      "[nan, nan, nan]\n",
      "[-1.5088266170468911, -1.7746092374326252, -1.2234648497616163]\n"
     ]
    },
    {
     "name": "stderr",
     "output_type": "stream",
     "text": [
      "/home/lucasmdesa/anaconda3/envs/bco/lib/python3.9/site-packages/numpy/lib/histograms.py:906: RuntimeWarning: invalid value encountered in true_divide\n",
      "  return n/db/n.sum(), bin_edges\n"
     ]
    },
    {
     "name": "stdout",
     "output_type": "stream",
     "text": [
      "[-1.4790746986074832, -1.8770007287019308, -0.8833110012685785]\n",
      "[-1.5117306517139197, -1.4544701956705324, -2.0275336371292267]\n",
      "[nan, nan, nan]\n",
      "[nan, nan, nan]\n",
      "[nan, nan, nan]\n",
      "[-1.472579642517104, -1.7452979413645267, -1.1838040052307905]\n"
     ]
    },
    {
     "name": "stderr",
     "output_type": "stream",
     "text": [
      "/home/lucasmdesa/anaconda3/envs/bco/lib/python3.9/site-packages/numpy/lib/histograms.py:906: RuntimeWarning: invalid value encountered in true_divide\n",
      "  return n/db/n.sum(), bin_edges\n"
     ]
    },
    {
     "name": "stdout",
     "output_type": "stream",
     "text": [
      "[-1.4459330340524952, -1.8580684705036556, -0.8350551250441398]\n",
      "[-1.473997187468908, -1.4166931978595945, -1.9888915607933455]\n",
      "[nan, nan, nan]\n",
      "[nan, nan, nan]\n",
      "[nan, nan, nan]\n",
      "[-1.4380674801261633, -1.7170231900832444, -1.146359885890533]\n"
     ]
    },
    {
     "name": "stderr",
     "output_type": "stream",
     "text": [
      "/home/lucasmdesa/anaconda3/envs/bco/lib/python3.9/site-packages/numpy/lib/histograms.py:906: RuntimeWarning: invalid value encountered in true_divide\n",
      "  return n/db/n.sum(), bin_edges\n"
     ]
    },
    {
     "name": "stdout",
     "output_type": "stream",
     "text": [
      "[-1.41717441413085, -1.8427599334010305, -0.789343710561981]\n",
      "[-1.4425696478764203, -1.3841799869946179, -1.9590310923582037]\n",
      "[nan, nan, nan]\n",
      "[nan, nan, nan]\n",
      "[nan, nan, nan]\n",
      "[-1.4083771904652984, -1.693055552425097, -1.1130935950576104]\n"
     ]
    },
    {
     "name": "stderr",
     "output_type": "stream",
     "text": [
      "/home/lucasmdesa/anaconda3/envs/bco/lib/python3.9/site-packages/numpy/lib/histograms.py:906: RuntimeWarning: invalid value encountered in true_divide\n",
      "  return n/db/n.sum(), bin_edges\n"
     ]
    },
    {
     "name": "stdout",
     "output_type": "stream",
     "text": [
      "[-1.38910448295712, -1.8153554980863615, -0.7461231902996316]\n",
      "[-1.4133152220075629, -1.3499242000844391, -1.9300268039336252]\n",
      "[nan, nan, nan]\n",
      "[nan, nan, nan]\n",
      "[nan, nan, nan]\n",
      "[-1.3797479542557056, -1.6617864424508388, -1.0810844249275144]\n"
     ]
    },
    {
     "name": "stderr",
     "output_type": "stream",
     "text": [
      "/home/lucasmdesa/anaconda3/envs/bco/lib/python3.9/site-packages/numpy/lib/histograms.py:906: RuntimeWarning: invalid value encountered in true_divide\n",
      "  return n/db/n.sum(), bin_edges\n"
     ]
    },
    {
     "name": "stdout",
     "output_type": "stream",
     "text": [
      "[-1.3624179489319925, -1.8011372035930777, -0.7021478618125646]\n",
      "[-1.3826050875783582, -1.3196806134621892, -1.895835170298895]\n",
      "[nan, nan, nan]\n",
      "[nan, nan, nan]\n",
      "[nan, nan, nan]\n",
      "[-1.3518130086767917, -1.6386519223532432, -1.0484585510038917]\n"
     ]
    },
    {
     "name": "stderr",
     "output_type": "stream",
     "text": [
      "/home/lucasmdesa/anaconda3/envs/bco/lib/python3.9/site-packages/numpy/lib/histograms.py:906: RuntimeWarning: invalid value encountered in true_divide\n",
      "  return n/db/n.sum(), bin_edges\n"
     ]
    },
    {
     "name": "stdout",
     "output_type": "stream",
     "text": [
      "[-1.3316397559331643, -1.7842473693231473, -0.6591479115622535]\n",
      "[-1.349313807202551, -1.2831881673321681, -1.8660246903911553]\n",
      "[nan, nan, nan]\n",
      "[nan, nan, nan]\n",
      "[nan, nan, nan]\n",
      "[-1.3199303752490525, -1.6112854329679385, -1.0163394298040092]\n"
     ]
    },
    {
     "name": "stderr",
     "output_type": "stream",
     "text": [
      "/home/lucasmdesa/anaconda3/envs/bco/lib/python3.9/site-packages/numpy/lib/histograms.py:906: RuntimeWarning: invalid value encountered in true_divide\n",
      "  return n/db/n.sum(), bin_edges\n"
     ]
    },
    {
     "name": "stdout",
     "output_type": "stream",
     "text": [
      "[-1.2867587296902507, -1.758202009063066, -0.5821211703922132]\n",
      "[-1.2983242912686255, -1.2301193482039063, -1.8080914782476938]\n",
      "[nan, nan, nan]\n",
      "[nan, nan, nan]\n",
      "[nan, nan, nan]\n",
      "[-1.27313898675619, -1.5697101280344221, -0.9616019844967151]\n"
     ]
    },
    {
     "name": "stderr",
     "output_type": "stream",
     "text": [
      "/home/lucasmdesa/anaconda3/envs/bco/lib/python3.9/site-packages/numpy/lib/histograms.py:906: RuntimeWarning: invalid value encountered in true_divide\n",
      "  return n/db/n.sum(), bin_edges\n"
     ]
    },
    {
     "name": "stdout",
     "output_type": "stream",
     "text": [
      "[-1.9179839453554917, -2.054102269790824, -1.6383258423762392]\n",
      "[-2.0253465156701322, -1.939644407398733, -2.543146535321612]\n",
      "[nan, nan, nan]\n",
      "[nan, nan, nan]\n",
      "[nan, nan, nan]\n",
      "[-1.9294110741460317, -2.0261847017740893, -1.7945170999015403]\n"
     ]
    },
    {
     "name": "stderr",
     "output_type": "stream",
     "text": [
      "/home/lucasmdesa/anaconda3/envs/bco/lib/python3.9/site-packages/numpy/lib/histograms.py:906: RuntimeWarning: invalid value encountered in true_divide\n",
      "  return n/db/n.sum(), bin_edges\n"
     ]
    },
    {
     "name": "stdout",
     "output_type": "stream",
     "text": [
      "[-1.5546842925910298, -1.8994343238374816, -1.0005688972833136]\n",
      "[-1.5979735589964343, -1.5449294883446743, -2.099094530782954]\n",
      "[nan, nan, nan]\n",
      "[nan, nan, nan]\n",
      "[nan, nan, nan]\n",
      "[-1.5512947663250578, -1.7952477711065478, -1.2704062284255389]\n"
     ]
    },
    {
     "name": "stderr",
     "output_type": "stream",
     "text": [
      "/home/lucasmdesa/anaconda3/envs/bco/lib/python3.9/site-packages/numpy/lib/histograms.py:906: RuntimeWarning: invalid value encountered in true_divide\n",
      "  return n/db/n.sum(), bin_edges\n"
     ]
    },
    {
     "name": "stdout",
     "output_type": "stream",
     "text": [
      "[-1.4881844330537062, -1.8689919325338278, -0.8941876093337272]\n",
      "[-1.5210879125242875, -1.4661507267444711, -2.0190526362663994]\n",
      "[nan, nan, nan]\n",
      "[nan, nan, nan]\n",
      "[nan, nan, nan]\n",
      "[-1.4821411274143381, -1.744932547501609, -1.1883349679989132]\n"
     ]
    },
    {
     "name": "stderr",
     "output_type": "stream",
     "text": [
      "/home/lucasmdesa/anaconda3/envs/bco/lib/python3.9/site-packages/numpy/lib/histograms.py:906: RuntimeWarning: invalid value encountered in true_divide\n",
      "  return n/db/n.sum(), bin_edges\n"
     ]
    },
    {
     "name": "stdout",
     "output_type": "stream",
     "text": [
      "[-1.4471212181323463, -1.8505754339337097, -0.8274322529750892]\n",
      "[-1.4742590123998904, -1.4172198049816078, -1.9761041130625538]\n",
      "[nan, nan, nan]\n",
      "[nan, nan, nan]\n",
      "[nan, nan, nan]\n",
      "[-1.4392655943223212, -1.7123763682612634, -1.1395802962937658]\n"
     ]
    },
    {
     "name": "stderr",
     "output_type": "stream",
     "text": [
      "/home/lucasmdesa/anaconda3/envs/bco/lib/python3.9/site-packages/numpy/lib/histograms.py:906: RuntimeWarning: invalid value encountered in true_divide\n",
      "  return n/db/n.sum(), bin_edges\n"
     ]
    },
    {
     "name": "stdout",
     "output_type": "stream",
     "text": [
      "[-1.4134636713212634, -1.8329967702700485, -0.7760254093009314]\n",
      "[-1.43607363119764, -1.379976441846313, -1.9392055675214335]\n",
      "[nan, nan, nan]\n",
      "[nan, nan, nan]\n",
      "[nan, nan, nan]\n",
      "[-1.4041303189306606, -1.685026256371687, -1.100940208509318]\n"
     ]
    },
    {
     "name": "stderr",
     "output_type": "stream",
     "text": [
      "/home/lucasmdesa/anaconda3/envs/bco/lib/python3.9/site-packages/numpy/lib/histograms.py:906: RuntimeWarning: invalid value encountered in true_divide\n",
      "  return n/db/n.sum(), bin_edges\n"
     ]
    },
    {
     "name": "stdout",
     "output_type": "stream",
     "text": [
      "[-1.3815709210502345, -1.8134201515560429, -0.7293497413331013]\n",
      "[-1.4013101329529065, -1.3397222115635552, -1.9062436615104197]\n",
      "[nan, nan, nan]\n",
      "[nan, nan, nan]\n",
      "[nan, nan, nan]\n",
      "[-1.3712347615469873, -1.6554915569047322, -1.0662234074683477]\n"
     ]
    },
    {
     "name": "stderr",
     "output_type": "stream",
     "text": [
      "/home/lucasmdesa/anaconda3/envs/bco/lib/python3.9/site-packages/numpy/lib/histograms.py:906: RuntimeWarning: invalid value encountered in true_divide\n",
      "  return n/db/n.sum(), bin_edges\n"
     ]
    },
    {
     "name": "stdout",
     "output_type": "stream",
     "text": [
      "[-1.3537274890689697, -1.7914852949344051, -0.6868721802759625]\n",
      "[-1.3712180957624873, -1.3077694752683722, -1.8732862526184122]\n",
      "[nan, nan, nan]\n",
      "[nan, nan, nan]\n",
      "[nan, nan, nan]\n",
      "[-1.3427382213594026, -1.6274839864161745, -1.0355970129304783]\n"
     ]
    },
    {
     "name": "stderr",
     "output_type": "stream",
     "text": [
      "/home/lucasmdesa/anaconda3/envs/bco/lib/python3.9/site-packages/numpy/lib/histograms.py:906: RuntimeWarning: invalid value encountered in true_divide\n",
      "  return n/db/n.sum(), bin_edges\n"
     ]
    },
    {
     "name": "stdout",
     "output_type": "stream",
     "text": [
      "[-1.3250240183464324, -1.7776131880413029, -0.6409902984061931]\n",
      "[-1.3382418087146695, -1.2747931577337324, -1.8414186584056833]\n",
      "[nan, nan, nan]\n",
      "[nan, nan, nan]\n",
      "[nan, nan, nan]\n",
      "[-1.3126384246864922, -1.6033597334055225, -1.0035756696767213]\n"
     ]
    },
    {
     "name": "stderr",
     "output_type": "stream",
     "text": [
      "/home/lucasmdesa/anaconda3/envs/bco/lib/python3.9/site-packages/numpy/lib/histograms.py:906: RuntimeWarning: invalid value encountered in true_divide\n",
      "  return n/db/n.sum(), bin_edges\n"
     ]
    },
    {
     "name": "stdout",
     "output_type": "stream",
     "text": [
      "[-1.2918516290324626, -1.7599756954084274, -0.5901813260628481]\n",
      "[-1.3014496965348281, -1.2362802241565451, -1.8039794102427973]\n",
      "[nan, nan, nan]\n",
      "[nan, nan, nan]\n",
      "[nan, nan, nan]\n",
      "[-1.2780787466521502, -1.5738131743564683, -0.966084364906583]\n"
     ]
    },
    {
     "name": "stderr",
     "output_type": "stream",
     "text": [
      "/home/lucasmdesa/anaconda3/envs/bco/lib/python3.9/site-packages/numpy/lib/histograms.py:906: RuntimeWarning: invalid value encountered in true_divide\n",
      "  return n/db/n.sum(), bin_edges\n"
     ]
    },
    {
     "name": "stdout",
     "output_type": "stream",
     "text": [
      "[-1.2442352834204236, -1.745037986619882, -0.5211324212546599]\n",
      "[-1.247892867924863, -1.1812416872548954, -1.7542964282750344]\n",
      "[nan, nan, nan]\n",
      "[nan, nan, nan]\n",
      "[nan, nan, nan]\n",
      "[-1.2281282981473518, -1.535976644023209, -0.9161476130363929]\n"
     ]
    },
    {
     "name": "stderr",
     "output_type": "stream",
     "text": [
      "/home/lucasmdesa/anaconda3/envs/bco/lib/python3.9/site-packages/numpy/lib/histograms.py:906: RuntimeWarning: invalid value encountered in true_divide\n",
      "  return n/db/n.sum(), bin_edges\n"
     ]
    },
    {
     "name": "stdout",
     "output_type": "stream",
     "text": [
      "[-1.8958269400793262, -2.0060179078423, -1.6013142051225209]\n",
      "[-1.9938232035111556, -1.907421118070219, -2.4614449564377496]\n",
      "[nan, nan, nan]\n",
      "[nan, nan, nan]\n",
      "[nan, nan, nan]\n",
      "[-1.906980415638892, -1.9823482987623202, -1.757791612571443]\n"
     ]
    },
    {
     "name": "stderr",
     "output_type": "stream",
     "text": [
      "/home/lucasmdesa/anaconda3/envs/bco/lib/python3.9/site-packages/numpy/lib/histograms.py:906: RuntimeWarning: invalid value encountered in true_divide\n",
      "  return n/db/n.sum(), bin_edges\n"
     ]
    },
    {
     "name": "stdout",
     "output_type": "stream",
     "text": [
      "[-1.5322680356190517, -1.884442698094119, -0.9503597428635787]\n",
      "[-1.5721149421315208, -1.5217759146201097, -2.071085342019864]\n",
      "[nan, nan, nan]\n",
      "[nan, nan, nan]\n",
      "[nan, nan, nan]\n",
      "[-1.5276217994550145, -1.7755597994650443, -1.2327488414057626]\n"
     ]
    },
    {
     "name": "stderr",
     "output_type": "stream",
     "text": [
      "/home/lucasmdesa/anaconda3/envs/bco/lib/python3.9/site-packages/numpy/lib/histograms.py:906: RuntimeWarning: invalid value encountered in true_divide\n",
      "  return n/db/n.sum(), bin_edges\n"
     ]
    },
    {
     "name": "stdout",
     "output_type": "stream",
     "text": [
      "[-1.4624657776648233, -1.8526373764133743, -0.8464196929741183]\n",
      "[-1.4935680695809908, -1.441158095493809, -1.9976501712630845]\n",
      "[nan, nan, nan]\n",
      "[nan, nan, nan]\n",
      "[nan, nan, nan]\n",
      "[-1.455265535394331, -1.7233892579694083, -1.1537842557378457]\n"
     ]
    },
    {
     "name": "stderr",
     "output_type": "stream",
     "text": [
      "/home/lucasmdesa/anaconda3/envs/bco/lib/python3.9/site-packages/numpy/lib/histograms.py:906: RuntimeWarning: invalid value encountered in true_divide\n",
      "  return n/db/n.sum(), bin_edges\n"
     ]
    },
    {
     "name": "stdout",
     "output_type": "stream",
     "text": [
      "[-1.4193252899155557, -1.8281601774916305, -0.7774641940588044]\n",
      "[-1.442678555329906, -1.3862536654590583, -1.9407334578329578]\n",
      "[nan, nan, nan]\n",
      "[nan, nan, nan]\n",
      "[nan, nan, nan]\n",
      "[-1.4101288097085165, -1.6850010117721428, -1.1017421151791584]\n"
     ]
    },
    {
     "name": "stderr",
     "output_type": "stream",
     "text": [
      "/home/lucasmdesa/anaconda3/envs/bco/lib/python3.9/site-packages/numpy/lib/histograms.py:906: RuntimeWarning: invalid value encountered in true_divide\n",
      "  return n/db/n.sum(), bin_edges\n"
     ]
    },
    {
     "name": "stdout",
     "output_type": "stream",
     "text": [
      "[-1.3837206771171746, -1.8104936546404853, -0.7251865625341263]\n",
      "[-1.402789964634816, -1.345321189590674, -1.9009705347904708]\n",
      "[nan, nan, nan]\n",
      "[nan, nan, nan]\n",
      "[nan, nan, nan]\n",
      "[-1.373244552118486, -1.6552252416816444, -1.0633635372032613]\n"
     ]
    },
    {
     "name": "stderr",
     "output_type": "stream",
     "text": [
      "/home/lucasmdesa/anaconda3/envs/bco/lib/python3.9/site-packages/numpy/lib/histograms.py:906: RuntimeWarning: invalid value encountered in true_divide\n",
      "  return n/db/n.sum(), bin_edges\n"
     ]
    },
    {
     "name": "stdout",
     "output_type": "stream",
     "text": [
      "[-1.3523889907380409, -1.8020260588826418, -0.6785367455110186]\n",
      "[-1.3663934472230306, -1.3135710455547025, -1.866619671054005]\n",
      "[nan, nan, nan]\n",
      "[nan, nan, nan]\n",
      "[nan, nan, nan]\n",
      "[-1.3402402198455592, -1.6345222293589343, -1.0294233314036756]\n"
     ]
    },
    {
     "name": "stderr",
     "output_type": "stream",
     "text": [
      "/home/lucasmdesa/anaconda3/envs/bco/lib/python3.9/site-packages/numpy/lib/histograms.py:906: RuntimeWarning: invalid value encountered in true_divide\n",
      "  return n/db/n.sum(), bin_edges\n"
     ]
    },
    {
     "name": "stdout",
     "output_type": "stream",
     "text": [
      "[-1.3203566567882852, -1.788224380638339, -0.623921993775593]\n",
      "[-1.329140509013201, -1.2748958677168047, -1.82619640339401]\n",
      "[nan, nan, nan]\n",
      "[nan, nan, nan]\n",
      "[nan, nan, nan]\n",
      "[-1.30660914126151, -1.6073307167932511, -0.990468429469672]\n"
     ]
    },
    {
     "name": "stderr",
     "output_type": "stream",
     "text": [
      "/home/lucasmdesa/anaconda3/envs/bco/lib/python3.9/site-packages/numpy/lib/histograms.py:906: RuntimeWarning: invalid value encountered in true_divide\n",
      "  return n/db/n.sum(), bin_edges\n"
     ]
    },
    {
     "name": "stdout",
     "output_type": "stream",
     "text": [
      "[-1.28942961337911, -1.7728268675284118, -0.5786607969311643]\n",
      "[-1.2955539270730292, -1.238360055894121, -1.7967105123193459]\n",
      "[nan, nan, nan]\n",
      "[nan, nan, nan]\n",
      "[nan, nan, nan]\n",
      "[-1.2743608725251119, -1.5801769825249405, -0.9572017439758339]\n"
     ]
    },
    {
     "name": "stderr",
     "output_type": "stream",
     "text": [
      "/home/lucasmdesa/anaconda3/envs/bco/lib/python3.9/site-packages/numpy/lib/histograms.py:906: RuntimeWarning: invalid value encountered in true_divide\n",
      "  return n/db/n.sum(), bin_edges\n"
     ]
    },
    {
     "name": "stdout",
     "output_type": "stream",
     "text": [
      "[-1.254372784446329, -1.7464012501910142, -0.5214100940716406]\n",
      "[-1.2574112730571692, -1.193743715867555, -1.757262828605812]\n",
      "[nan, nan, nan]\n",
      "[nan, nan, nan]\n",
      "[nan, nan, nan]\n",
      "[-1.238005529726532, -1.5433202926145462, -0.9163928191243152]\n"
     ]
    },
    {
     "name": "stderr",
     "output_type": "stream",
     "text": [
      "/home/lucasmdesa/anaconda3/envs/bco/lib/python3.9/site-packages/numpy/lib/histograms.py:906: RuntimeWarning: invalid value encountered in true_divide\n",
      "  return n/db/n.sum(), bin_edges\n"
     ]
    },
    {
     "name": "stdout",
     "output_type": "stream",
     "text": [
      "[-1.2034695529937083, -1.7205862243336474, -0.4521917219495946]\n",
      "[-1.2026285791743117, -1.1333930877453724, -1.7060299929086737]\n",
      "[nan, nan, nan]\n",
      "[nan, nan, nan]\n",
      "[nan, nan, nan]\n",
      "[-1.185406706179037, -1.495717288315904, -0.8677798013248241]\n"
     ]
    },
    {
     "name": "stderr",
     "output_type": "stream",
     "text": [
      "/home/lucasmdesa/anaconda3/envs/bco/lib/python3.9/site-packages/numpy/lib/histograms.py:906: RuntimeWarning: invalid value encountered in true_divide\n",
      "  return n/db/n.sum(), bin_edges\n"
     ]
    },
    {
     "name": "stdout",
     "output_type": "stream",
     "text": [
      "[-1.892054192112841, -2.0048300309909806, -1.5829123090099848]\n",
      "[-1.9937973269723575, -1.908445172736898, -2.4852001491616655]\n",
      "[nan, nan, nan]\n",
      "[nan, nan, nan]\n",
      "[nan, nan, nan]\n",
      "[-1.9032097384575175, -1.9814302199861025, -1.7471182520666966]\n"
     ]
    },
    {
     "name": "stderr",
     "output_type": "stream",
     "text": [
      "/home/lucasmdesa/anaconda3/envs/bco/lib/python3.9/site-packages/numpy/lib/histograms.py:906: RuntimeWarning: invalid value encountered in true_divide\n",
      "  return n/db/n.sum(), bin_edges\n"
     ]
    },
    {
     "name": "stdout",
     "output_type": "stream",
     "text": [
      "[-1.5345264955197033, -1.8971965939015891, -0.9674770881599416]\n",
      "[-1.5742668912798103, -1.5302391450291044, -2.069244992212972]\n",
      "[nan, nan, nan]\n",
      "[nan, nan, nan]\n",
      "[nan, nan, nan]\n",
      "[-1.530050136821546, -1.7857077493960622, -1.242359211390543]\n"
     ]
    },
    {
     "name": "stderr",
     "output_type": "stream",
     "text": [
      "/home/lucasmdesa/anaconda3/envs/bco/lib/python3.9/site-packages/numpy/lib/histograms.py:906: RuntimeWarning: invalid value encountered in true_divide\n",
      "  return n/db/n.sum(), bin_edges\n"
     ]
    },
    {
     "name": "stdout",
     "output_type": "stream",
     "text": [
      "[-1.4596045531406847, -1.8659907692336537, -0.8415222198146299]\n",
      "[-1.4864426185788164, -1.4408613971597655, -1.9809243918793225]\n",
      "[nan, nan, nan]\n",
      "[nan, nan, nan]\n",
      "[nan, nan, nan]\n",
      "[-1.4515938509800579, -1.7299541530698974, -1.147745183638721]\n"
     ]
    },
    {
     "name": "stderr",
     "output_type": "stream",
     "text": [
      "/home/lucasmdesa/anaconda3/envs/bco/lib/python3.9/site-packages/numpy/lib/histograms.py:906: RuntimeWarning: invalid value encountered in true_divide\n",
      "  return n/db/n.sum(), bin_edges\n"
     ]
    },
    {
     "name": "stdout",
     "output_type": "stream",
     "text": [
      "[-1.4107435620875324, -1.8409064644075968, -0.7640772974386842]\n",
      "[-1.429982290657863, -1.3836092222267407, -1.9277702166932091]\n",
      "[nan, nan, nan]\n",
      "[nan, nan, nan]\n",
      "[nan, nan, nan]\n",
      "[-1.4004476455891177, -1.6899397422279618, -1.091627775136549]\n"
     ]
    },
    {
     "name": "stderr",
     "output_type": "stream",
     "text": [
      "/home/lucasmdesa/anaconda3/envs/bco/lib/python3.9/site-packages/numpy/lib/histograms.py:906: RuntimeWarning: invalid value encountered in true_divide\n",
      "  return n/db/n.sum(), bin_edges\n"
     ]
    },
    {
     "name": "stdout",
     "output_type": "stream",
     "text": [
      "[-1.3723118916084298, -1.8192474441799726, -0.6991818422164842]\n",
      "[-1.3856116937921052, -1.3389823221828323, -1.880892703031353]\n",
      "[nan, nan, nan]\n",
      "[nan, nan, nan]\n",
      "[nan, nan, nan]\n",
      "[-1.3601998474925416, -1.6566713810503029, -1.0447781679878885]\n"
     ]
    },
    {
     "name": "stderr",
     "output_type": "stream",
     "text": [
      "/home/lucasmdesa/anaconda3/envs/bco/lib/python3.9/site-packages/numpy/lib/histograms.py:906: RuntimeWarning: invalid value encountered in true_divide\n",
      "  return n/db/n.sum(), bin_edges\n"
     ]
    },
    {
     "name": "stdout",
     "output_type": "stream",
     "text": [
      "[-1.3385492697613095, -1.7904038338597852, -0.6462163818438339]\n",
      "[-1.3495426370762305, -1.2961709400687917, -1.842156860700863]\n",
      "[nan, nan, nan]\n",
      "[nan, nan, nan]\n",
      "[nan, nan, nan]\n",
      "[-1.3255353502344116, -1.619521060068802, -1.0060728081435575]\n"
     ]
    },
    {
     "name": "stderr",
     "output_type": "stream",
     "text": [
      "/home/lucasmdesa/anaconda3/envs/bco/lib/python3.9/site-packages/numpy/lib/histograms.py:906: RuntimeWarning: invalid value encountered in true_divide\n",
      "  return n/db/n.sum(), bin_edges\n"
     ]
    },
    {
     "name": "stdout",
     "output_type": "stream",
     "text": [
      "[-1.3073924487684596, -1.771446021042884, -0.5982329620620941]\n",
      "[-1.3157953478627353, -1.259798832711887, -1.8125942863356284]\n",
      "[nan, nan, nan]\n",
      "[nan, nan, nan]\n",
      "[nan, nan, nan]\n",
      "[-1.293179617221825, -1.591040886151707, -0.9724205096222412]\n"
     ]
    },
    {
     "name": "stderr",
     "output_type": "stream",
     "text": [
      "/home/lucasmdesa/anaconda3/envs/bco/lib/python3.9/site-packages/numpy/lib/histograms.py:906: RuntimeWarning: invalid value encountered in true_divide\n",
      "  return n/db/n.sum(), bin_edges\n"
     ]
    },
    {
     "name": "stdout",
     "output_type": "stream",
     "text": [
      "[-1.2743849811503294, -1.7596874876338964, -0.5465855199437619]\n",
      "[-1.2777528051063833, -1.2198076499298682, -1.7754825405604475]\n",
      "[nan, nan, nan]\n",
      "[nan, nan, nan]\n",
      "[nan, nan, nan]\n",
      "[-1.2582446085936088, -1.5638533250413593, -0.9342597166715282]\n"
     ]
    },
    {
     "name": "stderr",
     "output_type": "stream",
     "text": [
      "/home/lucasmdesa/anaconda3/envs/bco/lib/python3.9/site-packages/numpy/lib/histograms.py:906: RuntimeWarning: invalid value encountered in true_divide\n",
      "  return n/db/n.sum(), bin_edges\n"
     ]
    },
    {
     "name": "stdout",
     "output_type": "stream",
     "text": [
      "[-1.2360166923688074, -1.7413613743343366, -0.4890417889802935]\n",
      "[-1.2359562476068553, -1.1744016409228597, -1.7350034253208957]\n",
      "[nan, nan, nan]\n",
      "[nan, nan, nan]\n",
      "[nan, nan, nan]\n",
      "[-1.2184636248630025, -1.5291592270696637, -0.894329549309616]\n"
     ]
    },
    {
     "name": "stderr",
     "output_type": "stream",
     "text": [
      "/home/lucasmdesa/anaconda3/envs/bco/lib/python3.9/site-packages/numpy/lib/histograms.py:906: RuntimeWarning: invalid value encountered in true_divide\n",
      "  return n/db/n.sum(), bin_edges\n"
     ]
    },
    {
     "name": "stdout",
     "output_type": "stream",
     "text": [
      "[-1.1826203475931505, -1.710652814887528, -0.4112275028629005]\n",
      "[-1.1773263125239197, -1.11074739730828, -1.6751893214269375]\n",
      "[nan, nan, nan]\n",
      "[nan, nan, nan]\n",
      "[nan, nan, nan]\n",
      "[-1.1629098620447533, -1.4771858288832656, -0.8389005753182185]\n"
     ]
    },
    {
     "name": "stderr",
     "output_type": "stream",
     "text": [
      "/home/lucasmdesa/anaconda3/envs/bco/lib/python3.9/site-packages/numpy/lib/histograms.py:906: RuntimeWarning: invalid value encountered in true_divide\n",
      "  return n/db/n.sum(), bin_edges\n"
     ]
    },
    {
     "name": "stdout",
     "output_type": "stream",
     "text": [
      "[-1.8820383205928768, -2.020958824182701, -1.598009745393088]\n",
      "[-1.9795643878011953, -1.906165497456453, -2.446742507908808]\n",
      "[nan, nan, nan]\n",
      "[nan, nan, nan]\n",
      "[nan, nan, nan]\n",
      "[-1.8931925529712736, -1.9922088575350902, -1.751785979211945]\n"
     ]
    },
    {
     "name": "stderr",
     "output_type": "stream",
     "text": [
      "/home/lucasmdesa/anaconda3/envs/bco/lib/python3.9/site-packages/numpy/lib/histograms.py:906: RuntimeWarning: invalid value encountered in true_divide\n",
      "  return n/db/n.sum(), bin_edges\n"
     ]
    },
    {
     "name": "stdout",
     "output_type": "stream",
     "text": [
      "[-1.5537207709176164, -1.8849160001536134, -0.9880571031839637]\n",
      "[-1.5991163820150136, -1.5532529389956151, -2.0938967108971074]\n",
      "[nan, nan, nan]\n",
      "[nan, nan, nan]\n",
      "[nan, nan, nan]\n",
      "[-1.5505641249289905, -1.7868457471623522, -1.2611605132110169]\n"
     ]
    },
    {
     "name": "stderr",
     "output_type": "stream",
     "text": [
      "/home/lucasmdesa/anaconda3/envs/bco/lib/python3.9/site-packages/numpy/lib/histograms.py:906: RuntimeWarning: invalid value encountered in true_divide\n",
      "  return n/db/n.sum(), bin_edges\n"
     ]
    },
    {
     "name": "stdout",
     "output_type": "stream",
     "text": [
      "[-1.4730105822565553, -1.853825693787788, -0.8435267134216616]\n",
      "[-1.5041426153913957, -1.4610368214423795, -2.002882150453689]\n",
      "[nan, nan, nan]\n",
      "[nan, nan, nan]\n",
      "[nan, nan, nan]\n",
      "[-1.4655231200408207, -1.730295721961863, -1.1537869529699574]\n"
     ]
    },
    {
     "name": "stderr",
     "output_type": "stream",
     "text": [
      "/home/lucasmdesa/anaconda3/envs/bco/lib/python3.9/site-packages/numpy/lib/histograms.py:906: RuntimeWarning: invalid value encountered in true_divide\n",
      "  return n/db/n.sum(), bin_edges\n"
     ]
    },
    {
     "name": "stdout",
     "output_type": "stream",
     "text": [
      "[-1.4167647339817369, -1.8355811534748667, -0.764378252947364]\n",
      "[-1.437462076180776, -1.3893280053685833, -1.9283326045895988]\n",
      "[nan, nan, nan]\n",
      "[nan, nan, nan]\n",
      "[nan, nan, nan]\n",
      "[-1.406781806890913, -1.6885565680494017, -1.0912835979072417]\n"
     ]
    },
    {
     "name": "stderr",
     "output_type": "stream",
     "text": [
      "/home/lucasmdesa/anaconda3/envs/bco/lib/python3.9/site-packages/numpy/lib/histograms.py:906: RuntimeWarning: invalid value encountered in true_divide\n",
      "  return n/db/n.sum(), bin_edges\n"
     ]
    },
    {
     "name": "stdout",
     "output_type": "stream",
     "text": [
      "[-1.3727215252870135, -1.8116651746143084, -0.6869322840820166]\n",
      "[-1.3858003039301219, -1.3401033420950619, -1.874460993564516]\n",
      "[nan, nan, nan]\n",
      "[nan, nan, nan]\n",
      "[nan, nan, nan]\n",
      "[-1.3602905731487767, -1.6518653337832379, -1.0353825601618163]\n"
     ]
    },
    {
     "name": "stderr",
     "output_type": "stream",
     "text": [
      "/home/lucasmdesa/anaconda3/envs/bco/lib/python3.9/site-packages/numpy/lib/histograms.py:906: RuntimeWarning: invalid value encountered in true_divide\n",
      "  return n/db/n.sum(), bin_edges\n"
     ]
    },
    {
     "name": "stdout",
     "output_type": "stream",
     "text": [
      "[-1.3324305703606796, -1.786138345134901, -0.62884039000184]\n",
      "[-1.3416738245437152, -1.289857634593613, -1.8323847100142154]\n",
      "[nan, nan, nan]\n",
      "[nan, nan, nan]\n",
      "[nan, nan, nan]\n",
      "[-1.3186594362298971, -1.6141311106766532, -0.9932983559192136]\n"
     ]
    },
    {
     "name": "stderr",
     "output_type": "stream",
     "text": [
      "/home/lucasmdesa/anaconda3/envs/bco/lib/python3.9/site-packages/numpy/lib/histograms.py:906: RuntimeWarning: invalid value encountered in true_divide\n",
      "  return n/db/n.sum(), bin_edges\n"
     ]
    },
    {
     "name": "stdout",
     "output_type": "stream",
     "text": [
      "[-1.2967069622046126, -1.7675931459980858, -0.5765978541145921]\n",
      "[-1.3030075385191657, -1.2480444120525414, -1.7970301469552614]\n",
      "[nan, nan, nan]\n",
      "[nan, nan, nan]\n",
      "[nan, nan, nan]\n",
      "[-1.2816583510823554, -1.5823264484798807, -0.9562330746937536]\n"
     ]
    },
    {
     "name": "stderr",
     "output_type": "stream",
     "text": [
      "/home/lucasmdesa/anaconda3/envs/bco/lib/python3.9/site-packages/numpy/lib/histograms.py:906: RuntimeWarning: invalid value encountered in true_divide\n",
      "  return n/db/n.sum(), bin_edges\n"
     ]
    },
    {
     "name": "stdout",
     "output_type": "stream",
     "text": [
      "[-1.258915143063802, -1.7519548706515975, -0.5157703579464468]\n",
      "[-1.2589378508780311, -1.2035343821135405, -1.750158381182857]\n",
      "[nan, nan, nan]\n",
      "[nan, nan, nan]\n",
      "[nan, nan, nan]\n",
      "[-1.241653475137329, -1.5504671388919062, -0.911637674341335]\n"
     ]
    },
    {
     "name": "stderr",
     "output_type": "stream",
     "text": [
      "/home/lucasmdesa/anaconda3/envs/bco/lib/python3.9/site-packages/numpy/lib/histograms.py:906: RuntimeWarning: invalid value encountered in true_divide\n",
      "  return n/db/n.sum(), bin_edges\n"
     ]
    },
    {
     "name": "stdout",
     "output_type": "stream",
     "text": [
      "[-1.217924340699286, -1.732425034280912, -0.44934720938000394]\n",
      "[-1.212525475505324, -1.1548371694170825, -1.702325352458141]\n",
      "[nan, nan, nan]\n",
      "[nan, nan, nan]\n",
      "[nan, nan, nan]\n",
      "[-1.19852527178984, -1.5134056957852935, -0.8648401434491664]\n"
     ]
    },
    {
     "name": "stderr",
     "output_type": "stream",
     "text": [
      "/home/lucasmdesa/anaconda3/envs/bco/lib/python3.9/site-packages/numpy/lib/histograms.py:906: RuntimeWarning: invalid value encountered in true_divide\n",
      "  return n/db/n.sum(), bin_edges\n"
     ]
    },
    {
     "name": "stdout",
     "output_type": "stream",
     "text": [
      "[-1.1586252289896062, -1.7075281052652238, -0.35633470178957527]\n",
      "[-1.144598802866662, -1.0876595458843663, -1.634261773356198]\n",
      "[nan, nan, nan]\n",
      "[nan, nan, nan]\n",
      "[nan, nan, nan]\n",
      "[-1.1357322612886867, -1.4612476019097052, -0.8008929557834716]\n"
     ]
    },
    {
     "name": "stderr",
     "output_type": "stream",
     "text": [
      "/home/lucasmdesa/anaconda3/envs/bco/lib/python3.9/site-packages/numpy/lib/histograms.py:906: RuntimeWarning: invalid value encountered in true_divide\n",
      "  return n/db/n.sum(), bin_edges\n"
     ]
    },
    {
     "name": "stdout",
     "output_type": "stream",
     "text": [
      "[-1.8715878545191442, -2.004527830544278, -1.5854807158674622]\n",
      "[-1.9774345905642123, -1.8989332007448043, -2.473737879285098]\n",
      "[nan, nan, nan]\n",
      "[nan, nan, nan]\n",
      "[nan, nan, nan]\n",
      "[-1.8835338092553633, -1.9777299542493203, -1.744504865883344]\n"
     ]
    },
    {
     "name": "stderr",
     "output_type": "stream",
     "text": [
      "/home/lucasmdesa/anaconda3/envs/bco/lib/python3.9/site-packages/numpy/lib/histograms.py:906: RuntimeWarning: invalid value encountered in true_divide\n",
      "  return n/db/n.sum(), bin_edges\n"
     ]
    },
    {
     "name": "stdout",
     "output_type": "stream",
     "text": [
      "[-1.5977706926184567, -1.8964201933543605, -1.062612992465576]\n",
      "[-1.6517039386031402, -1.604691308943498, -2.137807910447033]\n",
      "[nan, nan, nan]\n",
      "[nan, nan, nan]\n",
      "[nan, nan, nan]\n",
      "[-1.5972454661813233, -1.8118596097122135, -1.3194393117305927]\n"
     ]
    },
    {
     "name": "stderr",
     "output_type": "stream",
     "text": [
      "/home/lucasmdesa/anaconda3/envs/bco/lib/python3.9/site-packages/numpy/lib/histograms.py:906: RuntimeWarning: invalid value encountered in true_divide\n",
      "  return n/db/n.sum(), bin_edges\n"
     ]
    },
    {
     "name": "stdout",
     "output_type": "stream",
     "text": [
      "[-1.5083479485379303, -1.8597463317945402, -0.8864926823870342]\n",
      "[-1.543044096307444, -1.50694005960032, -2.028547499284314]\n",
      "[nan, nan, nan]\n",
      "[nan, nan, nan]\n",
      "[nan, nan, nan]\n",
      "[-1.5020784899279591, -1.7510478773982536, -1.1861288904441296]\n"
     ]
    },
    {
     "name": "stderr",
     "output_type": "stream",
     "text": [
      "/home/lucasmdesa/anaconda3/envs/bco/lib/python3.9/site-packages/numpy/lib/histograms.py:906: RuntimeWarning: invalid value encountered in true_divide\n",
      "  return n/db/n.sum(), bin_edges\n"
     ]
    },
    {
     "name": "stdout",
     "output_type": "stream",
     "text": [
      "[-1.44743419432421, -1.8462119794830605, -0.7990590901535171]\n",
      "[-1.4712934925541228, -1.4417408287602593, -1.9558687358793865]\n",
      "[nan, nan, nan]\n",
      "[nan, nan, nan]\n",
      "[nan, nan, nan]\n",
      "[-1.438129353637822, -1.7147024322260989, -1.1183011717219429]\n"
     ]
    },
    {
     "name": "stderr",
     "output_type": "stream",
     "text": [
      "/home/lucasmdesa/anaconda3/envs/bco/lib/python3.9/site-packages/numpy/lib/histograms.py:906: RuntimeWarning: invalid value encountered in true_divide\n",
      "  return n/db/n.sum(), bin_edges\n"
     ]
    },
    {
     "name": "stdout",
     "output_type": "stream",
     "text": [
      "[-1.3945766713918608, -1.8254990554496844, -0.72116178053705]\n",
      "[-1.4087949601764147, -1.3762904170616275, -1.8925567109488322]\n",
      "[nan, nan, nan]\n",
      "[nan, nan, nan]\n",
      "[nan, nan, nan]\n",
      "[-1.3825492851820984, -1.6745126562525636, -1.0595020879676196]\n"
     ]
    },
    {
     "name": "stderr",
     "output_type": "stream",
     "text": [
      "/home/lucasmdesa/anaconda3/envs/bco/lib/python3.9/site-packages/numpy/lib/histograms.py:906: RuntimeWarning: invalid value encountered in true_divide\n",
      "  return n/db/n.sum(), bin_edges\n"
     ]
    },
    {
     "name": "stdout",
     "output_type": "stream",
     "text": [
      "[-1.346191079953085, -1.8033508665009472, -0.6361947334706411]\n",
      "[-1.3551375675184263, -1.3168959643616729, -1.8450805713643164]\n",
      "[nan, nan, nan]\n",
      "[nan, nan, nan]\n",
      "[nan, nan, nan]\n",
      "[-1.3319465027203785, -1.6341067390554633, -1.0000783332699685]\n"
     ]
    },
    {
     "name": "stderr",
     "output_type": "stream",
     "text": [
      "/home/lucasmdesa/anaconda3/envs/bco/lib/python3.9/site-packages/numpy/lib/histograms.py:906: RuntimeWarning: invalid value encountered in true_divide\n",
      "  return n/db/n.sum(), bin_edges\n"
     ]
    },
    {
     "name": "stdout",
     "output_type": "stream",
     "text": [
      "[-1.2985551577202243, -1.7710537979990082, -0.5619496033252356]\n",
      "[-1.3019920394278928, -1.2559371446515193, -1.7879239151183746]\n",
      "[nan, nan, nan]\n",
      "[nan, nan, nan]\n",
      "[nan, nan, nan]\n",
      "[-1.2825246491111746, -1.5866870634228512, -0.9465735225770345]\n"
     ]
    },
    {
     "name": "stderr",
     "output_type": "stream",
     "text": [
      "/home/lucasmdesa/anaconda3/envs/bco/lib/python3.9/site-packages/numpy/lib/histograms.py:906: RuntimeWarning: invalid value encountered in true_divide\n",
      "  return n/db/n.sum(), bin_edges\n"
     ]
    },
    {
     "name": "stdout",
     "output_type": "stream",
     "text": [
      "[-1.2518492518711644, -1.7491881152563864, -0.4858798976510168]\n",
      "[-1.2465246431152583, -1.2013033834599012, -1.7239046598755359]\n",
      "[nan, nan, nan]\n",
      "[nan, nan, nan]\n",
      "[nan, nan, nan]\n",
      "[-1.2330233003736533, -1.5461692197061168, -0.8910217850338302]\n"
     ]
    },
    {
     "name": "stderr",
     "output_type": "stream",
     "text": [
      "/home/lucasmdesa/anaconda3/envs/bco/lib/python3.9/site-packages/numpy/lib/histograms.py:906: RuntimeWarning: invalid value encountered in true_divide\n",
      "  return n/db/n.sum(), bin_edges\n"
     ]
    },
    {
     "name": "stdout",
     "output_type": "stream",
     "text": [
      "[-1.1998513761489331, -1.7232241450401857, -0.4134831354555855]\n",
      "[-1.1903890743948182, -1.1382227281022095, -1.673518368765067]\n",
      "[nan, nan, nan]\n",
      "[nan, nan, nan]\n",
      "[nan, nan, nan]\n",
      "[-1.1789715702291912, -1.4977104761196176, -0.839873584188445]\n"
     ]
    },
    {
     "name": "stderr",
     "output_type": "stream",
     "text": [
      "/home/lucasmdesa/anaconda3/envs/bco/lib/python3.9/site-packages/numpy/lib/histograms.py:906: RuntimeWarning: invalid value encountered in true_divide\n",
      "  return n/db/n.sum(), bin_edges\n"
     ]
    },
    {
     "name": "stdout",
     "output_type": "stream",
     "text": [
      "[-1.1279099809551034, -1.6957175569968312, -0.29901188887388586]\n",
      "[-1.1073351586998366, -1.0504551851009727, -1.5848418521716463]\n",
      "[nan, nan, nan]\n",
      "[nan, nan, nan]\n",
      "[nan, nan, nan]\n",
      "[-1.1027744075508563, -1.4330954974140715, -0.7593042913799856]\n"
     ]
    },
    {
     "name": "stderr",
     "output_type": "stream",
     "text": [
      "/home/lucasmdesa/anaconda3/envs/bco/lib/python3.9/site-packages/numpy/lib/histograms.py:906: RuntimeWarning: invalid value encountered in true_divide\n",
      "  return n/db/n.sum(), bin_edges\n"
     ]
    },
    {
     "name": "stdout",
     "output_type": "stream",
     "text": [
      "[-1.8477894554591539, -1.971297558768049, -1.539256447996539]\n",
      "[-1.9495943247300598, -1.8812244866342764, -2.4248300917330563]\n",
      "[nan, nan, nan]\n",
      "[nan, nan, nan]\n",
      "[nan, nan, nan]\n",
      "[-1.8595302264241627, -1.9481941208679858, -1.7044853663663055]\n"
     ]
    },
    {
     "name": "stderr",
     "output_type": "stream",
     "text": [
      "/home/lucasmdesa/anaconda3/envs/bco/lib/python3.9/site-packages/numpy/lib/histograms.py:906: RuntimeWarning: invalid value encountered in true_divide\n",
      "  return n/db/n.sum(), bin_edges\n"
     ]
    },
    {
     "name": "stdout",
     "output_type": "stream",
     "text": [
      "[-1.5905524423028883, -1.8954398173706908, -1.0539558035074112]\n",
      "[-1.6435904175996603, -1.6076363390755495, -2.122685932975562]\n",
      "[nan, nan, nan]\n",
      "[nan, nan, nan]\n",
      "[nan, nan, nan]\n",
      "[-1.5897783316162646, -1.8099884831717605, -1.3097550522495751]\n"
     ]
    },
    {
     "name": "stderr",
     "output_type": "stream",
     "text": [
      "/home/lucasmdesa/anaconda3/envs/bco/lib/python3.9/site-packages/numpy/lib/histograms.py:906: RuntimeWarning: invalid value encountered in true_divide\n",
      "  return n/db/n.sum(), bin_edges\n"
     ]
    },
    {
     "name": "stdout",
     "output_type": "stream",
     "text": [
      "[-1.5060789357483637, -1.848896036620574, -0.8846543788862125]\n",
      "[-1.5424124236779098, -1.5120997126982434, -2.017858736125811]\n",
      "[nan, nan, nan]\n",
      "[nan, nan, nan]\n",
      "[nan, nan, nan]\n",
      "[-1.5002116676766808, -1.7445234115729311, -1.18192565820776]\n"
     ]
    },
    {
     "name": "stderr",
     "output_type": "stream",
     "text": [
      "/home/lucasmdesa/anaconda3/envs/bco/lib/python3.9/site-packages/numpy/lib/histograms.py:906: RuntimeWarning: invalid value encountered in true_divide\n",
      "  return n/db/n.sum(), bin_edges\n"
     ]
    },
    {
     "name": "stdout",
     "output_type": "stream",
     "text": [
      "[-1.4620856283109334, -1.8269505751193509, -0.809913996235989]\n",
      "[-1.4914654358404158, -1.4579099504609259, -1.9679436036663438]\n",
      "[nan, nan, nan]\n",
      "[nan, nan, nan]\n",
      "[nan, nan, nan]\n",
      "[-1.4541606498021884, -1.7089383320437355, -1.127258970009945]\n"
     ]
    },
    {
     "name": "stderr",
     "output_type": "stream",
     "text": [
      "/home/lucasmdesa/anaconda3/envs/bco/lib/python3.9/site-packages/numpy/lib/histograms.py:906: RuntimeWarning: invalid value encountered in true_divide\n",
      "  return n/db/n.sum(), bin_edges\n"
     ]
    },
    {
     "name": "stdout",
     "output_type": "stream",
     "text": [
      "[-1.4195949252133655, -1.8157839722084328, -0.7378608946178495]\n",
      "[-1.4402740422146905, -1.4088659431154198, -1.9156016005051975]\n",
      "[nan, nan, nan]\n",
      "[nan, nan, nan]\n",
      "[nan, nan, nan]\n",
      "[-1.4090423501221565, -1.6809905531398779, -1.0736159800884066]\n"
     ]
    },
    {
     "name": "stderr",
     "output_type": "stream",
     "text": [
      "/home/lucasmdesa/anaconda3/envs/bco/lib/python3.9/site-packages/numpy/lib/histograms.py:906: RuntimeWarning: invalid value encountered in true_divide\n",
      "  return n/db/n.sum(), bin_edges\n"
     ]
    },
    {
     "name": "stdout",
     "output_type": "stream",
     "text": [
      "[-1.3769043278579263, -1.7951083861244372, -0.6720266936693489]\n",
      "[-1.3889415356548505, -1.360767896124629, -1.858588335633149]\n",
      "[nan, nan, nan]\n",
      "[nan, nan, nan]\n",
      "[nan, nan, nan]\n",
      "[-1.3638969681186848, -1.6476584832233363, -1.0240568053313484]\n"
     ]
    },
    {
     "name": "stderr",
     "output_type": "stream",
     "text": [
      "/home/lucasmdesa/anaconda3/envs/bco/lib/python3.9/site-packages/numpy/lib/histograms.py:906: RuntimeWarning: invalid value encountered in true_divide\n",
      "  return n/db/n.sum(), bin_edges\n"
     ]
    },
    {
     "name": "stdout",
     "output_type": "stream",
     "text": [
      "[-1.3305763524850338, -1.7927100737991264, -0.5956945419857168]\n",
      "[-1.3353806529166155, -1.30701734612555, -1.812121136161484]\n",
      "[nan, nan, nan]\n",
      "[nan, nan, nan]\n",
      "[nan, nan, nan]\n",
      "[-1.314751060909937, -1.6202654235831582, -0.9692187054487804]\n"
     ]
    },
    {
     "name": "stderr",
     "output_type": "stream",
     "text": [
      "/home/lucasmdesa/anaconda3/envs/bco/lib/python3.9/site-packages/numpy/lib/histograms.py:906: RuntimeWarning: invalid value encountered in true_divide\n",
      "  return n/db/n.sum(), bin_edges\n"
     ]
    },
    {
     "name": "stdout",
     "output_type": "stream",
     "text": [
      "[-1.276023508450234, -1.7584256333241182, -0.4963923887614445]\n",
      "[-1.2706339245630747, -1.23887812954636, -1.7343971640238667]\n",
      "[nan, nan, nan]\n",
      "[nan, nan, nan]\n",
      "[nan, nan, nan]\n",
      "[-1.2568759613409033, -1.567587164635556, -0.89758376869534]\n"
     ]
    },
    {
     "name": "stderr",
     "output_type": "stream",
     "text": [
      "/home/lucasmdesa/anaconda3/envs/bco/lib/python3.9/site-packages/numpy/lib/histograms.py:906: RuntimeWarning: invalid value encountered in true_divide\n",
      "  return n/db/n.sum(), bin_edges\n"
     ]
    },
    {
     "name": "stdout",
     "output_type": "stream",
     "text": [
      "[-1.2109421684379025, -1.730952085233788, -0.3996122437444194]\n",
      "[-1.195130415579459, -1.1618114762349032, -1.6545612848691944]\n",
      "[nan, nan, nan]\n",
      "[nan, nan, nan]\n",
      "[nan, nan, nan]\n",
      "[-1.188082804678522, -1.5113902750643318, -0.8277331075904212]\n"
     ]
    },
    {
     "name": "stderr",
     "output_type": "stream",
     "text": [
      "/home/lucasmdesa/anaconda3/envs/bco/lib/python3.9/site-packages/numpy/lib/histograms.py:906: RuntimeWarning: invalid value encountered in true_divide\n",
      "  return n/db/n.sum(), bin_edges\n"
     ]
    },
    {
     "name": "stdout",
     "output_type": "stream",
     "text": [
      "[-1.1156869640940787, -1.6925830344935124, -0.24027479859579262]\n",
      "[-1.0856614098777182, -1.0469873876565479, -1.5424935154574695]\n",
      "[nan, nan, nan]\n",
      "[nan, nan, nan]\n",
      "[nan, nan, nan]\n",
      "[-1.0868314911555745, -1.4254767662148486, -0.7199338136518462]\n"
     ]
    },
    {
     "name": "stderr",
     "output_type": "stream",
     "text": [
      "/home/lucasmdesa/anaconda3/envs/bco/lib/python3.9/site-packages/numpy/lib/histograms.py:906: RuntimeWarning: invalid value encountered in true_divide\n",
      "  return n/db/n.sum(), bin_edges\n"
     ]
    },
    {
     "name": "stdout",
     "output_type": "stream",
     "text": [
      "[-1.772314479977431, -1.8692497748215253, -1.4268137988317344]\n",
      "[-1.8880063743974798, -1.8054634102487308, -2.3690688284563226]\n",
      "[nan, nan, nan]\n",
      "[nan, nan, nan]\n",
      "[nan, nan, nan]\n",
      "[-1.7867263828646092, -1.851138518272467, -1.609468603418451]\n"
     ]
    },
    {
     "name": "stderr",
     "output_type": "stream",
     "text": [
      "/home/lucasmdesa/anaconda3/envs/bco/lib/python3.9/site-packages/numpy/lib/histograms.py:906: RuntimeWarning: invalid value encountered in true_divide\n",
      "  return n/db/n.sum(), bin_edges\n"
     ]
    },
    {
     "name": "stdout",
     "output_type": "stream",
     "text": [
      "[-1.5222102022762272, -1.8038271396103958, -0.9181011031564514]\n",
      "[-1.5742737239348954, -1.544043373164597, -2.0347075662396956]\n",
      "[nan, nan, nan]\n",
      "[nan, nan, nan]\n",
      "[nan, nan, nan]\n",
      "[-1.5202831489297863, -1.722536294742234, -1.204448362796675]\n"
     ]
    },
    {
     "name": "stderr",
     "output_type": "stream",
     "text": [
      "/home/lucasmdesa/anaconda3/envs/bco/lib/python3.9/site-packages/numpy/lib/histograms.py:906: RuntimeWarning: invalid value encountered in true_divide\n",
      "  return n/db/n.sum(), bin_edges\n"
     ]
    },
    {
     "name": "stdout",
     "output_type": "stream",
     "text": [
      "[-1.4670637587810003, -1.8084709075293899, -0.8425771893938816]\n",
      "[-1.5066244009574516, -1.4831907931355717, -1.9744669401972579]\n",
      "[nan, nan, nan]\n",
      "[nan, nan, nan]\n",
      "[nan, nan, nan]\n",
      "[-1.4618378117472346, -1.7014911217015138, -1.1472194810051297]\n"
     ]
    },
    {
     "name": "stderr",
     "output_type": "stream",
     "text": [
      "/home/lucasmdesa/anaconda3/envs/bco/lib/python3.9/site-packages/numpy/lib/histograms.py:906: RuntimeWarning: invalid value encountered in true_divide\n",
      "  return n/db/n.sum(), bin_edges\n"
     ]
    },
    {
     "name": "stdout",
     "output_type": "stream",
     "text": [
      "[-1.417572782631059, -1.771857503104718, -0.7309678081369869]\n",
      "[-1.447515093862219, -1.422153611997787, -1.9089298905688428]\n",
      "[nan, nan, nan]\n",
      "[nan, nan, nan]\n",
      "[nan, nan, nan]\n",
      "[-1.4089907944849405, -1.654613371627993, -1.0663579180787432]\n"
     ]
    },
    {
     "name": "stderr",
     "output_type": "stream",
     "text": [
      "/home/lucasmdesa/anaconda3/envs/bco/lib/python3.9/site-packages/numpy/lib/histograms.py:906: RuntimeWarning: invalid value encountered in true_divide\n",
      "  return n/db/n.sum(), bin_edges\n"
     ]
    },
    {
     "name": "stdout",
     "output_type": "stream",
     "text": [
      "[-1.3802130138820237, -1.7604640341898834, -0.6521777665210134]\n",
      "[-1.3987058353318076, -1.3801877099434532, -1.8494205354271873]\n",
      "[nan, nan, nan]\n",
      "[nan, nan, nan]\n",
      "[nan, nan, nan]\n",
      "[-1.368114025049184, -1.6293864931236657, -1.0076914889489883]\n"
     ]
    },
    {
     "name": "stderr",
     "output_type": "stream",
     "text": [
      "/home/lucasmdesa/anaconda3/envs/bco/lib/python3.9/site-packages/numpy/lib/histograms.py:906: RuntimeWarning: invalid value encountered in true_divide\n",
      "  return n/db/n.sum(), bin_edges\n"
     ]
    },
    {
     "name": "stdout",
     "output_type": "stream",
     "text": [
      "[-1.3450555660528196, -1.7583148027130686, -0.5955327362717863]\n",
      "[-1.3555805274321726, -1.3391547134687871, -1.8014548526420426]\n",
      "[nan, nan, nan]\n",
      "[nan, nan, nan]\n",
      "[nan, nan, nan]\n",
      "[-1.3307763568955948, -1.6091678495180164, -0.9662709766691426]\n"
     ]
    },
    {
     "name": "stderr",
     "output_type": "stream",
     "text": [
      "/home/lucasmdesa/anaconda3/envs/bco/lib/python3.9/site-packages/numpy/lib/histograms.py:906: RuntimeWarning: invalid value encountered in true_divide\n",
      "  return n/db/n.sum(), bin_edges\n"
     ]
    },
    {
     "name": "stdout",
     "output_type": "stream",
     "text": [
      "[-1.3156762500379982, -1.7442344572320274, -0.5462816946124153]\n",
      "[-1.3207438572193073, -1.302859048778788, -1.7655106911720155]\n",
      "[nan, nan, nan]\n",
      "[nan, nan, nan]\n",
      "[nan, nan, nan]\n",
      "[-1.2994832829804595, -1.5838937089691283, -0.9311125844485891]\n"
     ]
    },
    {
     "name": "stderr",
     "output_type": "stream",
     "text": [
      "/home/lucasmdesa/anaconda3/envs/bco/lib/python3.9/site-packages/numpy/lib/histograms.py:906: RuntimeWarning: invalid value encountered in true_divide\n",
      "  return n/db/n.sum(), bin_edges\n"
     ]
    },
    {
     "name": "stdout",
     "output_type": "stream",
     "text": [
      "[-1.28301841415807, -1.7344427646654104, -0.48928725379475485]\n",
      "[-1.2817747589441693, -1.26408419099518, -1.7250888130941513]\n",
      "[nan, nan, nan]\n",
      "[nan, nan, nan]\n",
      "[nan, nan, nan]\n",
      "[-1.2645380834882862, -1.5594536129812782, -0.8907646693665259]\n"
     ]
    },
    {
     "name": "stderr",
     "output_type": "stream",
     "text": [
      "/home/lucasmdesa/anaconda3/envs/bco/lib/python3.9/site-packages/numpy/lib/histograms.py:906: RuntimeWarning: invalid value encountered in true_divide\n",
      "  return n/db/n.sum(), bin_edges\n"
     ]
    },
    {
     "name": "stdout",
     "output_type": "stream",
     "text": [
      "[-1.2394537362611204, -1.7246158357584103, -0.4088351623989897]\n",
      "[-1.227097073939881, -1.2117396802546487, -1.6627718269884804]\n",
      "[nan, nan, nan]\n",
      "[nan, nan, nan]\n",
      "[nan, nan, nan]\n",
      "[-1.2172437527617435, -1.5270470064205797, -0.8342919586829189]\n",
      "[-1.1658467725454686, -1.7170016417460587, -0.28144815410309715]\n",
      "[-1.1362057781888133, -1.1270994128598046, -1.5681943315824372]\n",
      "[nan, nan, nan]\n",
      "[nan, nan, nan]\n",
      "[nan, nan, nan]\n",
      "[-1.1371493516161393, -1.4762898591279938, -0.7459621521437038]\n"
     ]
    },
    {
     "name": "stderr",
     "output_type": "stream",
     "text": [
      "/home/lucasmdesa/anaconda3/envs/bco/lib/python3.9/site-packages/numpy/lib/histograms.py:906: RuntimeWarning: invalid value encountered in true_divide\n",
      "  return n/db/n.sum(), bin_edges\n"
     ]
    }
   ],
   "source": [
    "slope_dict = {}\n",
    "for z in plot_zs:\n",
    "    if z not in slope_dict:\n",
    "        slope_dict[z] = {}\n",
    "    sample_paths_ = onlybin_sample_paths_dict[z]   \n",
    "\n",
    "    counter = 0\n",
    "    for path in sample_paths_:\n",
    "        sample_descr = path.name.split('_')[:-3]\n",
    "\n",
    "        sample_descr_dict = {}\n",
    "        for attr in sample_descr:\n",
    "            key, value = attr.split('=')\n",
    "            sample_descr_dict[key] = value\n",
    "            \n",
    "        feh = np.float32(sample_descr_dict['feh'])  \n",
    "        sample_df = pd.read_parquet(path, engine='pyarrow')\n",
    "        slope_dict[z][feh] = {}\n",
    "        \n",
    "        mplots = gen_mplots(sample_df, sample_descr_dict)\n",
    "        counter += 1\n",
    "        \n",
    "        for mplot in mplots:\n",
    "            label, mb, mc, mh = mplot\n",
    "            mc = np.log10(mc)\n",
    "            mh = np.log10(mh)\n",
    "            mc10_i = np.searchsorted(mc, 1)\n",
    "            slope, *_ = linregress(mc, mh)\n",
    "            slope1, *_ = linregress(mc[:mc10_i], mh[:mc10_i])\n",
    "            slope2, *_ = linregress(mc[mc10_i:], mh[mc10_i:])\n",
    "            slopes = [slope, slope1, slope2]\n",
    "            print(slopes)\n",
    "            slope_dict[z][feh][label] = slopes\n",
    "            #print(f'In {z=}, {feh=}, {label} is best fit by a power-law {slope:.2f}, or {slope1:.2f} up to {10**mc[mc10_i]:.2f} Mo and {slope2:.2f} above.')\n",
    "        #print('')\n",
    "        \n",
    "onlybin_slope_dict = slope_dict"
   ]
  },
  {
   "cell_type": "code",
   "execution_count": 20,
   "id": "d1548148-b7ba-4b86-ad4d-6b6d9b423674",
   "metadata": {
    "tags": []
   },
   "outputs": [
    {
     "name": "stderr",
     "output_type": "stream",
     "text": [
      "/home/lucasmdesa/anaconda3/envs/bco/lib/python3.9/site-packages/numpy/lib/histograms.py:906: RuntimeWarning: invalid value encountered in true_divide\n",
      "  return n/db/n.sum(), bin_edges\n",
      "/home/lucasmdesa/anaconda3/envs/bco/lib/python3.9/site-packages/numpy/lib/histograms.py:906: RuntimeWarning: invalid value encountered in true_divide\n",
      "  return n/db/n.sum(), bin_edges\n",
      "/home/lucasmdesa/anaconda3/envs/bco/lib/python3.9/site-packages/numpy/lib/histograms.py:906: RuntimeWarning: invalid value encountered in true_divide\n",
      "  return n/db/n.sum(), bin_edges\n",
      "/home/lucasmdesa/anaconda3/envs/bco/lib/python3.9/site-packages/numpy/lib/histograms.py:906: RuntimeWarning: invalid value encountered in true_divide\n",
      "  return n/db/n.sum(), bin_edges\n",
      "/home/lucasmdesa/anaconda3/envs/bco/lib/python3.9/site-packages/numpy/lib/histograms.py:906: RuntimeWarning: invalid value encountered in true_divide\n",
      "  return n/db/n.sum(), bin_edges\n",
      "/home/lucasmdesa/anaconda3/envs/bco/lib/python3.9/site-packages/numpy/lib/histograms.py:906: RuntimeWarning: invalid value encountered in true_divide\n",
      "  return n/db/n.sum(), bin_edges\n",
      "/home/lucasmdesa/anaconda3/envs/bco/lib/python3.9/site-packages/numpy/lib/histograms.py:906: RuntimeWarning: invalid value encountered in true_divide\n",
      "  return n/db/n.sum(), bin_edges\n",
      "/home/lucasmdesa/anaconda3/envs/bco/lib/python3.9/site-packages/numpy/lib/histograms.py:906: RuntimeWarning: invalid value encountered in true_divide\n",
      "  return n/db/n.sum(), bin_edges\n",
      "/home/lucasmdesa/anaconda3/envs/bco/lib/python3.9/site-packages/numpy/lib/histograms.py:906: RuntimeWarning: invalid value encountered in true_divide\n",
      "  return n/db/n.sum(), bin_edges\n",
      "/home/lucasmdesa/anaconda3/envs/bco/lib/python3.9/site-packages/numpy/lib/histograms.py:906: RuntimeWarning: invalid value encountered in true_divide\n",
      "  return n/db/n.sum(), bin_edges\n",
      "/home/lucasmdesa/anaconda3/envs/bco/lib/python3.9/site-packages/numpy/lib/histograms.py:906: RuntimeWarning: invalid value encountered in true_divide\n",
      "  return n/db/n.sum(), bin_edges\n",
      "/home/lucasmdesa/anaconda3/envs/bco/lib/python3.9/site-packages/numpy/lib/histograms.py:906: RuntimeWarning: invalid value encountered in true_divide\n",
      "  return n/db/n.sum(), bin_edges\n",
      "/home/lucasmdesa/anaconda3/envs/bco/lib/python3.9/site-packages/numpy/lib/histograms.py:906: RuntimeWarning: invalid value encountered in true_divide\n",
      "  return n/db/n.sum(), bin_edges\n",
      "/home/lucasmdesa/anaconda3/envs/bco/lib/python3.9/site-packages/numpy/lib/histograms.py:906: RuntimeWarning: invalid value encountered in true_divide\n",
      "  return n/db/n.sum(), bin_edges\n",
      "/home/lucasmdesa/anaconda3/envs/bco/lib/python3.9/site-packages/numpy/lib/histograms.py:906: RuntimeWarning: invalid value encountered in true_divide\n",
      "  return n/db/n.sum(), bin_edges\n",
      "/home/lucasmdesa/anaconda3/envs/bco/lib/python3.9/site-packages/numpy/lib/histograms.py:906: RuntimeWarning: invalid value encountered in true_divide\n",
      "  return n/db/n.sum(), bin_edges\n",
      "/home/lucasmdesa/anaconda3/envs/bco/lib/python3.9/site-packages/numpy/lib/histograms.py:906: RuntimeWarning: invalid value encountered in true_divide\n",
      "  return n/db/n.sum(), bin_edges\n",
      "/home/lucasmdesa/anaconda3/envs/bco/lib/python3.9/site-packages/numpy/lib/histograms.py:906: RuntimeWarning: invalid value encountered in true_divide\n",
      "  return n/db/n.sum(), bin_edges\n",
      "/home/lucasmdesa/anaconda3/envs/bco/lib/python3.9/site-packages/numpy/lib/histograms.py:906: RuntimeWarning: invalid value encountered in true_divide\n",
      "  return n/db/n.sum(), bin_edges\n",
      "/home/lucasmdesa/anaconda3/envs/bco/lib/python3.9/site-packages/numpy/lib/histograms.py:906: RuntimeWarning: invalid value encountered in true_divide\n",
      "  return n/db/n.sum(), bin_edges\n",
      "/home/lucasmdesa/anaconda3/envs/bco/lib/python3.9/site-packages/numpy/lib/histograms.py:906: RuntimeWarning: invalid value encountered in true_divide\n",
      "  return n/db/n.sum(), bin_edges\n",
      "/home/lucasmdesa/anaconda3/envs/bco/lib/python3.9/site-packages/numpy/lib/histograms.py:906: RuntimeWarning: invalid value encountered in true_divide\n",
      "  return n/db/n.sum(), bin_edges\n",
      "/home/lucasmdesa/anaconda3/envs/bco/lib/python3.9/site-packages/numpy/lib/histograms.py:906: RuntimeWarning: invalid value encountered in true_divide\n",
      "  return n/db/n.sum(), bin_edges\n",
      "/home/lucasmdesa/anaconda3/envs/bco/lib/python3.9/site-packages/numpy/lib/histograms.py:906: RuntimeWarning: invalid value encountered in true_divide\n",
      "  return n/db/n.sum(), bin_edges\n",
      "/home/lucasmdesa/anaconda3/envs/bco/lib/python3.9/site-packages/numpy/lib/histograms.py:906: RuntimeWarning: invalid value encountered in true_divide\n",
      "  return n/db/n.sum(), bin_edges\n",
      "/home/lucasmdesa/anaconda3/envs/bco/lib/python3.9/site-packages/numpy/lib/histograms.py:906: RuntimeWarning: invalid value encountered in true_divide\n",
      "  return n/db/n.sum(), bin_edges\n",
      "/home/lucasmdesa/anaconda3/envs/bco/lib/python3.9/site-packages/numpy/lib/histograms.py:906: RuntimeWarning: invalid value encountered in true_divide\n",
      "  return n/db/n.sum(), bin_edges\n",
      "/home/lucasmdesa/anaconda3/envs/bco/lib/python3.9/site-packages/numpy/lib/histograms.py:906: RuntimeWarning: invalid value encountered in true_divide\n",
      "  return n/db/n.sum(), bin_edges\n",
      "/home/lucasmdesa/anaconda3/envs/bco/lib/python3.9/site-packages/numpy/lib/histograms.py:906: RuntimeWarning: invalid value encountered in true_divide\n",
      "  return n/db/n.sum(), bin_edges\n",
      "/home/lucasmdesa/anaconda3/envs/bco/lib/python3.9/site-packages/numpy/lib/histograms.py:906: RuntimeWarning: invalid value encountered in true_divide\n",
      "  return n/db/n.sum(), bin_edges\n",
      "/home/lucasmdesa/anaconda3/envs/bco/lib/python3.9/site-packages/numpy/lib/histograms.py:906: RuntimeWarning: invalid value encountered in true_divide\n",
      "  return n/db/n.sum(), bin_edges\n",
      "/home/lucasmdesa/anaconda3/envs/bco/lib/python3.9/site-packages/numpy/lib/histograms.py:906: RuntimeWarning: invalid value encountered in true_divide\n",
      "  return n/db/n.sum(), bin_edges\n",
      "/home/lucasmdesa/anaconda3/envs/bco/lib/python3.9/site-packages/numpy/lib/histograms.py:906: RuntimeWarning: invalid value encountered in true_divide\n",
      "  return n/db/n.sum(), bin_edges\n",
      "/home/lucasmdesa/anaconda3/envs/bco/lib/python3.9/site-packages/numpy/lib/histograms.py:906: RuntimeWarning: invalid value encountered in true_divide\n",
      "  return n/db/n.sum(), bin_edges\n",
      "/home/lucasmdesa/anaconda3/envs/bco/lib/python3.9/site-packages/numpy/lib/histograms.py:906: RuntimeWarning: invalid value encountered in true_divide\n",
      "  return n/db/n.sum(), bin_edges\n",
      "/home/lucasmdesa/anaconda3/envs/bco/lib/python3.9/site-packages/numpy/lib/histograms.py:906: RuntimeWarning: invalid value encountered in true_divide\n",
      "  return n/db/n.sum(), bin_edges\n",
      "/home/lucasmdesa/anaconda3/envs/bco/lib/python3.9/site-packages/numpy/lib/histograms.py:906: RuntimeWarning: invalid value encountered in true_divide\n",
      "  return n/db/n.sum(), bin_edges\n",
      "/home/lucasmdesa/anaconda3/envs/bco/lib/python3.9/site-packages/numpy/lib/histograms.py:906: RuntimeWarning: invalid value encountered in true_divide\n",
      "  return n/db/n.sum(), bin_edges\n",
      "/home/lucasmdesa/anaconda3/envs/bco/lib/python3.9/site-packages/numpy/lib/histograms.py:906: RuntimeWarning: invalid value encountered in true_divide\n",
      "  return n/db/n.sum(), bin_edges\n",
      "/home/lucasmdesa/anaconda3/envs/bco/lib/python3.9/site-packages/numpy/lib/histograms.py:906: RuntimeWarning: invalid value encountered in true_divide\n",
      "  return n/db/n.sum(), bin_edges\n",
      "/home/lucasmdesa/anaconda3/envs/bco/lib/python3.9/site-packages/numpy/lib/histograms.py:906: RuntimeWarning: invalid value encountered in true_divide\n",
      "  return n/db/n.sum(), bin_edges\n",
      "/home/lucasmdesa/anaconda3/envs/bco/lib/python3.9/site-packages/numpy/lib/histograms.py:906: RuntimeWarning: invalid value encountered in true_divide\n",
      "  return n/db/n.sum(), bin_edges\n",
      "/home/lucasmdesa/anaconda3/envs/bco/lib/python3.9/site-packages/numpy/lib/histograms.py:906: RuntimeWarning: invalid value encountered in true_divide\n",
      "  return n/db/n.sum(), bin_edges\n",
      "/home/lucasmdesa/anaconda3/envs/bco/lib/python3.9/site-packages/numpy/lib/histograms.py:906: RuntimeWarning: invalid value encountered in true_divide\n",
      "  return n/db/n.sum(), bin_edges\n",
      "/home/lucasmdesa/anaconda3/envs/bco/lib/python3.9/site-packages/numpy/lib/histograms.py:906: RuntimeWarning: invalid value encountered in true_divide\n",
      "  return n/db/n.sum(), bin_edges\n",
      "/home/lucasmdesa/anaconda3/envs/bco/lib/python3.9/site-packages/numpy/lib/histograms.py:906: RuntimeWarning: invalid value encountered in true_divide\n",
      "  return n/db/n.sum(), bin_edges\n",
      "/home/lucasmdesa/anaconda3/envs/bco/lib/python3.9/site-packages/numpy/lib/histograms.py:906: RuntimeWarning: invalid value encountered in true_divide\n",
      "  return n/db/n.sum(), bin_edges\n",
      "/home/lucasmdesa/anaconda3/envs/bco/lib/python3.9/site-packages/numpy/lib/histograms.py:906: RuntimeWarning: invalid value encountered in true_divide\n",
      "  return n/db/n.sum(), bin_edges\n",
      "/home/lucasmdesa/anaconda3/envs/bco/lib/python3.9/site-packages/numpy/lib/histograms.py:906: RuntimeWarning: invalid value encountered in true_divide\n",
      "  return n/db/n.sum(), bin_edges\n",
      "/home/lucasmdesa/anaconda3/envs/bco/lib/python3.9/site-packages/numpy/lib/histograms.py:906: RuntimeWarning: invalid value encountered in true_divide\n",
      "  return n/db/n.sum(), bin_edges\n",
      "/home/lucasmdesa/anaconda3/envs/bco/lib/python3.9/site-packages/numpy/lib/histograms.py:906: RuntimeWarning: invalid value encountered in true_divide\n",
      "  return n/db/n.sum(), bin_edges\n",
      "/home/lucasmdesa/anaconda3/envs/bco/lib/python3.9/site-packages/numpy/lib/histograms.py:906: RuntimeWarning: invalid value encountered in true_divide\n",
      "  return n/db/n.sum(), bin_edges\n",
      "/home/lucasmdesa/anaconda3/envs/bco/lib/python3.9/site-packages/numpy/lib/histograms.py:906: RuntimeWarning: invalid value encountered in true_divide\n",
      "  return n/db/n.sum(), bin_edges\n",
      "/home/lucasmdesa/anaconda3/envs/bco/lib/python3.9/site-packages/numpy/lib/histograms.py:906: RuntimeWarning: invalid value encountered in true_divide\n",
      "  return n/db/n.sum(), bin_edges\n",
      "/home/lucasmdesa/anaconda3/envs/bco/lib/python3.9/site-packages/numpy/lib/histograms.py:906: RuntimeWarning: invalid value encountered in true_divide\n",
      "  return n/db/n.sum(), bin_edges\n",
      "/home/lucasmdesa/anaconda3/envs/bco/lib/python3.9/site-packages/numpy/lib/histograms.py:906: RuntimeWarning: invalid value encountered in true_divide\n",
      "  return n/db/n.sum(), bin_edges\n",
      "/home/lucasmdesa/anaconda3/envs/bco/lib/python3.9/site-packages/numpy/lib/histograms.py:906: RuntimeWarning: invalid value encountered in true_divide\n",
      "  return n/db/n.sum(), bin_edges\n",
      "/home/lucasmdesa/anaconda3/envs/bco/lib/python3.9/site-packages/numpy/lib/histograms.py:906: RuntimeWarning: invalid value encountered in true_divide\n",
      "  return n/db/n.sum(), bin_edges\n",
      "/home/lucasmdesa/anaconda3/envs/bco/lib/python3.9/site-packages/numpy/lib/histograms.py:906: RuntimeWarning: invalid value encountered in true_divide\n",
      "  return n/db/n.sum(), bin_edges\n",
      "/home/lucasmdesa/anaconda3/envs/bco/lib/python3.9/site-packages/numpy/lib/histograms.py:906: RuntimeWarning: invalid value encountered in true_divide\n",
      "  return n/db/n.sum(), bin_edges\n",
      "/home/lucasmdesa/anaconda3/envs/bco/lib/python3.9/site-packages/numpy/lib/histograms.py:906: RuntimeWarning: invalid value encountered in true_divide\n",
      "  return n/db/n.sum(), bin_edges\n",
      "/home/lucasmdesa/anaconda3/envs/bco/lib/python3.9/site-packages/numpy/lib/histograms.py:906: RuntimeWarning: invalid value encountered in true_divide\n",
      "  return n/db/n.sum(), bin_edges\n",
      "/home/lucasmdesa/anaconda3/envs/bco/lib/python3.9/site-packages/numpy/lib/histograms.py:906: RuntimeWarning: invalid value encountered in true_divide\n",
      "  return n/db/n.sum(), bin_edges\n",
      "/home/lucasmdesa/anaconda3/envs/bco/lib/python3.9/site-packages/numpy/lib/histograms.py:906: RuntimeWarning: invalid value encountered in true_divide\n",
      "  return n/db/n.sum(), bin_edges\n",
      "/home/lucasmdesa/anaconda3/envs/bco/lib/python3.9/site-packages/numpy/lib/histograms.py:906: RuntimeWarning: invalid value encountered in true_divide\n",
      "  return n/db/n.sum(), bin_edges\n",
      "/home/lucasmdesa/anaconda3/envs/bco/lib/python3.9/site-packages/numpy/lib/histograms.py:906: RuntimeWarning: invalid value encountered in true_divide\n",
      "  return n/db/n.sum(), bin_edges\n",
      "/home/lucasmdesa/anaconda3/envs/bco/lib/python3.9/site-packages/numpy/lib/histograms.py:906: RuntimeWarning: invalid value encountered in true_divide\n",
      "  return n/db/n.sum(), bin_edges\n",
      "/home/lucasmdesa/anaconda3/envs/bco/lib/python3.9/site-packages/numpy/lib/histograms.py:906: RuntimeWarning: invalid value encountered in true_divide\n",
      "  return n/db/n.sum(), bin_edges\n",
      "/home/lucasmdesa/anaconda3/envs/bco/lib/python3.9/site-packages/numpy/lib/histograms.py:906: RuntimeWarning: invalid value encountered in true_divide\n",
      "  return n/db/n.sum(), bin_edges\n",
      "/home/lucasmdesa/anaconda3/envs/bco/lib/python3.9/site-packages/numpy/lib/histograms.py:906: RuntimeWarning: invalid value encountered in true_divide\n",
      "  return n/db/n.sum(), bin_edges\n",
      "/home/lucasmdesa/anaconda3/envs/bco/lib/python3.9/site-packages/numpy/lib/histograms.py:906: RuntimeWarning: invalid value encountered in true_divide\n",
      "  return n/db/n.sum(), bin_edges\n",
      "/home/lucasmdesa/anaconda3/envs/bco/lib/python3.9/site-packages/numpy/lib/histograms.py:906: RuntimeWarning: invalid value encountered in true_divide\n",
      "  return n/db/n.sum(), bin_edges\n",
      "/home/lucasmdesa/anaconda3/envs/bco/lib/python3.9/site-packages/numpy/lib/histograms.py:906: RuntimeWarning: invalid value encountered in true_divide\n",
      "  return n/db/n.sum(), bin_edges\n",
      "/home/lucasmdesa/anaconda3/envs/bco/lib/python3.9/site-packages/numpy/lib/histograms.py:906: RuntimeWarning: invalid value encountered in true_divide\n",
      "  return n/db/n.sum(), bin_edges\n",
      "/home/lucasmdesa/anaconda3/envs/bco/lib/python3.9/site-packages/numpy/lib/histograms.py:906: RuntimeWarning: invalid value encountered in true_divide\n",
      "  return n/db/n.sum(), bin_edges\n",
      "/home/lucasmdesa/anaconda3/envs/bco/lib/python3.9/site-packages/numpy/lib/histograms.py:906: RuntimeWarning: invalid value encountered in true_divide\n",
      "  return n/db/n.sum(), bin_edges\n",
      "/home/lucasmdesa/anaconda3/envs/bco/lib/python3.9/site-packages/numpy/lib/histograms.py:906: RuntimeWarning: invalid value encountered in true_divide\n",
      "  return n/db/n.sum(), bin_edges\n",
      "/home/lucasmdesa/anaconda3/envs/bco/lib/python3.9/site-packages/numpy/lib/histograms.py:906: RuntimeWarning: invalid value encountered in true_divide\n",
      "  return n/db/n.sum(), bin_edges\n",
      "/home/lucasmdesa/anaconda3/envs/bco/lib/python3.9/site-packages/numpy/lib/histograms.py:906: RuntimeWarning: invalid value encountered in true_divide\n",
      "  return n/db/n.sum(), bin_edges\n",
      "/home/lucasmdesa/anaconda3/envs/bco/lib/python3.9/site-packages/numpy/lib/histograms.py:906: RuntimeWarning: invalid value encountered in true_divide\n",
      "  return n/db/n.sum(), bin_edges\n",
      "/home/lucasmdesa/anaconda3/envs/bco/lib/python3.9/site-packages/numpy/lib/histograms.py:906: RuntimeWarning: invalid value encountered in true_divide\n",
      "  return n/db/n.sum(), bin_edges\n",
      "/home/lucasmdesa/anaconda3/envs/bco/lib/python3.9/site-packages/numpy/lib/histograms.py:906: RuntimeWarning: invalid value encountered in true_divide\n",
      "  return n/db/n.sum(), bin_edges\n",
      "/home/lucasmdesa/anaconda3/envs/bco/lib/python3.9/site-packages/numpy/lib/histograms.py:906: RuntimeWarning: invalid value encountered in true_divide\n",
      "  return n/db/n.sum(), bin_edges\n",
      "/home/lucasmdesa/anaconda3/envs/bco/lib/python3.9/site-packages/numpy/lib/histograms.py:906: RuntimeWarning: invalid value encountered in true_divide\n",
      "  return n/db/n.sum(), bin_edges\n",
      "/home/lucasmdesa/anaconda3/envs/bco/lib/python3.9/site-packages/numpy/lib/histograms.py:906: RuntimeWarning: invalid value encountered in true_divide\n",
      "  return n/db/n.sum(), bin_edges\n",
      "/home/lucasmdesa/anaconda3/envs/bco/lib/python3.9/site-packages/numpy/lib/histograms.py:906: RuntimeWarning: invalid value encountered in true_divide\n",
      "  return n/db/n.sum(), bin_edges\n",
      "/home/lucasmdesa/anaconda3/envs/bco/lib/python3.9/site-packages/numpy/lib/histograms.py:906: RuntimeWarning: invalid value encountered in true_divide\n",
      "  return n/db/n.sum(), bin_edges\n",
      "/home/lucasmdesa/anaconda3/envs/bco/lib/python3.9/site-packages/numpy/lib/histograms.py:906: RuntimeWarning: invalid value encountered in true_divide\n",
      "  return n/db/n.sum(), bin_edges\n",
      "/home/lucasmdesa/anaconda3/envs/bco/lib/python3.9/site-packages/numpy/lib/histograms.py:906: RuntimeWarning: invalid value encountered in true_divide\n",
      "  return n/db/n.sum(), bin_edges\n",
      "/home/lucasmdesa/anaconda3/envs/bco/lib/python3.9/site-packages/numpy/lib/histograms.py:906: RuntimeWarning: invalid value encountered in true_divide\n",
      "  return n/db/n.sum(), bin_edges\n",
      "/home/lucasmdesa/anaconda3/envs/bco/lib/python3.9/site-packages/numpy/lib/histograms.py:906: RuntimeWarning: invalid value encountered in true_divide\n",
      "  return n/db/n.sum(), bin_edges\n",
      "/home/lucasmdesa/anaconda3/envs/bco/lib/python3.9/site-packages/numpy/lib/histograms.py:906: RuntimeWarning: invalid value encountered in true_divide\n",
      "  return n/db/n.sum(), bin_edges\n",
      "/home/lucasmdesa/anaconda3/envs/bco/lib/python3.9/site-packages/numpy/lib/histograms.py:906: RuntimeWarning: invalid value encountered in true_divide\n",
      "  return n/db/n.sum(), bin_edges\n",
      "/home/lucasmdesa/anaconda3/envs/bco/lib/python3.9/site-packages/numpy/lib/histograms.py:906: RuntimeWarning: invalid value encountered in true_divide\n",
      "  return n/db/n.sum(), bin_edges\n",
      "/home/lucasmdesa/anaconda3/envs/bco/lib/python3.9/site-packages/numpy/lib/histograms.py:906: RuntimeWarning: invalid value encountered in true_divide\n",
      "  return n/db/n.sum(), bin_edges\n",
      "/home/lucasmdesa/anaconda3/envs/bco/lib/python3.9/site-packages/numpy/lib/histograms.py:906: RuntimeWarning: invalid value encountered in true_divide\n",
      "  return n/db/n.sum(), bin_edges\n",
      "/home/lucasmdesa/anaconda3/envs/bco/lib/python3.9/site-packages/numpy/lib/histograms.py:906: RuntimeWarning: invalid value encountered in true_divide\n",
      "  return n/db/n.sum(), bin_edges\n",
      "/home/lucasmdesa/anaconda3/envs/bco/lib/python3.9/site-packages/numpy/lib/histograms.py:906: RuntimeWarning: invalid value encountered in true_divide\n",
      "  return n/db/n.sum(), bin_edges\n",
      "/home/lucasmdesa/anaconda3/envs/bco/lib/python3.9/site-packages/numpy/lib/histograms.py:906: RuntimeWarning: invalid value encountered in true_divide\n",
      "  return n/db/n.sum(), bin_edges\n",
      "/home/lucasmdesa/anaconda3/envs/bco/lib/python3.9/site-packages/numpy/lib/histograms.py:906: RuntimeWarning: invalid value encountered in true_divide\n",
      "  return n/db/n.sum(), bin_edges\n",
      "/home/lucasmdesa/anaconda3/envs/bco/lib/python3.9/site-packages/numpy/lib/histograms.py:906: RuntimeWarning: invalid value encountered in true_divide\n",
      "  return n/db/n.sum(), bin_edges\n",
      "/home/lucasmdesa/anaconda3/envs/bco/lib/python3.9/site-packages/numpy/lib/histograms.py:906: RuntimeWarning: invalid value encountered in true_divide\n",
      "  return n/db/n.sum(), bin_edges\n",
      "/home/lucasmdesa/anaconda3/envs/bco/lib/python3.9/site-packages/numpy/lib/histograms.py:906: RuntimeWarning: invalid value encountered in true_divide\n",
      "  return n/db/n.sum(), bin_edges\n",
      "/home/lucasmdesa/anaconda3/envs/bco/lib/python3.9/site-packages/numpy/lib/histograms.py:906: RuntimeWarning: invalid value encountered in true_divide\n",
      "  return n/db/n.sum(), bin_edges\n",
      "/home/lucasmdesa/anaconda3/envs/bco/lib/python3.9/site-packages/numpy/lib/histograms.py:906: RuntimeWarning: invalid value encountered in true_divide\n",
      "  return n/db/n.sum(), bin_edges\n",
      "/home/lucasmdesa/anaconda3/envs/bco/lib/python3.9/site-packages/numpy/lib/histograms.py:906: RuntimeWarning: invalid value encountered in true_divide\n",
      "  return n/db/n.sum(), bin_edges\n",
      "/home/lucasmdesa/anaconda3/envs/bco/lib/python3.9/site-packages/numpy/lib/histograms.py:906: RuntimeWarning: invalid value encountered in true_divide\n",
      "  return n/db/n.sum(), bin_edges\n",
      "/home/lucasmdesa/anaconda3/envs/bco/lib/python3.9/site-packages/numpy/lib/histograms.py:906: RuntimeWarning: invalid value encountered in true_divide\n",
      "  return n/db/n.sum(), bin_edges\n",
      "/home/lucasmdesa/anaconda3/envs/bco/lib/python3.9/site-packages/numpy/lib/histograms.py:906: RuntimeWarning: invalid value encountered in true_divide\n",
      "  return n/db/n.sum(), bin_edges\n",
      "/home/lucasmdesa/anaconda3/envs/bco/lib/python3.9/site-packages/numpy/lib/histograms.py:906: RuntimeWarning: invalid value encountered in true_divide\n",
      "  return n/db/n.sum(), bin_edges\n",
      "/home/lucasmdesa/anaconda3/envs/bco/lib/python3.9/site-packages/numpy/lib/histograms.py:906: RuntimeWarning: invalid value encountered in true_divide\n",
      "  return n/db/n.sum(), bin_edges\n",
      "/home/lucasmdesa/anaconda3/envs/bco/lib/python3.9/site-packages/numpy/lib/histograms.py:906: RuntimeWarning: invalid value encountered in true_divide\n",
      "  return n/db/n.sum(), bin_edges\n",
      "/home/lucasmdesa/anaconda3/envs/bco/lib/python3.9/site-packages/numpy/lib/histograms.py:906: RuntimeWarning: invalid value encountered in true_divide\n",
      "  return n/db/n.sum(), bin_edges\n",
      "/home/lucasmdesa/anaconda3/envs/bco/lib/python3.9/site-packages/numpy/lib/histograms.py:906: RuntimeWarning: invalid value encountered in true_divide\n",
      "  return n/db/n.sum(), bin_edges\n",
      "/home/lucasmdesa/anaconda3/envs/bco/lib/python3.9/site-packages/numpy/lib/histograms.py:906: RuntimeWarning: invalid value encountered in true_divide\n",
      "  return n/db/n.sum(), bin_edges\n",
      "/home/lucasmdesa/anaconda3/envs/bco/lib/python3.9/site-packages/numpy/lib/histograms.py:906: RuntimeWarning: invalid value encountered in true_divide\n",
      "  return n/db/n.sum(), bin_edges\n",
      "/home/lucasmdesa/anaconda3/envs/bco/lib/python3.9/site-packages/numpy/lib/histograms.py:906: RuntimeWarning: invalid value encountered in true_divide\n",
      "  return n/db/n.sum(), bin_edges\n",
      "/home/lucasmdesa/anaconda3/envs/bco/lib/python3.9/site-packages/numpy/lib/histograms.py:906: RuntimeWarning: invalid value encountered in true_divide\n",
      "  return n/db/n.sum(), bin_edges\n",
      "/home/lucasmdesa/anaconda3/envs/bco/lib/python3.9/site-packages/numpy/lib/histograms.py:906: RuntimeWarning: invalid value encountered in true_divide\n",
      "  return n/db/n.sum(), bin_edges\n",
      "/home/lucasmdesa/anaconda3/envs/bco/lib/python3.9/site-packages/numpy/lib/histograms.py:906: RuntimeWarning: invalid value encountered in true_divide\n",
      "  return n/db/n.sum(), bin_edges\n"
     ]
    }
   ],
   "source": [
    "slope_dict = {}\n",
    "for z in plot_zs:\n",
    "    if z not in slope_dict:\n",
    "        slope_dict[z] = {}\n",
    "    sample_paths_ = onlybin_canon_sample_paths_dict[z]   \n",
    "\n",
    "    counter = 0\n",
    "    for path in sample_paths_:\n",
    "        sample_descr = path.name.split('_')[:-3]\n",
    "\n",
    "        sample_descr_dict = {}\n",
    "        for attr in sample_descr:\n",
    "            key, value = attr.split('=')\n",
    "            sample_descr_dict[key] = value\n",
    "            \n",
    "        feh = np.float32(sample_descr_dict['feh'])  \n",
    "        sample_df = pd.read_parquet(path, engine='pyarrow')\n",
    "        slope_dict[z][feh] = {}\n",
    "        \n",
    "        mplots = gen_mplots(sample_df, sample_descr_dict)\n",
    "        counter += 1\n",
    "        \n",
    "        for mplot in mplots:\n",
    "            label, mb, mc, mh = mplot\n",
    "            mc = np.log10(mc)\n",
    "            mh = np.log10(mh)\n",
    "            mc10_i = np.searchsorted(mc, 1)\n",
    "            slope, *_ = linregress(mc, mh)\n",
    "            slope1, *_ = linregress(mc[:mc10_i], mh[:mc10_i])\n",
    "            slope2, *_ = linregress(mc[mc10_i:], mh[mc10_i:])\n",
    "            slopes = [slope, slope1, slope2]\n",
    "            slope_dict[z][feh][label] = slopes\n",
    "            #print(f'In {z=}, {feh=}, {label} is best fit by a power-law {slope:.2f}, or {slope1:.2f} up to {10**mc[mc10_i]:.2f} Mo and {slope2:.2f} above.')\n",
    "        #print('')\n",
    "        \n",
    "onlybin_canon_slope_dict = slope_dict"
   ]
  },
  {
   "cell_type": "code",
   "execution_count": 21,
   "id": "b3471878-05b9-49e0-8594-a57570a9aa2e",
   "metadata": {
    "tags": []
   },
   "outputs": [],
   "source": [
    "slope_dict = {}\n",
    "for z in plot_zs:\n",
    "    if z not in slope_dict:\n",
    "        slope_dict[z] = {}\n",
    "    sample_paths_ = allmult_sample_paths_dict[z]   \n",
    "\n",
    "    counter = 0\n",
    "    for path in sample_paths_:\n",
    "        sample_descr = path.name.split('_')[:-3]\n",
    "\n",
    "        sample_descr_dict = {}\n",
    "        for attr in sample_descr:\n",
    "            key, value = attr.split('=')\n",
    "            sample_descr_dict[key] = value\n",
    "            \n",
    "        feh = np.float32(sample_descr_dict['feh'])  \n",
    "        sample_df = pd.read_parquet(path, engine='pyarrow')\n",
    "        slope_dict[z][feh] = {}\n",
    "        \n",
    "        mplots = gen_mplots(sample_df, sample_descr_dict)\n",
    "        counter += 1\n",
    "        \n",
    "        for mplot in mplots:\n",
    "            label, mb, mc, mh = mplot\n",
    "            mc = np.log10(mc)\n",
    "            mh = np.log10(mh)\n",
    "            mc10_i = np.searchsorted(mc, 1)\n",
    "            slope, *_ = linregress(mc, mh)\n",
    "            slope1, *_ = linregress(mc[:mc10_i], mh[:mc10_i])\n",
    "            slope2, *_ = linregress(mc[mc10_i:], mh[mc10_i:])\n",
    "            slopes = [slope, slope1, slope2]\n",
    "            slope_dict[z][feh][label] = slopes\n",
    "            #print(f'In {z=}, {feh=}, {label} is best fit by a power-law {slope:.2f}, or {slope1:.2f} up to {10**mc[mc10_i]:.2f} Mo and {slope2:.2f} above.')\n",
    "        #print('')\n",
    "        \n",
    "allmult_slope_dict = slope_dict"
   ]
  },
  {
   "cell_type": "code",
   "execution_count": 22,
   "id": "55f8361b-77f6-417a-ac2d-7fbe3d5d35de",
   "metadata": {
    "tags": []
   },
   "outputs": [],
   "source": [
    "slope_dict = {}\n",
    "for z in plot_zs:\n",
    "    if z not in slope_dict:\n",
    "        slope_dict[z] = {}\n",
    "    sample_paths_ = allmult_canon_sample_paths_dict[z]   \n",
    "\n",
    "    counter = 0\n",
    "    for path in sample_paths_:\n",
    "        sample_descr = path.name.split('_')[:-3]\n",
    "\n",
    "        sample_descr_dict = {}\n",
    "        for attr in sample_descr:\n",
    "            key, value = attr.split('=')\n",
    "            sample_descr_dict[key] = value\n",
    "            \n",
    "        feh = np.float32(sample_descr_dict['feh'])  \n",
    "        sample_df = pd.read_parquet(path, engine='pyarrow')\n",
    "        slope_dict[z][feh] = {}\n",
    "        \n",
    "        mplots = gen_mplots(sample_df, sample_descr_dict)\n",
    "        counter += 1\n",
    "        \n",
    "        for mplot in mplots:\n",
    "            label, mb, mc, mh = mplot\n",
    "            mc = np.log10(mc)\n",
    "            mh = np.log10(mh)\n",
    "            mc10_i = np.searchsorted(mc, 1)\n",
    "            slope, *_ = linregress(mc, mh)\n",
    "            slope1, *_ = linregress(mc[:mc10_i], mh[:mc10_i])\n",
    "            slope2, *_ = linregress(mc[mc10_i:], mh[mc10_i:])\n",
    "            slopes = [slope, slope1, slope2]\n",
    "            slope_dict[z][feh][label] = slopes\n",
    "            #print(f'In {z=}, {feh=}, {label} is best fit by a power-law {slope:.2f}, or {slope1:.2f} up to {10**mc[mc10_i]:.2f} Mo and {slope2:.2f} above.')\n",
    "        #print('')\n",
    "        \n",
    "allmult_canon_slope_dict = slope_dict"
   ]
  },
  {
   "cell_type": "code",
   "execution_count": 23,
   "id": "064c0ab2-2686-448e-8dfb-7e95a72c8eed",
   "metadata": {},
   "outputs": [
    {
     "data": {
      "image/png": "[encoded data removed]",
      "text/plain": [
       "<Figure size 1296x648 with 6 Axes>"
      ]
     },
     "metadata": {},
     "output_type": "display_data"
    }
   ],
   "source": [
    "fig, axes = plt.subplots(2, 3, figsize=(18,9), sharey='row', sharex='col')\n",
    "fig.subplots_adjust(hspace=0, wspace=0)\n",
    "rect = fig.patch\n",
    "rect.set_facecolor('white')\n",
    "\n",
    "plot_zs = list(onlybin_slope_dict.keys())[::4]\n",
    "for z, ax in zip(plot_zs, axes[0]):\n",
    "    z_dict = onlybin_slope_dict[z]\n",
    "    \n",
    "    fehs = []\n",
    "    m1slopess = []\n",
    "    m2slopess = []\n",
    "    mallslopess = []\n",
    "    for feh in z_dict:\n",
    "        m1slopes = z_dict[feh]['$m_1$']\n",
    "        m2slopes = z_dict[feh]['$m_2$']\n",
    "        mallslopes = z_dict[feh]['all $m_i$']\n",
    "        fehs.append(feh)\n",
    "        m1slopess.append(m1slopes)\n",
    "        m2slopess.append(m2slopes)\n",
    "        mallslopess.append(mallslopes)\n",
    "\n",
    "    m1slopess = np.array(m1slopess)\n",
    "    m2slopess = np.array(m2slopess)\n",
    "    mallslopess = np.array(mallslopess)\n",
    "\n",
    "    ax.plot(fehs, m1slopess[:,1], 'r-', lw=2)\n",
    "    ax.plot(fehs, m2slopess[:,1], 'b-', lw=2)\n",
    "    ax.plot(fehs, mallslopess[:,1], 'k-', lw=3)\n",
    "\n",
    "for z, ax in zip(plot_zs, axes[1]):\n",
    "    z_dict = onlybin_slope_dict[z]\n",
    "    \n",
    "    fehs = []\n",
    "    m1slopess = []\n",
    "    m2slopess = []\n",
    "    mallslopess = []\n",
    "    for feh in z_dict:\n",
    "        m1slopes = z_dict[feh]['$m_1$']\n",
    "        m2slopes = z_dict[feh]['$m_2$']\n",
    "        mallslopes = z_dict[feh]['all $m_i$']\n",
    "        fehs.append(feh)\n",
    "        m1slopess.append(m1slopes)\n",
    "        m2slopess.append(m2slopes)\n",
    "        mallslopess.append(mallslopes)\n",
    "\n",
    "    m1slopess = np.array(m1slopess)\n",
    "    m2slopess = np.array(m2slopess)\n",
    "    mallslopess = np.array(mallslopess)\n",
    "\n",
    "    ax.plot(fehs, m1slopess[:,2], 'r-', lw=2)\n",
    "    ax.plot(fehs, m2slopess[:,2], 'b-', lw=2)\n",
    "    ax.plot(fehs, mallslopess[:,2], 'k-', lw=3)\n",
    "\n",
    "    \n",
    "for ax in axes[0]:\n",
    "    #ax.set_xlim(-3, 0.7)\n",
    "    ax.set_ylim(-2.35, -1)\n",
    "    ax.hlines(-2.3, -3, 0.5, color='k', ls=':', lw=2)\n",
    "    #ax.set_yticks(np.arange(-2.5, 0, 0.5))\n",
    "    \n",
    "for ax in axes[1]:\n",
    "    #ax.set_xlim(-3, 0.7)\n",
    "    ax.set_ylim(-3, 0)\n",
    "    ax.hlines(-2.3, -3, 0.5, color='k', ls=':', lw=2)\n",
    "    #ax.set_yticks(np.arange(-2.5, 0, 0.5))\n",
    "\n",
    "axes[0,0].set_xlim(-2, 0.5)\n",
    "axes[0,1].set_xlim(-2.3, 0.4)\n",
    "axes[0,2].set_xlim(-2.9, 0)\n",
    "    \n",
    "#axes[0,0].set_yticks(np.arange(-2.5, 0.5, 0.5))\n",
    "handles = [Line2D([2], [1], color='k', lw=3, label='all $m_i$'),\n",
    "           Line2D([2], [1], color='r', lw=2, label='$m_1$'),\n",
    "           Line2D([2], [1], color='b', lw=2, label='$m_2$'),\n",
    "           Line2D([2], [1], color='k', lw=2, ls=':', label='Salpeter-Massey index')]\n",
    "axes[0,0].legend(handles=handles, frameon=True, loc='lower left', bbox_to_anchor=(0,1.2), ncol=3, edgecolor='black', fancybox=False, borderpad=0.2, fontsize=24)\n",
    "\n",
    "for z, ax in zip(plot_zs, axes[0]):\n",
    "    ax.text(0.5, 1, f'$z={z}$', ha='center', va='bottom', transform=ax.transAxes)\n",
    "\n",
    "axes[0,2].text(1, 0.5, r'$m_1\\leq10\\,\\mathrm{M}_\\odot$', rotation=-90, ha='left', va='center', transform=axes[0,2].transAxes)\n",
    "axes[1,2].text(1, 0.5, r'$m_1>10\\,\\mathrm{M}_\\odot$', rotation=-90, ha='left', va='center', transform=axes[1,2].transAxes)\n",
    "    \n",
    "\n",
    "fig.text(0.5, 0.05, '$\\mathrm{[Fe/H]}$',va='top', ha='center')\n",
    "fig.text(0.07, 0.5, '$\\\\alpha$', rotation=90, va='bottom', ha='right')\n",
    "\n",
    "plt.savefig(FIGURE_FOLDER/f'imf_exponent_onlybin_1e6.pdf', bbox_inches='tight')\n",
    "plt.savefig(FIGURE_FOLDER/f'imf_exponent_onlybin_1e6.png', bbox_inches='tight')"
   ]
  },
  {
   "cell_type": "code",
   "execution_count": 24,
   "id": "76b8305f-db49-48b5-a5ea-255b1d5d8889",
   "metadata": {},
   "outputs": [
    {
     "data": {
      "image/png": "[encoded data removed]",
      "text/plain": [
       "<Figure size 1296x648 with 6 Axes>"
      ]
     },
     "metadata": {},
     "output_type": "display_data"
    }
   ],
   "source": [
    "fig, axes = plt.subplots(2, 3, figsize=(18,9), sharey='row', sharex='col')\n",
    "fig.subplots_adjust(hspace=0, wspace=0)\n",
    "rect = fig.patch\n",
    "rect.set_facecolor('white')\n",
    "\n",
    "plot_zs = list(onlybin_slope_dict.keys())[::4]\n",
    "for z, ax in zip(plot_zs, axes[0]):\n",
    "    z_dict = onlybin_canon_slope_dict[z]\n",
    "    \n",
    "    fehs = []\n",
    "    m1slopess = []\n",
    "    m2slopess = []\n",
    "    mallslopess = []\n",
    "    for feh in z_dict:\n",
    "        m1slopes = z_dict[feh]['$m_1$']\n",
    "        m2slopes = z_dict[feh]['$m_2$']\n",
    "        mallslopes = z_dict[feh]['all $m_i$']\n",
    "        fehs.append(feh)\n",
    "        m1slopess.append(m1slopes)\n",
    "        m2slopess.append(m2slopes)\n",
    "        mallslopess.append(mallslopes)\n",
    "\n",
    "    m1slopess = np.array(m1slopess)\n",
    "    m2slopess = np.array(m2slopess)\n",
    "    mallslopess = np.array(mallslopess)\n",
    "\n",
    "    ax.plot(fehs, m1slopess[:,1], 'r-', lw=2)\n",
    "    ax.plot(fehs, m2slopess[:,1], 'b-', lw=2)\n",
    "    ax.plot(fehs, mallslopess[:,1], 'k-', lw=3)\n",
    "\n",
    "for z, ax in zip(plot_zs, axes[1]):\n",
    "    z_dict = onlybin_canon_slope_dict[z]\n",
    "    \n",
    "    fehs = []\n",
    "    m1slopess = []\n",
    "    m2slopess = []\n",
    "    mallslopess = []\n",
    "    for feh in z_dict:\n",
    "        m1slopes = z_dict[feh]['$m_1$']\n",
    "        m2slopes = z_dict[feh]['$m_2$']\n",
    "        mallslopes = z_dict[feh]['all $m_i$']\n",
    "        fehs.append(feh)\n",
    "        m1slopess.append(m1slopes)\n",
    "        m2slopess.append(m2slopes)\n",
    "        mallslopess.append(mallslopes)\n",
    "\n",
    "    m1slopess = np.array(m1slopess)\n",
    "    m2slopess = np.array(m2slopess)\n",
    "    mallslopess = np.array(mallslopess)\n",
    "\n",
    "    ax.plot(fehs, m1slopess[:,2], 'r-', lw=2)\n",
    "    ax.plot(fehs, m2slopess[:,2], 'b-', lw=2)\n",
    "    ax.plot(fehs, mallslopess[:,2], 'k-', lw=3)\n",
    "\n",
    "    \n",
    "for ax in axes[0]:\n",
    "    #ax.set_xlim(-3, 0.7)\n",
    "    #ax.set_ylim(-2.35, -1)\n",
    "    ax.hlines(-2.3, -3, 0.5, color='k', ls=':', lw=2)\n",
    "    #ax.set_yticks(np.arange(-2.5, 0, 0.5))\n",
    "    \n",
    "for ax in axes[1]:\n",
    "    #ax.set_xlim(-3, 0.7)\n",
    "    #ax.set_ylim(-3, 0)\n",
    "    ax.hlines(-2.3, -3, 0.5, color='k', ls=':', lw=2)\n",
    "    #ax.set_yticks(np.arange(-2.5, 0, 0.5))\n",
    "\n",
    "axes[0,0].set_xlim(-2, 0.5)\n",
    "axes[0,1].set_xlim(-2.3, 0.4)\n",
    "axes[0,2].set_xlim(-2.9, 0)\n",
    "    \n",
    "#axes[0,0].set_yticks(np.arange(-2.5, 0.5, 0.5))\n",
    "handles = [Line2D([2], [1], color='k', lw=3, label='all $m_i$'),\n",
    "           Line2D([2], [1], color='r', lw=2, label='$m_1$'),\n",
    "           Line2D([2], [1], color='b', lw=2, label='$m_2$'),\n",
    "           Line2D([2], [1], color='k', lw=2, ls=':', label='Salpeter-Massey index')]\n",
    "axes[0,0].legend(handles=handles, frameon=True, loc='lower left', bbox_to_anchor=(0,1.2), ncol=3, edgecolor='black', fancybox=False, borderpad=0.2, fontsize=24)\n",
    "\n",
    "for z, ax in zip(plot_zs, axes[0]):\n",
    "    ax.text(0.5, 1, f'$z={z}$', ha='center', va='bottom', transform=ax.transAxes)\n",
    "\n",
    "axes[0,2].text(1, 0.5, r'$m_1\\leq10\\,\\mathrm{M}_\\odot$', rotation=-90, ha='left', va='center', transform=axes[0,2].transAxes)\n",
    "axes[1,2].text(1, 0.5, r'$m_1>10\\,\\mathrm{M}_\\odot$', rotation=-90, ha='left', va='center', transform=axes[1,2].transAxes)\n",
    "    \n",
    "\n",
    "fig.text(0.5, 0.05, '$\\mathrm{[Fe/H]}$',va='top', ha='center')\n",
    "fig.text(0.07, 0.5, '$\\\\alpha$', rotation=90, va='bottom', ha='right')\n",
    "\n",
    "plt.savefig(FIGURE_FOLDER/f'imf_exponent_canon_onlybin_1e6.pdf', bbox_inches='tight')\n",
    "plt.savefig(FIGURE_FOLDER/f'imf_exponent_canon_onlybin_1e6.png', bbox_inches='tight')"
   ]
  },
  {
   "cell_type": "code",
   "execution_count": 25,
   "id": "880fbdc7-1b5f-46f1-ba91-5c8b75efc348",
   "metadata": {},
   "outputs": [
    {
     "data": {
      "image/png": "[encoded data removed]",
      "text/plain": [
       "<Figure size 1296x648 with 6 Axes>"
      ]
     },
     "metadata": {},
     "output_type": "display_data"
    }
   ],
   "source": [
    "fig, axes = plt.subplots(2, 3, figsize=(18,9), sharey='row', sharex='col')\n",
    "fig.subplots_adjust(hspace=0, wspace=0)\n",
    "rect = fig.patch\n",
    "rect.set_facecolor('white')\n",
    "\n",
    "plot_zs = list(allmult_slope_dict.keys())[::4]\n",
    "for z, ax in zip(plot_zs, axes[0]):\n",
    "    z_dict = allmult_slope_dict[z]\n",
    "    \n",
    "    fehs = []\n",
    "    m1slopess = []\n",
    "    m2slopess = []\n",
    "    m3slopess = []\n",
    "    m4slopess = []\n",
    "    m5slopess = []\n",
    "    mallslopess = []\n",
    "    for feh in z_dict:\n",
    "        m1slopes = z_dict[feh]['$m_1$']\n",
    "        m2slopes = z_dict[feh]['$m_2$']\n",
    "        m3slopes = z_dict[feh]['$m_3$']\n",
    "        m4slopes = z_dict[feh]['$m_4$']\n",
    "        m5slopes = z_dict[feh]['$m_5$']\n",
    "        mallslopes = z_dict[feh]['all $m_i$']\n",
    "        fehs.append(feh)\n",
    "        m1slopess.append(m1slopes)\n",
    "        m2slopess.append(m2slopes)\n",
    "        m3slopess.append(m3slopes)\n",
    "        m4slopess.append(m4slopes)\n",
    "        m5slopess.append(m5slopes)\n",
    "        mallslopess.append(mallslopes)\n",
    "\n",
    "    m1slopess = np.array(m1slopess)\n",
    "    m2slopess = np.array(m2slopess)\n",
    "    m3slopess = np.array(m3slopess)\n",
    "    m4slopess = np.array(m4slopess)\n",
    "    m5slopess = np.array(m5slopess)\n",
    "    mallslopess = np.array(mallslopess)\n",
    "\n",
    "    ax.plot(fehs, m1slopess[:,1], 'r-', lw=2)\n",
    "    ax.plot(fehs, m2slopess[:,1], 'b-', lw=2)\n",
    "    ax.plot(fehs, m3slopess[:,1], 'm-', lw=2)\n",
    "    ax.plot(fehs, m4slopess[:,1], 'y-', lw=2)\n",
    "    ax.plot(fehs, m5slopess[:,1], 'c-', lw=2)\n",
    "    ax.plot(fehs, mallslopess[:,1], 'k-', lw=3)\n",
    "\n",
    "for z, ax in zip(plot_zs, axes[1]):\n",
    "    z_dict = allmult_slope_dict[z]\n",
    "    \n",
    "    fehs = []\n",
    "    m1slopess = []\n",
    "    m2slopess = []\n",
    "    m3slopess = []\n",
    "    m4slopess = []\n",
    "    m5slopess = []\n",
    "    mallslopess = []\n",
    "    for feh in z_dict:\n",
    "        m1slopes = z_dict[feh]['$m_1$']\n",
    "        m2slopes = z_dict[feh]['$m_2$']\n",
    "        m3slopes = z_dict[feh]['$m_3$']\n",
    "        m4slopes = z_dict[feh]['$m_4$']\n",
    "        m5slopes = z_dict[feh]['$m_5$']\n",
    "        mallslopes = z_dict[feh]['all $m_i$']\n",
    "        fehs.append(feh)\n",
    "        m1slopess.append(m1slopes)\n",
    "        m2slopess.append(m2slopes)\n",
    "        m3slopess.append(m3slopes)\n",
    "        m4slopess.append(m4slopes)\n",
    "        m5slopess.append(m5slopes)\n",
    "        mallslopess.append(mallslopes)\n",
    "\n",
    "    m1slopess = np.array(m1slopess)\n",
    "    m2slopess = np.array(m2slopess)\n",
    "    m3slopess = np.array(m3slopess)\n",
    "    m4slopess = np.array(m4slopess)\n",
    "    m5slopess = np.array(m5slopess)\n",
    "    mallslopess = np.array(mallslopess)\n",
    "\n",
    "    ax.plot(fehs, m1slopess[:,2], 'r-', lw=2)\n",
    "    ax.plot(fehs, m2slopess[:,2], 'b-', lw=2)\n",
    "    ax.plot(fehs, m3slopess[:,2], 'm-', lw=2)\n",
    "    ax.plot(fehs, m4slopess[:,2], 'y-', lw=2)\n",
    "    ax.plot(fehs, m5slopess[:,2], 'c-', lw=2)\n",
    "    ax.plot(fehs, mallslopess[:,2], 'k-', lw=3)\n",
    "\n",
    "\n",
    "    \n",
    "for ax in axes[0]:\n",
    "    #ax.set_xlim(-3, 0.7)\n",
    "    ax.set_ylim(-2.35, 0)\n",
    "    ax.hlines(-2.3, -3, 0.5, color='k', ls=':', lw=2)\n",
    "    #ax.set_yticks(np.arange(-2.5, 0, 0.5))\n",
    "    \n",
    "for ax in axes[1]:\n",
    "    #ax.set_xlim(-3, 0.7)\n",
    "    ax.set_ylim(-3, 0.5)\n",
    "    ax.hlines(-2.3, -3, 0.5, color='k', ls=':', lw=2)\n",
    "    #ax.set_yticks(np.arange(-2.5, 0, 0.5))\n",
    "\n",
    "axes[0,0].set_xlim(-2, 0.5)\n",
    "axes[0,1].set_xlim(-2.3, 0.4)\n",
    "axes[0,2].set_xlim(-2.9, 0)\n",
    "    \n",
    "#axes[0,0].set_yticks(np.arange(-2.5, 0.5, 0.5))\n",
    "handles = [Line2D([2], [1], color='k', lw=3, label='all $m_i$'),\n",
    "           Line2D([2], [1], color='r', lw=2, label='$m_1$'),\n",
    "           Line2D([2], [1], color='b', lw=2, label='$m_2$'),\n",
    "           Line2D([2], [1], color='m', lw=2, label='$m_3$'),\n",
    "           Line2D([2], [1], color='y', lw=2, label='$m_4$'),\n",
    "           Line2D([2], [1], color='c', lw=2, label='$m_5$'),\n",
    "           Line2D([2], [1], color='k', lw=2, ls=':', label='Salpeter-Massey index')]\n",
    "axes[0,0].legend(handles=handles, frameon=True, loc='lower left', bbox_to_anchor=(0,1.2), ncol=4, edgecolor='black', fancybox=False, borderpad=0.2, fontsize=24)\n",
    "\n",
    "for z, ax in zip(plot_zs, axes[0]):\n",
    "    ax.text(0.5, 1, f'$z={z}$', ha='center', va='bottom', transform=ax.transAxes)\n",
    "\n",
    "axes[0,2].text(1, 0.5, r'$m_1\\leq10\\,\\mathrm{M}_\\odot$', rotation=-90, ha='left', va='center', transform=axes[0,2].transAxes)\n",
    "axes[1,2].text(1, 0.5, r'$m_1>10\\,\\mathrm{M}_\\odot$', rotation=-90, ha='left', va='center', transform=axes[1,2].transAxes)\n",
    "    \n",
    "\n",
    "fig.text(0.5, 0.05, '$\\mathrm{[Fe/H]}$',va='top', ha='center')\n",
    "fig.text(0.07, 0.5, '$\\\\alpha$', rotation=90, va='bottom', ha='right')\n",
    "\n",
    "plt.savefig(FIGURE_FOLDER/f'imf_exponent_allmult_1e6.pdf', bbox_inches='tight')\n",
    "plt.savefig(FIGURE_FOLDER/f'imf_exponent_allmult_1e6.png', bbox_inches='tight')"
   ]
  },
  {
   "cell_type": "code",
   "execution_count": 26,
   "id": "dbf494a0-f351-4317-b20d-39e7cdbe4e88",
   "metadata": {},
   "outputs": [
    {
     "data": {
      "image/png": "[encoded data removed]",
      "text/plain": [
       "<Figure size 1296x648 with 6 Axes>"
      ]
     },
     "metadata": {},
     "output_type": "display_data"
    }
   ],
   "source": [
    "fig, axes = plt.subplots(2, 3, figsize=(18,9), sharey='row', sharex='col')\n",
    "fig.subplots_adjust(hspace=0, wspace=0)\n",
    "rect = fig.patch\n",
    "rect.set_facecolor('white')\n",
    "\n",
    "plot_zs = list(allmult_slope_dict.keys())[::4]\n",
    "for z, ax in zip(plot_zs, axes[0]):\n",
    "    z_dict = allmult_slope_dict[z]\n",
    "    \n",
    "    fehs = []\n",
    "    m1slopess = []\n",
    "    m2slopess = []\n",
    "    m3slopess = []\n",
    "    m4slopess = []\n",
    "    m5slopess = []\n",
    "    mallslopess = []\n",
    "    for feh in z_dict:\n",
    "        m1slopes = z_dict[feh]['$m_1$']\n",
    "        m2slopes = z_dict[feh]['$m_2$']\n",
    "        m3slopes = z_dict[feh]['$m_3$']\n",
    "        m4slopes = z_dict[feh]['$m_4$']\n",
    "        m5slopes = z_dict[feh]['$m_5$']\n",
    "        mallslopes = z_dict[feh]['all $m_i$']\n",
    "        fehs.append(feh)\n",
    "        m1slopess.append(m1slopes)\n",
    "        m2slopess.append(m2slopes)\n",
    "        m3slopess.append(m3slopes)\n",
    "        m4slopess.append(m4slopes)\n",
    "        m5slopess.append(m5slopes)\n",
    "        mallslopess.append(mallslopes)\n",
    "\n",
    "    m1slopess = np.array(m1slopess)\n",
    "    m2slopess = np.array(m2slopess)\n",
    "    m3slopess = np.array(m3slopess)\n",
    "    m4slopess = np.array(m4slopess)\n",
    "    m5slopess = np.array(m5slopess)\n",
    "    mallslopess = np.array(mallslopess)\n",
    "\n",
    "    ax.plot(fehs, m1slopess[:,1], 'r-', lw=2)\n",
    "    ax.plot(fehs, m2slopess[:,1], 'b-', lw=2)\n",
    "    ax.plot(fehs, m3slopess[:,1], 'm-', lw=2)\n",
    "    ax.plot(fehs, m4slopess[:,1], 'y-', lw=2)\n",
    "    ax.plot(fehs, m5slopess[:,1], 'c-', lw=2)\n",
    "    ax.plot(fehs, mallslopess[:,1], 'k-', lw=3)\n",
    "\n",
    "for z, ax in zip(plot_zs, axes[1]):\n",
    "    z_dict = allmult_slope_dict[z]\n",
    "    \n",
    "    fehs = []\n",
    "    m1slopess = []\n",
    "    m2slopess = []\n",
    "    m3slopess = []\n",
    "    m4slopess = []\n",
    "    m5slopess = []\n",
    "    mallslopess = []\n",
    "    for feh in z_dict:\n",
    "        m1slopes = z_dict[feh]['$m_1$']\n",
    "        m2slopes = z_dict[feh]['$m_2$']\n",
    "        m3slopes = z_dict[feh]['$m_3$']\n",
    "        m4slopes = z_dict[feh]['$m_4$']\n",
    "        m5slopes = z_dict[feh]['$m_5$']\n",
    "        mallslopes = z_dict[feh]['all $m_i$']\n",
    "        fehs.append(feh)\n",
    "        m1slopess.append(m1slopes)\n",
    "        m2slopess.append(m2slopes)\n",
    "        m3slopess.append(m3slopes)\n",
    "        m4slopess.append(m4slopes)\n",
    "        m5slopess.append(m5slopes)\n",
    "        mallslopess.append(mallslopes)\n",
    "\n",
    "    m1slopess = np.array(m1slopess)\n",
    "    m2slopess = np.array(m2slopess)\n",
    "    m3slopess = np.array(m3slopess)\n",
    "    m4slopess = np.array(m4slopess)\n",
    "    m5slopess = np.array(m5slopess)\n",
    "    mallslopess = np.array(mallslopess)\n",
    "\n",
    "    ax.plot(fehs, m1slopess[:,2], 'r-', lw=2)\n",
    "    ax.plot(fehs, m2slopess[:,2], 'b-', lw=2)\n",
    "    ax.plot(fehs, m3slopess[:,2], 'm-', lw=2)\n",
    "    ax.plot(fehs, m4slopess[:,2], 'y-', lw=2)\n",
    "    ax.plot(fehs, m5slopess[:,2], 'c-', lw=2)\n",
    "    ax.plot(fehs, mallslopess[:,2], 'k-', lw=3)\n",
    "\n",
    "    \n",
    "for ax in axes[0]:\n",
    "    #ax.set_xlim(-3, 0.7)\n",
    "    ax.set_ylim(-2.35, 0)\n",
    "    ax.hlines(-2.3, -3, 0.5, color='k', ls=':', lw=2)\n",
    "    #ax.set_yticks(np.arange(-2.5, 0, 0.5))\n",
    "    \n",
    "for ax in axes[1]:\n",
    "    #ax.set_xlim(-3, 0.7)\n",
    "    ax.set_ylim(-3, 0.5)\n",
    "    ax.hlines(-2.3, -3, 0.5, color='k', ls=':', lw=2)\n",
    "    #ax.set_yticks(np.arange(-2.5, 0, 0.5))\n",
    "\n",
    "axes[0,0].set_xlim(-2, 0.5)\n",
    "axes[0,1].set_xlim(-2.3, 0.4)\n",
    "axes[0,2].set_xlim(-2.9, 0)\n",
    "    \n",
    "#axes[0,0].set_yticks(np.arange(-2.5, 0.5, 0.5))\n",
    "handles = [Line2D([2], [1], color='k', lw=3, label='all $m_i$'),\n",
    "           Line2D([2], [1], color='r', lw=2, label='$m_1$'),\n",
    "           Line2D([2], [1], color='b', lw=2, label='$m_2$'),\n",
    "           Line2D([2], [1], color='m', lw=2, label='$m_3$'),\n",
    "           Line2D([2], [1], color='y', lw=2, label='$m_4$'),\n",
    "           Line2D([2], [1], color='c', lw=2, label='$m_5$'),\n",
    "           Line2D([2], [1], color='k', lw=2, ls=':', label='Salpeter-Massey index')]\n",
    "axes[0,0].legend(handles=handles, frameon=True, loc='lower left', bbox_to_anchor=(0,1.2), ncol=4, edgecolor='black', fancybox=False, borderpad=0.2, fontsize=24)\n",
    "\n",
    "for z, ax in zip(plot_zs, axes[0]):\n",
    "    ax.text(0.5, 1, f'$z={z}$', ha='center', va='bottom', transform=ax.transAxes)\n",
    "\n",
    "axes[0,2].text(1, 0.5, r'$m_1\\leq10\\,\\mathrm{M}_\\odot$', rotation=-90, ha='left', va='center', transform=axes[0,2].transAxes)\n",
    "axes[1,2].text(1, 0.5, r'$m_1>10\\,\\mathrm{M}_\\odot$', rotation=-90, ha='left', va='center', transform=axes[1,2].transAxes)\n",
    "    \n",
    "\n",
    "fig.text(0.5, 0.05, '$\\mathrm{[Fe/H]}$',va='top', ha='center')\n",
    "fig.text(0.07, 0.5, '$\\\\alpha$', rotation=90, va='bottom', ha='right')\n",
    "\n",
    "plt.savefig(FIGURE_FOLDER/f'imf_exponent_allmult_1e6.pdf', bbox_inches='tight')\n",
    "plt.savefig(FIGURE_FOLDER/f'imf_exponent_allmult_1e6.png', bbox_inches='tight')"
   ]
  },
  {
   "cell_type": "markdown",
   "id": "5264fcc1",
   "metadata": {},
   "source": [
    "Figure 13"
   ]
  },
  {
   "cell_type": "code",
   "execution_count": 29,
   "id": "272cee49-ab9b-4624-b870-2b31acdbdaa0",
   "metadata": {},
   "outputs": [
    {
     "data": {
      "image/png": "[encoded data removed]",
      "text/plain": [
       "<Figure size 1296x648 with 4 Axes>"
      ]
     },
     "metadata": {},
     "output_type": "display_data"
    }
   ],
   "source": [
    "fig, axes = plt.subplots(2, 2, figsize=(18,9), sharey='row', sharex='col')\n",
    "fig.subplots_adjust(hspace=0, wspace=0)\n",
    "rect = fig.patch\n",
    "rect.set_facecolor('white')\n",
    "\n",
    "plot_zs = np.array(list(allmult_slope_dict.keys()))[[3]]\n",
    "for z, ax in zip(plot_zs, axes[0,1:]):\n",
    "    z_dict = allmult_slope_dict[z]\n",
    "    \n",
    "    fehs = []\n",
    "    m1slopess = []\n",
    "    m2slopess = []\n",
    "    m3slopess = []\n",
    "    m4slopess = []\n",
    "    m5slopess = []\n",
    "    mallslopess = []\n",
    "    for feh in z_dict:\n",
    "        m1slopes = z_dict[feh]['$m_1$']\n",
    "        m2slopes = z_dict[feh]['$m_2$']\n",
    "        m3slopes = z_dict[feh]['$m_3$']\n",
    "        m4slopes = z_dict[feh]['$m_4$']\n",
    "        m5slopes = z_dict[feh]['$m_5$']\n",
    "        mallslopes = z_dict[feh]['all $m_i$']\n",
    "        fehs.append(feh)\n",
    "        m1slopess.append(m1slopes)\n",
    "        m2slopess.append(m2slopes)\n",
    "        m3slopess.append(m3slopes)\n",
    "        m4slopess.append(m4slopes)\n",
    "        m5slopess.append(m5slopes)\n",
    "        mallslopess.append(mallslopes)\n",
    "\n",
    "    m1slopess = np.array(m1slopess)\n",
    "    m2slopess = np.array(m2slopess)\n",
    "    m3slopess = np.array(m3slopess)\n",
    "    m4slopess = np.array(m4slopess)\n",
    "    m5slopess = np.array(m5slopess)\n",
    "    mallslopess = np.array(mallslopess)\n",
    "\n",
    "    ax.plot(fehs, m1slopess[:,1], 'r-', lw=2)\n",
    "    ax.plot(fehs, m2slopess[:,1], 'b-', lw=2)\n",
    "    ax.plot(fehs, m3slopess[:,1], 'm-', lw=2)\n",
    "    ax.plot(fehs, m4slopess[:,1], 'y-', lw=2)\n",
    "    ax.plot(fehs, m5slopess[:,1], 'c-', lw=2)\n",
    "    ax.plot(fehs, mallslopess[:,1], 'k-', lw=3)\n",
    "\n",
    "for z, ax in zip(plot_zs, axes[1,1:]):\n",
    "    z_dict = allmult_slope_dict[z]\n",
    "    \n",
    "    fehs = []\n",
    "    m1slopess = []\n",
    "    m2slopess = []\n",
    "    m3slopess = []\n",
    "    m4slopess = []\n",
    "    m5slopess = []\n",
    "    mallslopess = []\n",
    "    for feh in z_dict:\n",
    "        m1slopes = z_dict[feh]['$m_1$']\n",
    "        m2slopes = z_dict[feh]['$m_2$']\n",
    "        m3slopes = z_dict[feh]['$m_3$']\n",
    "        m4slopes = z_dict[feh]['$m_4$']\n",
    "        m5slopes = z_dict[feh]['$m_5$']\n",
    "        mallslopes = z_dict[feh]['all $m_i$']\n",
    "        fehs.append(feh)\n",
    "        m1slopess.append(m1slopes)\n",
    "        m2slopess.append(m2slopes)\n",
    "        m3slopess.append(m3slopes)\n",
    "        m4slopess.append(m4slopes)\n",
    "        m5slopess.append(m5slopes)\n",
    "        mallslopess.append(mallslopes)\n",
    "\n",
    "    m1slopess = np.array(m1slopess)\n",
    "    m2slopess = np.array(m2slopess)\n",
    "    m3slopess = np.array(m3slopess)\n",
    "    m4slopess = np.array(m4slopess)\n",
    "    m5slopess = np.array(m5slopess)\n",
    "    mallslopess = np.array(mallslopess)\n",
    "\n",
    "    ax.plot(fehs, m1slopess[:,2], 'r-', lw=2)\n",
    "    ax.plot(fehs, m2slopess[:,2], 'b-', lw=2)\n",
    "    ax.plot(fehs, m3slopess[:,2], 'm-', lw=2)\n",
    "    ax.plot(fehs, m4slopess[:,2], 'y-', lw=2)\n",
    "    ax.plot(fehs, m5slopess[:,2], 'c-', lw=2)\n",
    "    ax.plot(fehs, mallslopess[:,2], 'k-', lw=3)\n",
    "\n",
    "for z, ax in zip(plot_zs, axes[0,:1]):\n",
    "    z_dict = onlybin_slope_dict[z]\n",
    "    \n",
    "    fehs = []\n",
    "    m1slopess = []\n",
    "    m2slopess = []\n",
    "    mallslopess = []\n",
    "    for feh in z_dict:\n",
    "        m1slopes = z_dict[feh]['$m_1$']\n",
    "        m2slopes = z_dict[feh]['$m_2$']\n",
    "        mallslopes = z_dict[feh]['all $m_i$']\n",
    "        fehs.append(feh)\n",
    "        m1slopess.append(m1slopes)\n",
    "        m2slopess.append(m2slopes)\n",
    "        mallslopess.append(mallslopes)\n",
    "\n",
    "    m1slopess = np.array(m1slopess)\n",
    "    m2slopess = np.array(m2slopess)\n",
    "    mallslopess = np.array(mallslopess)\n",
    "\n",
    "    ax.plot(fehs, m1slopess[:,1], 'r-', lw=2)\n",
    "    ax.plot(fehs, m2slopess[:,1], 'b-', lw=2)\n",
    "    ax.plot(fehs, mallslopess[:,1], 'k-', lw=3)\n",
    "\n",
    "for z, ax in zip(plot_zs, axes[1,:1]):\n",
    "    z_dict = onlybin_slope_dict[z]\n",
    "    \n",
    "    fehs = []\n",
    "    m1slopess = []\n",
    "    m2slopess = []\n",
    "    mallslopess = []\n",
    "    for feh in z_dict:\n",
    "        m1slopes = z_dict[feh]['$m_1$']\n",
    "        m2slopes = z_dict[feh]['$m_2$']\n",
    "        mallslopes = z_dict[feh]['all $m_i$']\n",
    "        fehs.append(feh)\n",
    "        m1slopess.append(m1slopes)\n",
    "        m2slopess.append(m2slopes)\n",
    "        mallslopess.append(mallslopes)\n",
    "\n",
    "    m1slopess = np.array(m1slopess)\n",
    "    m2slopess = np.array(m2slopess)\n",
    "    mallslopess = np.array(mallslopess)\n",
    "\n",
    "    ax.plot(fehs, m1slopess[:,2], 'r-', lw=2)\n",
    "    ax.plot(fehs, m2slopess[:,2], 'b-', lw=2)\n",
    "    ax.plot(fehs, mallslopess[:,2], 'k-', lw=3)\n",
    "    \n",
    "for ax in axes[0]:\n",
    "    #ax.set_xlim(-3, 0.7)\n",
    "    ax.set_ylim(-2.35, 0)\n",
    "    ax.hlines(-2.3, -3, 0.5, color='k', ls=':', lw=2)\n",
    "    #ax.set_yticks(np.arange(-2.5, 0, 0.5))\n",
    "    \n",
    "for ax in axes[1]:\n",
    "    #ax.set_xlim(-3, 0.7)\n",
    "    ax.set_ylim(-3, 0.5)\n",
    "    ax.hlines(-2.3, -3, 1, color='k', ls=':', lw=2)\n",
    "    #ax.set_yticks(np.arange(-2.5, 0, 0.5))\n",
    "\n",
    "axes[0,0].set_xlim(-2.2, 0.6)\n",
    "axes[0,1].set_xlim(-2.2, 0.6)\n",
    "#axes[0,2].set_xlim(-2.9, 0)\n",
    "    \n",
    "#axes[0,0].set_yticks(np.arange(-2.5, 0.5, 0.5))\n",
    "handles = [Line2D([2], [1], color='k', lw=3, label='all $m_i$'),\n",
    "           Line2D([2], [1], color='r', lw=2, label='$m_1$'),\n",
    "           Line2D([2], [1], color='b', lw=2, label='$m_2$'),\n",
    "           Line2D([2], [1], color='m', lw=2, label='$m_3$'),\n",
    "           Line2D([2], [1], color='y', lw=2, label='$m_4$'),\n",
    "           Line2D([2], [1], color='c', lw=2, label='$m_5$'),\n",
    "           Line2D([2], [1], color='k', lw=2, ls=':', label='Salpeter-Massey index')]\n",
    "axes[0,0].legend(handles=handles, frameon=True, loc='lower left', bbox_to_anchor=(0,1.2), ncol=4, edgecolor='black', fancybox=False, borderpad=0.2, fontsize=24)\n",
    "\n",
    "axes[0,1].text(0.1, 0.9, f'$z={plot_zs[0]:.2f}$', ha='left', va='top', transform=axes[0,0].transAxes)\n",
    "\n",
    "axes[0,1].text(1, 0.5, r'$m\\leq10\\,\\mathrm{M}_\\odot$', rotation=-90, ha='left', va='center', transform=axes[0,1].transAxes)\n",
    "axes[1,1].text(1, 0.5, r'$m>10\\,\\mathrm{M}_\\odot$', rotation=-90, ha='left', va='center', transform=axes[1,1].transAxes)\n",
    "\n",
    "axes[0,1].text(0.5, 1, 'Varying+OB', ha='center', va='bottom', transform=axes[0,0].transAxes)\n",
    "axes[0,0].text(0.5, 1, 'Varying+AM', ha='center', va='bottom', transform=axes[0,1].transAxes)\n",
    "    \n",
    "\n",
    "fig.text(0.5, 0.05, '$\\mathrm{[Fe/H]}$',va='top', ha='center')\n",
    "fig.text(0.07, 0.5, '$\\\\alpha$', rotation=90, va='bottom', ha='right')\n",
    "\n",
    "plt.savefig(FIGURE_FOLDER/f'imf_exponent_amob_comparison_1e6.pdf', bbox_inches='tight')\n",
    "plt.savefig(FIGURE_FOLDER/f'imf_exponent_amob_comparison_1e6.png', bbox_inches='tight')"
   ]
  },
  {
   "cell_type": "code",
   "execution_count": 28,
   "id": "cd3eb478-3b68-461a-b2b6-5910d16f05b4",
   "metadata": {},
   "outputs": [
    {
     "ename": "SyntaxError",
     "evalue": "invalid syntax (316154512.py, line 123)",
     "output_type": "error",
     "traceback": [
      "\u001b[0;36m  Input \u001b[0;32mIn [28]\u001b[0;36m\u001b[0m\n\u001b[0;31m    plt.savefig(FIGURE_FOLDER/f'imf_exponent_canon_allmult_1e6.png', bbox_inches='tight')are never repeated, so for the plot we collect\u001b[0m\n\u001b[0m                                                                                         ^\u001b[0m\n\u001b[0;31mSyntaxError\u001b[0m\u001b[0;31m:\u001b[0m invalid syntax\n"
     ]
    }
   ],
   "source": [
    "fig, axes = plt.subplots(2, 3, figsize=(18,9), sharey='row', sharex='col')\n",
    "fig.subplots_adjust(hspace=0, wspace=0)\n",
    "rect = fig.patch\n",
    "rect.set_facecolor('white')\n",
    "\n",
    "plot_zs = list(allmult_slope_dict.keys())[::4]\n",
    "for z, ax in zip(plot_zs, axes[0]):\n",
    "    z_dict = allmult_canon_slope_dict[z]\n",
    "    \n",
    "    fehs = []\n",
    "    m1slopess = []\n",
    "    m2slopess = []\n",
    "    m3slopess = []\n",
    "    m4slopess = []\n",
    "    m5slopess = []\n",
    "    mallslopess = []\n",
    "    for feh in z_dict:\n",
    "        m1slopes = z_dict[feh]['$m_1$']\n",
    "        m2slopes = z_dict[feh]['$m_2$']\n",
    "        m3slopes = z_dict[feh]['$m_3$']\n",
    "        m4slopes = z_dict[feh]['$m_4$']\n",
    "        m5slopes = z_dict[feh]['$m_5$']\n",
    "        mallslopes = z_dict[feh]['all $m_i$']\n",
    "        fehs.append(feh)\n",
    "        m1slopess.append(m1slopes)\n",
    "        m2slopess.append(m2slopes)\n",
    "        m3slopess.append(m3slopes)\n",
    "        m4slopess.append(m4slopes)\n",
    "        m5slopess.append(m5slopes)\n",
    "        mallslopess.append(mallslopes)\n",
    "\n",
    "    m1slopess = np.array(m1slopess)\n",
    "    m2slopess = np.array(m2slopess)\n",
    "    m3slopess = np.array(m3slopess)\n",
    "    m4slopess = np.array(m4slopess)\n",
    "    m5slopess = np.array(m5slopess)\n",
    "    mallslopess = np.array(mallslopess)\n",
    "\n",
    "    ax.plot(fehs, m1slopess[:,1], 'r-', lw=2)\n",
    "    ax.plot(fehs, m2slopess[:,1], 'b-', lw=2)\n",
    "    ax.plot(fehs, m3slopess[:,1], 'm-', lw=2)\n",
    "    ax.plot(fehs, m4slopess[:,1], 'y-', lw=2)\n",
    "    ax.plot(fehs, m5slopess[:,1], 'c-', lw=2)\n",
    "    ax.plot(fehs, mallslopess[:,1], 'k-', lw=3)\n",
    "\n",
    "for z, ax in zip(plot_zs, axes[1]):\n",
    "    z_dict = allmult_canon_slope_dict[z]\n",
    "    \n",
    "    fehs = []\n",
    "    m1slopess = []\n",
    "    m2slopess = []\n",
    "    m3slopess = []\n",
    "    m4slopess = []\n",
    "    m5slopess = []\n",
    "    mallslopess = []\n",
    "    for feh in z_dict:\n",
    "        m1slopes = z_dict[feh]['$m_1$']\n",
    "        m2slopes = z_dict[feh]['$m_2$']\n",
    "        m3slopes = z_dict[feh]['$m_3$']\n",
    "        m4slopes = z_dict[feh]['$m_4$']\n",
    "        m5slopes = z_dict[feh]['$m_5$']\n",
    "        mallslopes = z_dict[feh]['all $m_i$']\n",
    "        fehs.append(feh)\n",
    "        m1slopess.append(m1slopes)\n",
    "        m2slopess.append(m2slopes)\n",
    "        m3slopess.append(m3slopes)\n",
    "        m4slopess.append(m4slopes)\n",
    "        m5slopess.append(m5slopes)\n",
    "        mallslopess.append(mallslopes)\n",
    "\n",
    "    m1slopess = np.array(m1slopess)\n",
    "    m2slopess = np.array(m2slopess)\n",
    "    m3slopess = np.array(m3slopess)\n",
    "    m4slopess = np.array(m4slopess)\n",
    "    m5slopess = np.array(m5slopess)\n",
    "    mallslopess = np.array(mallslopess)\n",
    "\n",
    "    ax.plot(fehs, m1slopess[:,2], 'r-', lw=2)\n",
    "    ax.plot(fehs, m2slopess[:,2], 'b-', lw=2)\n",
    "    ax.plot(fehs, m3slopess[:,2], 'm-', lw=2)\n",
    "    ax.plot(fehs, m4slopess[:,2], 'y-', lw=2)\n",
    "    ax.plot(fehs, m5slopess[:,2], 'c-', lw=2)\n",
    "    ax.plot(fehs, mallslopess[:,2], 'k-', lw=3)\n",
    "\n",
    "    \n",
    "for ax in axes[0]:\n",
    "    #ax.set_xlim(-3, 0.7)\n",
    "    #ax.set_ylim(-2.35, 0)\n",
    "    ax.hlines(-2.3, -3, 0.5, color='k', ls=':', lw=2)\n",
    "    #ax.set_yticks(np.arange(-2.5, 0, 0.5))\n",
    "    \n",
    "for ax in axes[1]:\n",
    "    #ax.set_xlim(-3, 0.7)\n",
    "    #ax.set_ylim(-3, 0.5)\n",
    "    ax.hlines(-2.3, -3, 0.5, color='k', ls=':', lw=2)\n",
    "    #ax.set_yticks(np.arange(-2.5, 0, 0.5))\n",
    "\n",
    "axes[0,0].set_xlim(-2, 0.5)\n",
    "axes[0,1].set_xlim(-2.3, 0.4)\n",
    "axes[0,2].set_xlim(-2.9, 0)\n",
    "    \n",
    "#axes[0,0].set_yticks(np.arange(-2.5, 0.5, 0.5))\n",
    "handles = [Line2D([2], [1], color='k', lw=3, label='all $m_i$'),\n",
    "           Line2D([2], [1], color='r', lw=2, label='$m_1$'),\n",
    "           Line2D([2], [1], color='b', lw=2, label='$m_2$'),\n",
    "           Line2D([2], [1], color='m', lw=2, label='$m_3$'),\n",
    "           Line2D([2], [1], color='y', lw=2, label='$m_4$'),\n",
    "           Line2D([2], [1], color='c', lw=2, label='$m_5$'),\n",
    "           Line2D([2], [1], color='k', lw=2, ls=':', label='Salpeter-Massey index')]\n",
    "axes[0,0].legend(handles=handles, frameon=True, loc='lower left', bbox_to_anchor=(0,1.2), ncol=4, edgecolor='black', fancybox=False, borderpad=0.2, fontsize=24)\n",
    "\n",
    "for z, ax in zip(plot_zs, axes[0]):\n",
    "    ax.text(0.5, 1, f'$z={z}$', ha='center', va='bottom', transform=ax.transAxes)\n",
    "\n",
    "axes[0,2].text(1, 0.5, r'$m_1\\leq10\\,\\mathrm{M}_\\odot$', rotation=-90, ha='left', va='center', transform=axes[0,2].transAxes)\n",
    "axes[1,2].text(1, 0.5, r'$m_1>10\\,\\mathrm{M}_\\odot$', rotation=-90, ha='left', va='center', transform=axes[1,2].transAxes)\n",
    "    \n",
    "\n",
    "fig.text(0.5, 0.05, '$\\mathrm{[Fe/H]}$',va='top', ha='center')\n",
    "fig.text(0.07, 0.5, '$\\\\alpha$', rotation=90, va='bottom', ha='right')\n",
    "\n",
    "plt.savefig(FIGURE_FOLDER/f'imf_exponent_canon_allmult_1e6.pdf', bbox_inches='tight')\n",
    "plt.savefig(FIGURE_FOLDER/f'imf_exponent_canon_allmult_1e6.png', bbox_inches='tight')are never repeated, so for the plot we collect"
   ]
  },
  {
   "cell_type": "code",
   "execution_count": null,
   "id": "ea1e2922-4d9b-4628-a41b-6bd38330b8a6",
   "metadata": {},
   "outputs": [],
   "source": [
    "fig, axes = plt.subplots(2, 3, figsize=(18,9), sharey='row', sharex='col')\n",
    "fig.subplots_adjust(hspace=0, wspace=0)\n",
    "rect = fig.patch\n",
    "rect.set_facecolor('white')\n",
    "\n",
    "plot_zs = list(onlybin_slope_dict.keys())[::4]\n",
    "for z, ax in zip(plot_zs, axes[0]):\n",
    "    z_dict = onlybin_slope_dict[z]\n",
    "    \n",
    "    fehs = []\n",
    "    m1slopess = []\n",
    "    m2slopess = []\n",
    "    mallslopess = []\n",
    "    for feh in z_dict:\n",
    "        m1slopes = z_dict[feh]['$m_1$']\n",
    "        m2slopes = z_dict[feh]['$m_2$']\n",
    "        mallslopes = z_dict[feh]['all $m_i$']\n",
    "        fehs.append(feh)\n",
    "        m1slopess.append(m1slopes)\n",
    "        m2slopess.append(m2slopes)\n",
    "        mallslopess.append(mallslopes)\n",
    "\n",
    "    m1slopess = np.array(m1slopess)\n",
    "    m2slopess = np.array(m2slopess)\n",
    "    mallslopess = np.array(mallslopess)\n",
    "\n",
    "    ax.plot(fehs, m1slopess[:,1], 'r-', lw=2)\n",
    "    ax.plot(fehs, m1slopess[:,2], 'r--', lw=2)\n",
    "    ax.plot(fehs, m2slopess[:,1], 'b-', lw=2)\n",
    "    ax.plot(fehs, m2slopess[:,2], 'b--', lw=2)\n",
    "    ax.plot(fehs, mallslopess[:,1], 'g-', lw=2)\n",
    "    ax.plot(fehs, mallslopess[:,2], 'g--', lw=2)\n",
    "    \n",
    "for z, ax in zip(plot_zs, axes[1]):\n",
    "    z_dict = onlybin_canon_slope_dict[z]\n",
    "    \n",
    "    fehs = []\n",
    "    m1slopess = []\n",
    "    m2slopess = []\n",
    "    mallslopess = []\n",
    "    for feh in z_dict:\n",
    "        m1slopes = z_dict[feh]['$m_1$']\n",
    "        m2slopes = z_dict[feh]['$m_2$']\n",
    "        mallslopes = z_dict[feh]['all $m_i$']\n",
    "        fehs.append(feh)\n",
    "        m1slopess.append(m1slopes)\n",
    "        m2slopess.append(m2slopes)\n",
    "        mallslopess.append(mallslopes)\n",
    "\n",
    "    m1slopess = np.array(m1slopess)\n",
    "    m2slopess = np.array(m2slopess)\n",
    "    mallslopess = np.array(mallslopess)\n",
    "\n",
    "    ax.plot(fehs, m1slopess[:,0], 'r:', lw=2)\n",
    "    ax.plot(fehs, m2slopess[:,0], 'b:', lw=2)\n",
    "    ax.plot(fehs, mallslopess[:,0], 'g:', lw=2)\n",
    "    \n",
    "for ax in axes[0]:\n",
    "    #ax.set_xlim(-3, 0.7)\n",
    "    ax.set_ylim(-2.7, 0)\n",
    "    ax.hlines(-2.3, -3, 0.5, color='k', ls=':', lw=2)\n",
    "    ax.set_yticks(np.arange(-2.5, 0, 0.5))\n",
    "    \n",
    "for ax in axes[1]:\n",
    "    #ax.set_xlim(-3, 0.7)\n",
    "    ax.set_ylim(-3, -1.9)\n",
    "    ax.hlines(-2.3, -3, 0.5, color='k', ls=':', lw=2)\n",
    "    #ax.set_yticks(np.arange(-2.5, 0, 0.5))\n",
    "\n",
    "axes[0,0].set_xlim(-2, 0.5)\n",
    "axes[0,1].set_xlim(-2.3, 0.4)\n",
    "axes[0,2].set_xlim(-2.9, 0)\n",
    "    \n",
    "axes[0,0].set_yticks(np.arange(-2.5, 0.5, 0.5))\n",
    "handles = [Line2D([2], [1], color='g', label='all $m_i$'),\n",
    "           Line2D([2], [1], color='r', label='$m_1$'),\n",
    "           Line2D([2], [1], color='b', label='$m_2$'),\n",
    "           Line2D([2], [1], color='k', ls='-', lw=2, label='$m\\leq10\\,\\mathrm{M}_\\odot$'),\n",
    "           Line2D([2], [1], color='k', ls='--', lw=2, label='$m>10\\,\\mathrm{M}_\\odot$'),\n",
    "           Line2D([2], [1], color='k', ls=':', lw=2, label='Salpeter-Massey index')]\n",
    "axes[0,0].legend(handles=handles, frameon=True, loc='lower left', bbox_to_anchor=(0,1.2), ncol=3, edgecolor='black', fancybox=False, borderpad=0.2, fontsize=24)\n",
    "\n",
    "for z, ax in zip(plot_zs, axes[0]):\n",
    "    ax.text(0.5, 1, f'$z={z}$', ha='center', va='bottom', transform=ax.transAxes)\n",
    "\n",
    "axes[0,2].text(1, 0.5, 'Varying', rotation=-90, ha='left', va='center', transform=axes[0,2].transAxes)\n",
    "axes[1,2].text(1, 0.5, 'Universal', rotation=-90, ha='left', va='center', transform=axes[1,2].transAxes)\n",
    "    \n",
    "\n",
    "fig.text(0.5, 0.05, '$\\mathrm{[Fe/H]}$',va='top', ha='center')\n",
    "fig.text(0.07, 0.5, '$\\\\alpha$', rotation=90, va='bottom', ha='right')"
   ]
  },
  {
   "cell_type": "code",
   "execution_count": 102,
   "id": "bb522bbb-f2fb-4854-8e10-5df97156f3a3",
   "metadata": {},
   "outputs": [
    {
     "data": {
      "text/plain": [
       "<matplotlib.legend.Legend at 0x7faaf50ac8b0>"
      ]
     },
     "execution_count": 102,
     "metadata": {},
     "output_type": "execute_result"
    },
    {
     "data": {
      "image/png": "[encoded data removed]",
      "text/plain": [
       "<Figure size 1152x1152 with 9 Axes>"
      ]
     },
     "metadata": {},
     "output_type": "display_data"
    }
   ],
   "source": [
    "fig, axes = plt.subplots(3, 3, figsize=(16,16), sharey=True, sharex=True)\n",
    "fig.subplots_adjust(hspace=0, wspace=0)\n",
    "rect = fig.patch\n",
    "rect.set_facecolor('white')\n",
    "\n",
    "for z, ax in zip(slope_dict, axes.flatten()):\n",
    "    z_dict = slope_dict[z]\n",
    "    fehs = []\n",
    "    m1slopess = []\n",
    "    m2slopess = []\n",
    "    mallslopess = []\n",
    "    for feh in z_dict:\n",
    "        m1slopes = z_dict[feh]['$m_1$']\n",
    "        m2slopes = z_dict[feh]['$m_2$']\n",
    "        mallslopes = z_dict[feh]['all $m_i$']\n",
    "        fehs.append(feh)\n",
    "        m1slopess.append(m1slopes)\n",
    "        m2slopess.append(m2slopes)\n",
    "        mallslopess.append(mallslopes)\n",
    "    m1slopess = np.array(m1slopess)\n",
    "    m2slopess = np.array(m2slopess)\n",
    "    mallslopess = np.array(mallslopess)\n",
    "    \n",
    "    ax.plot(fehs, m1slopess[:,0], 'g-')\n",
    "    ax.plot(fehs, m1slopess[:,1], 'r-')\n",
    "    ax.plot(fehs, m1slopess[:,2], 'b-')\n",
    "    ax.text(0.1, 0.9, f'{z=}', ha='left', va='top', transform=ax.transAxes)\n",
    "    \n",
    "for ax in axes.flatten():\n",
    "    ax.set_xlim(-3, 0.5)\n",
    "    ax.set_ylim(-2.5, 0)\n",
    "\n",
    "handles = [Line2D([2], [1], color='g', label='all $m_i$'),\n",
    "           Line2D([2], [1], color='r', label='$m_1$'),\n",
    "           Line2D([2], [1], color='b', label='$m_2$')]\n",
    "axes[0,0].legend(handles=handles, frameon=True, loc='lower left', bbox_to_anchor=(0,1.), ncol=4, edgecolor='black', fancybox=False, borderpad=0.2)"
   ]
  },
  {
   "cell_type": "code",
   "execution_count": 70,
   "id": "60ada05c-961c-42a2-ae71-48d0c11d85cb",
   "metadata": {
    "tags": []
   },
   "outputs": [
    {
     "ename": "IndexError",
     "evalue": "list index out of range",
     "output_type": "error",
     "traceback": [
      "\u001b[0;31m---------------------------------------------------------------------------\u001b[0m",
      "\u001b[0;31mIndexError\u001b[0m                                Traceback (most recent call last)",
      "Input \u001b[0;32mIn [70]\u001b[0m, in \u001b[0;36m<cell line: 7>\u001b[0;34m()\u001b[0m\n\u001b[1;32m      4\u001b[0m rect \u001b[38;5;241m=\u001b[39m fig\u001b[38;5;241m.\u001b[39mpatch\n\u001b[1;32m      5\u001b[0m rect\u001b[38;5;241m.\u001b[39mset_facecolor(\u001b[38;5;124m'\u001b[39m\u001b[38;5;124mwhite\u001b[39m\u001b[38;5;124m'\u001b[39m)\n\u001b[0;32m----> 7\u001b[0m z \u001b[38;5;241m=\u001b[39m \u001b[43mplot_zs\u001b[49m\u001b[43m[\u001b[49m\u001b[38;5;241;43m3\u001b[39;49m\u001b[43m]\u001b[49m\n\u001b[1;32m      9\u001b[0m \u001b[38;5;66;03m######### Q CORR ONLYBIN PLOT ###############\u001b[39;00m\n\u001b[1;32m     10\u001b[0m sample_paths_ \u001b[38;5;241m=\u001b[39m onlybin_sample_paths_dict[z]\n",
      "\u001b[0;31mIndexError\u001b[0m: list index out of range"
     ]
    },
    {
     "data": {
      "image/png": "[encoded data removed]",
      "text/plain": [
       "<Figure size 1728x1008 with 4 Axes>"
      ]
     },
     "metadata": {},
     "output_type": "display_data"
    }
   ],
   "source": [
    "fig, axes_ = plt.subplots(2, 2, figsize=(24, 14), sharex=True, sharey=True)\n",
    "axes = axes_#.flatten()\n",
    "fig.subplots_adjust(hspace=0, wspace=0)\n",
    "rect = fig.patch\n",
    "rect.set_facecolor('white')\n",
    "\n",
    "z = plot_zs[3]\n",
    "\n",
    "######### Q CORR ONLYBIN PLOT ###############\n",
    "sample_paths_ = onlybin_sample_paths_dict[z]\n",
    "ax = axes[1,0]\n",
    "\n",
    "for b in np.logspace(-5, 5, 10):\n",
    "    ms = np.concatenate((np.logspace(-2, np.log10(0.5), 20), np.logspace(np.log10(0.5), 2.5, 21)[1:]))\n",
    "    ax.plot(ms, [0.5*b*kroupa_imf(m) for m in ms], 'k--', lw=1, alpha=0.5)\n",
    "\n",
    "counter = 0\n",
    "for path in sample_paths_[[5]]:\n",
    "    sample_descr = path.name.split('_')[:-3]\n",
    "\n",
    "    sample_descr_dict = {}\n",
    "    for attr in sample_descr:\n",
    "        key, value = attr.split('=')\n",
    "        sample_descr_dict[key] = value\n",
    "\n",
    "    feh = np.float32(sample_descr_dict['feh'])\n",
    "    c = cm.viridis((feh-min_plot_feh)/norm_plot_feh)\n",
    "\n",
    "    sample_df = pd.read_parquet(path, engine='pyarrow')\n",
    "\n",
    "    legend = False\n",
    "    if counter == 0:\n",
    "        legend = True\n",
    "\n",
    "    corr_onlybin_mplots = plot_imf(ax, sample_df, sample_descr_dict, bins=np.logspace(np.log10(0.8), np.log10(150), 50), legend=False, kroupa=False, mindex=[0,1,-1], c=None, title=False)\n",
    "    counter += 1\n",
    "\n",
    "ax.set_xlim(0.8, 150)\n",
    "ax.set_ylim(1e-5, 2e0)\n",
    "\n",
    "######### Q NOCORR ONLYBIN PLOT ###############\n",
    "sample_paths_ = onlybin_canon_sample_paths_dict[z]\n",
    "ax = axes[0,0]\n",
    "\n",
    "for b in np.logspace(-5, 5, 10):\n",
    "    ms = np.concatenate((np.logspace(-2, np.log10(0.5), 20), np.logspace(np.log10(0.5), 2.5, 21)[1:]))\n",
    "    ax.plot(ms, [0.5*b*kroupa_imf(m) for m in ms], 'k--', lw=1, alpha=0.5)\n",
    "\n",
    "counter = 0\n",
    "for path in sample_paths_[[5]]:\n",
    "    sample_descr = path.name.split('_')[:-3]\n",
    "\n",
    "    sample_descr_dict = {}\n",
    "    for attr in sample_descr:\n",
    "        key, value = attr.split('=')\n",
    "        sample_descr_dict[key] = value\n",
    "\n",
    "    feh = np.float32(sample_descr_dict['feh'])\n",
    "    c = cm.viridis((feh-min_plot_feh)/norm_plot_feh)\n",
    "\n",
    "    sample_df = pd.read_parquet(path, engine='pyarrow')\n",
    "\n",
    "    legend = False\n",
    "    if counter == 0:\n",
    "        legend = True\n",
    "\n",
    "    nocorr_onlybin_mplots = plot_imf(ax, sample_df, sample_descr_dict, bins=np.logspace(np.log10(0.8), np.log10(150), 50), legend=False, kroupa=True, mindex=[0,1,-1], c=None, title=False)\n",
    "    counter += 1\n",
    "\n",
    "ax.set_xlim(0.8, 150)\n",
    "ax.set_ylim(1e-5, 2e0)\n",
    "\n",
    "#################### Q CORR ALLMULT PLOT ################\n",
    "sample_paths_ = allmult_sample_paths_dict[z]   \n",
    "ax = axes[1,1]\n",
    "\n",
    "for b in np.logspace(-5, 5, 10):\n",
    "    ms = np.concatenate((np.logspace(-2, np.log10(0.5), 20), np.logspace(np.log10(0.5), 2.5, 21)[1:]))\n",
    "    ax.plot(ms, [0.5*b*kroupa_imf(m) for m in ms], 'k--', lw=1, alpha=0.5)\n",
    "\n",
    "counter = 0\n",
    "for path in sample_paths_[[5]]:\n",
    "    sample_descr = path.name.split('_')[:-3]\n",
    "\n",
    "    sample_descr_dict = {}\n",
    "    for attr in sample_descr:\n",
    "        key, value = attr.split('=')\n",
    "        sample_descr_dict[key] = value\n",
    "\n",
    "    feh = np.float32(sample_descr_dict['feh'])\n",
    "    #c = cm.viridis(counter/9)\n",
    "    c = cm.viridis((feh-min_plot_feh)/norm_plot_feh)\n",
    "\n",
    "    sample_df = pd.read_parquet(path, engine='pyarrow')\n",
    "\n",
    "    legend = False\n",
    "    if counter == 0:\n",
    "        legend = True\n",
    "\n",
    "    corr_allmult_mplots = plot_imf(ax, sample_df, sample_descr_dict, bins=np.logspace(np.log10(0.8), np.log10(150), 50), legend=False, kroupa=False, mindex=[0,1,2,3,4,-1], c=None, title=False)\n",
    "    counter += 1\n",
    "\n",
    "ax.set_xlim(0.8, 150)\n",
    "ax.set_ylim(1e-5, 2e0)\n",
    "\n",
    "#################### Q NOCORR ALLMULT PLOT ################\n",
    "sample_paths_ = allmult_canon_sample_paths_dict[z]   \n",
    "ax = axes[0,1]\n",
    "\n",
    "for b in np.logspace(-5, 5, 10):\n",
    "    ms = np.concatenate((np.logspace(-2, np.log10(0.5), 20), np.logspace(np.log10(0.5), 2.5, 21)[1:]))\n",
    "    #ax.plot(ms, 0.5*b*ms**-2.3, 'k--', lw=1, alpha=0.5)\n",
    "    ax.plot(ms, [0.5*b*kroupa_imf(m) for m in ms], 'k--', lw=1, alpha=0.5)\n",
    "\n",
    "counter = 0\n",
    "for path in sample_paths_[[5]]:\n",
    "    sample_descr = path.name.split('_')[:-3]\n",
    "\n",
    "    sample_descr_dict = {}\n",
    "    for attr in sample_descr:\n",
    "        key, value = attr.split('=')\n",
    "        sample_descr_dict[key] = value\n",
    "\n",
    "    feh = np.float32(sample_descr_dict['feh'])\n",
    "    #c = cm.viridis(counter/9)\n",
    "    c = cm.viridis((feh-min_plot_feh)/norm_plot_feh)\n",
    "\n",
    "    sample_df = pd.read_parquet(path, engine='pyarrow')\n",
    "\n",
    "    legend = False\n",
    "    if counter == 0:\n",
    "        legend = True\n",
    "\n",
    "    nocorr_allmult_mplots = plot_imf(ax, sample_df, sample_descr_dict, bins=np.logspace(np.log10(0.8), np.log10(150), 50), legend=False, kroupa=True, mindex=[0,1,2,3,4,-1], c=None, title=False)\n",
    "    counter += 1\n",
    "\n",
    "z_descr_str = '\\n'.join([f'$z_\\mathrm{{ZAMS}}={z:.2f}$',\n",
    "                         f'$\\mathrm{{[Fe/H]}}={feh:.2f}$'])\n",
    "z_descr = ax.text(0.95, 0.95, z_descr_str, ha='right', va='top', transform=ax.transAxes, fontsize=30)\n",
    "z_descr.set_bbox(dict(facecolor='white', alpha=0.6, edgecolor='gray'))\n",
    "\n",
    "############ FINAL DETAILS #############\n",
    "\n",
    "for ax in axes.flatten():\n",
    "    ax.set_xlim(0.8, 150)\n",
    "    ax.set_ylim(7e-6, 2e0)\n",
    "    ax.tick_params(labelsize=30)\n",
    "    \n",
    "fig.text(0.5, 1, 'Only binaries', ha='center', va='bottom', transform=axes[0,0].transAxes, fontsize=36)\n",
    "fig.text(0.5, 1, 'All multiples', ha='center', va='bottom', transform=axes[0,1].transAxes, fontsize=36)\n",
    "fig.text(1.02, 0.5, 'IGIMF', ha='left', va='center', rotation=-90, transform=axes[1,1].transAxes, fontsize=36)\n",
    "fig.text(1.02, 0.5, 'Kroupa', ha='left', va='center', rotation=-90, transform=axes[0,1].transAxes, fontsize=36)\n",
    "\n",
    "fig.text(0.07, 0.5, r'$\\log\\left[\\xi_g\\,\\left(m|\\mathrm{[Fe/H]},\\mathrm{SFR}\\right)/(\\mathrm{M}_\\odot^{-1})\\right]$', \n",
    "         ha='right', va='center', rotation=90, transform=fig.transFigure, fontsize=36)\n",
    "fig.text(0.5, 0.05, r'$\\log\\left(m/\\mathrm{M}_\\odot\\right)$', ha='center', va='top', fontsize=36)\n",
    "\n",
    "mplots = [['r', '--', r'$m_1$'],\n",
    "         ['b', '--', r'$m_2$'],\n",
    "         ['m', '--', r'$m_3$'],\n",
    "         ['y', '--', r'$m_4$'],\n",
    "         ['c', '--', r'$m_5$'],\n",
    "         ['g', '-', r'all $m_i$']]\n",
    "\n",
    "for ax in [axes[0,0]]:\n",
    "    handles = []\n",
    "    for mplot in mplots:\n",
    "        sample_line = Line2D([0], [0], label=mplot[2], color=mplot[0], linestyle=mplot[1])\n",
    "        handles.append(sample_line)\n",
    "    igimf_line = Line2D([0], [0], label='IGIMF', color='k',  linestyle='-')\n",
    "    kroupa_line = Line2D([0], [0], label='Kroupa', color='k', linestyle='--')\n",
    "    handles += [kroupa_line, igimf_line]\n",
    "    ax.legend(handles=handles, frameon=True, loc='lower left', bbox_to_anchor=(0,1.1), ncol=4, edgecolor='black', fancybox=False, borderpad=0.2)\n",
    "    \n",
    "plt.savefig(FIGURE_FOLDER/f'imf_sampling_comparison_1e4.pdf', bbox_inches='tight')\n",
    "plt.savefig(FIGURE_FOLDER/f'imf_sampling_comparison_1e4.png', bbox_inches='tight')"
   ]
  },
  {
   "cell_type": "code",
   "execution_count": 71,
   "id": "d7103ce7-c0c5-4c27-87e8-28c1e56ba313",
   "metadata": {},
   "outputs": [
    {
     "ename": "NameError",
     "evalue": "name 'corr_onlybin_mplots' is not defined",
     "output_type": "error",
     "traceback": [
      "\u001b[0;31m---------------------------------------------------------------------------\u001b[0m",
      "\u001b[0;31mNameError\u001b[0m                                 Traceback (most recent call last)",
      "Input \u001b[0;32mIn [71]\u001b[0m, in \u001b[0;36m<cell line: 1>\u001b[0;34m()\u001b[0m\n\u001b[0;32m----> 1\u001b[0m samples_mplots \u001b[38;5;241m=\u001b[39m {\u001b[38;5;124m'\u001b[39m\u001b[38;5;124mcorr_onlybin\u001b[39m\u001b[38;5;124m'\u001b[39m: \u001b[43mcorr_onlybin_mplots\u001b[49m, \n\u001b[1;32m      2\u001b[0m                   \u001b[38;5;124m'\u001b[39m\u001b[38;5;124mnocorr_onlybin\u001b[39m\u001b[38;5;124m'\u001b[39m: nocorr_onlybin_mplots,\n\u001b[1;32m      3\u001b[0m                   \u001b[38;5;124m'\u001b[39m\u001b[38;5;124mcorr_allmult\u001b[39m\u001b[38;5;124m'\u001b[39m: corr_allmult_mplots,\n\u001b[1;32m      4\u001b[0m                   \u001b[38;5;124m'\u001b[39m\u001b[38;5;124mnocorr_allmult\u001b[39m\u001b[38;5;124m'\u001b[39m: nocorr_allmult_mplots}\n\u001b[1;32m      5\u001b[0m mplot_array_labels \u001b[38;5;241m=\u001b[39m [\u001b[38;5;124m'\u001b[39m\u001b[38;5;124mm1\u001b[39m\u001b[38;5;124m'\u001b[39m, \u001b[38;5;124m'\u001b[39m\u001b[38;5;124mm2\u001b[39m\u001b[38;5;124m'\u001b[39m, \u001b[38;5;124m'\u001b[39m\u001b[38;5;124mm3\u001b[39m\u001b[38;5;124m'\u001b[39m, \u001b[38;5;124m'\u001b[39m\u001b[38;5;124mm4\u001b[39m\u001b[38;5;124m'\u001b[39m, \u001b[38;5;124m'\u001b[39m\u001b[38;5;124mm5\u001b[39m\u001b[38;5;124m'\u001b[39m, \u001b[38;5;124m'\u001b[39m\u001b[38;5;124mm21\u001b[39m\u001b[38;5;124m'\u001b[39m, \u001b[38;5;124m'\u001b[39m\u001b[38;5;124mmall\u001b[39m\u001b[38;5;124m'\u001b[39m]\n\u001b[1;32m      7\u001b[0m \u001b[38;5;28;01mfor\u001b[39;00m sample_label \u001b[38;5;129;01min\u001b[39;00m samples_mplots:\n",
      "\u001b[0;31mNameError\u001b[0m: name 'corr_onlybin_mplots' is not defined"
     ]
    }
   ],
   "source": [
    "samples_mplots = {'corr_onlybin': corr_onlybin_mplots, \n",
    "                  'nocorr_onlybin': nocorr_onlybin_mplots,\n",
    "                  'corr_allmult': corr_allmult_mplots,\n",
    "                  'nocorr_allmult': nocorr_allmult_mplots}\n",
    "mplot_array_labels = ['m1', 'm2', 'm3', 'm4', 'm5', 'm21', 'mall']\n",
    "\n",
    "for sample_label in samples_mplots:pact object mergers. Released in 2019, the first Gravitational Wavepact object mergers. Released in 2019, the first Gravitational Wave\n",
    "    mplots = samples_mplots[sample_label]\n",
    "    for mplot, mplot_label in zip(mplots, mplot_array_labels):\n",
    "        mc, mh, color, ls, lw, label = mplot\n",
    "        mc = np.log10(mc)\n",
    "        mh = np.log10(mh)\n",
    "        mc10_i = np.searchsorted(mc, 1)\n",
    "        slope, *_ = linregress(mc, mh)\n",
    "        slope1, *_ = linregress(mc[:mc10_i], mh[:mc10_i])\n",
    "        slope2, *_ = linregress(mc[mc10_i:], mh[mc10_i:])\n",
    "        print(f'In {sample_label} label, {mplot_label} is best fit by a power-law {slope:.2f}, or {slope1:.2f} up to {10**mc[mc10_i]:.2f} Mo and {slope2:.2f} above.')\n",
    "    print('')"
   ]
  },
  {
   "cell_type": "code",
   "execution_count": null,
   "id": "5015921a-34e6-47ff-9435-22a00a9c66d9",
   "metadata": {},
   "outputs": [],
   "source": [
    "pact object mergers. Released in 2019, the first Gravitational Wave"
   ]
  }
 ],
 "metadata": {
  "kernelspec": {
   "display_name": "Python 3 (ipykernel)",
   "language": "python",
   "name": "python3"
  },
  "language_info": {
   "codemirror_mode": {
    "name": "ipython",
    "version": 3
   },
   "file_extension": ".py",
   "mimetype": "text/x-python",
   "name": "python",
   "nbconvert_exporter": "python",
   "pygments_lexer": "ipython3",
   "version": "3.9.12"
  }
 },
 "nbformat": 4,
 "nbformat_minor": 5
}
